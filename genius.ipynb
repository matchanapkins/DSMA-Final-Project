{
 "cells": [
  {
   "cell_type": "markdown",
   "metadata": {},
   "source": [
    "# Lyrics Scraping Using Genius API & Attempting LDA Topic Modeling\n",
    "## Lyrics Scraping withe Genius API:\n",
    "- used Genius API token to extract lyrics from their website\n",
    "- saved as .txt file for each album\n",
    "    - some albums are relatively smaller than the rest because they were collaborative albums; only the songs written and performed by the Bee Gees were included in said albums\n",
    "## LDA Topic Modeling:\n",
    "- attempted to visualize topics per album, but the preprocessing for each album led to extremely minimized lyrical data; therefore, the topic modeling shown is not an accurate depiction of what each album portrays"
   ]
  },
  {
   "cell_type": "code",
   "execution_count": 1,
   "metadata": {},
   "outputs": [],
   "source": [
    "GENIUS_API_TOKEN = 'p8ZqA7MVlhx3LGwfBsycIZ9xm7AGOhrJaUF4nmgrnSTPXQGqsh9hR-HaTC-1FRPm'"
   ]
  },
  {
   "cell_type": "code",
   "execution_count": 2,
   "metadata": {},
   "outputs": [
    {
     "name": "stderr",
     "output_type": "stream",
     "text": [
      "/Users/maika/Library/Python/3.9/lib/python/site-packages/urllib3/__init__.py:35: NotOpenSSLWarning: urllib3 v2 only supports OpenSSL 1.1.1+, currently the 'ssl' module is compiled with 'LibreSSL 2.8.3'. See: https://github.com/urllib3/urllib3/issues/3020\n",
      "  warnings.warn(\n"
     ]
    }
   ],
   "source": [
    "# Make HTTP requests\n",
    "import requests\n",
    "# Scrape data from an HTML document\n",
    "from bs4 import BeautifulSoup\n",
    "# I/O\n",
    "import os\n",
    "# Search and manipulate strings\n",
    "import re"
   ]
  },
  {
   "cell_type": "code",
   "execution_count": 5,
   "metadata": {},
   "outputs": [],
   "source": [
    "beegees_first_album = [\n",
    "    'https://genius.com/Bee-gees-turn-of-the-century-lyrics',\n",
    "    'https://genius.com/Bee-gees-holiday-lyrics',\n",
    "    'https://genius.com/Bee-gees-red-chair-fade-away-lyrics',\n",
    "    'https://genius.com/Bee-gees-one-minute-woman-lyrics',\n",
    "    'https://genius.com/Bee-gees-in-my-own-time-lyrics',\n",
    "    'https://genius.com/Bee-gees-every-christian-lion-hearted-man-will-show-you-lyrics',\n",
    "    'https://genius.com/Bee-gees-craise-finton-kirk-royal-academy-of-arts-lyrics',\n",
    "    'https://genius.com/Bee-gees-new-york-mining-disaster-1941-lyrics',\n",
    "    'https://genius.com/Bee-gees-cucumber-castle-lyrics',\n",
    "    'https://genius.com/Bee-gees-to-love-somebody-lyrics',\n",
    "    'https://genius.com/Bee-gees-i-close-my-eyes-lyrics',\n",
    "    'https://genius.com/Bee-gees-i-cant-see-nobody-lyrics',\n",
    "    'https://genius.com/Bee-gees-please-read-me-lyrics',\n",
    "    'https://genius.com/Bee-gees-close-another-door-lyrics',\n",
    "    'https://genius.com/Bee-gees-gilbert-green-lyrics',\n",
    "    'https://genius.com/Bee-gees-house-of-lords-lyrics',\n",
    "]"
   ]
  },
  {
   "cell_type": "code",
   "execution_count": 6,
   "metadata": {},
   "outputs": [],
   "source": [
    "beegees_idea_album = [\n",
    "    'https://genius.com/Bee-gees-let-there-be-love-lyrics',\n",
    "    'https://genius.com/Bee-gees-kitty-can-lyrics',\n",
    "    'https://genius.com/Bee-gees-in-the-summer-of-his-years-lyrics',\n",
    "    'https://genius.com/Bee-gees-indian-gin-and-whisky-dry-lyrics',\n",
    "    'https://genius.com/Bee-gees-down-to-earth-lyrics',\n",
    "    'https://genius.com/Bee-gees-such-a-shame-lyrics',\n",
    "    'https://genius.com/Bee-gees-idea-lyrics',\n",
    "    'https://genius.com/Bee-gees-when-the-swallows-fly-lyrics',\n",
    "    'https://genius.com/Bee-gees-ive-decided-to-join-the-airforce-lyrics',\n",
    "    'https://genius.com/Bee-gees-i-started-a-joke-lyrics',\n",
    "    'https://genius.com/Bee-gees-kilburn-towers-lyrics',\n",
    "    'https://genius.com/Bee-gees-swan-song-lyrics'\n",
    "]"
   ]
  },
  {
   "cell_type": "code",
   "execution_count": 7,
   "metadata": {},
   "outputs": [],
   "source": [
    "beegees_cucumbercastle_album = [\n",
    "    'https://genius.com/Bee-gees-if-only-i-had-my-mind-on-something-else-lyrics',\n",
    "    'https://genius.com/Bee-gees-ioio-lyrics',\n",
    "    'https://genius.com/Bee-gees-then-you-left-me-lyrics',\n",
    "    'https://genius.com/Bee-gees-the-lord-lyrics',\n",
    "    'https://genius.com/Bee-gees-i-was-the-child-lyrics',\n",
    "    'https://genius.com/Bee-gees-i-lay-down-and-die-lyrics',\n",
    "    'https://genius.com/Bee-gees-sweetheart-lyrics',\n",
    "    'https://genius.com/Bee-gees-bury-me-down-by-the-river-lyrics',\n",
    "    'https://genius.com/Bee-gees-my-thing-lyrics',\n",
    "    'https://genius.com/Bee-gees-the-chance-of-love-lyrics',\n",
    "    'https://genius.com/Bee-gees-turning-tide-lyrics',\n",
    "    'https://genius.com/Bee-gees-dont-forget-to-remember-lyrics'\n",
    "]"
   ]
  },
  {
   "cell_type": "code",
   "execution_count": 8,
   "metadata": {},
   "outputs": [],
   "source": [
    "beegees_trafalgar_album = [\n",
    "    'https://genius.com/Bee-gees-how-can-you-mend-a-broken-heart-lyrics',\n",
    "    'https://genius.com/Bee-gees-israel-lyrics',\n",
    "    'https://genius.com/Bee-gees-the-greatest-man-in-the-world-lyrics',\n",
    "    'https://genius.com/Bee-gees-its-just-the-way-lyrics',\n",
    "    'https://genius.com/Bee-gees-remembering-lyrics',\n",
    "    'https://genius.com/Bee-gees-somebody-stop-the-music-lyrics',\n",
    "    'https://genius.com/Bee-gees-trafalgar-lyrics',\n",
    "    'https://genius.com/Bee-gees-dont-wanna-live-inside-myself-lyrics',\n",
    "    'https://genius.com/Bee-gees-when-do-i-lyrics',\n",
    "    'https://genius.com/Bee-gees-dearest-lyrics',\n",
    "    'https://genius.com/Bee-gees-lion-in-winter-lyrics',\n",
    "    'https://genius.com/Bee-gees-walking-back-to-waterloo-lyrics',\n",
    "    'https://genius.com/Bee-gees-country-woman-lyrics',\n",
    "    'https://genius.com/Bee-gees-we-lost-the-road-lyrics'\n",
    "]"
   ]
  },
  {
   "cell_type": "code",
   "execution_count": 9,
   "metadata": {},
   "outputs": [],
   "source": [
    "beegees_maincourse_album = [\n",
    "    'https://genius.com/Bee-gees-nights-on-broadway-lyrics',\n",
    "    'https://genius.com/Bee-gees-jive-talkin-lyrics',\n",
    "    'https://genius.com/Bee-gees-wind-of-change-lyrics',\n",
    "    'https://genius.com/Bee-gees-songbird-lyrics',\n",
    "    'https://genius.com/Bee-gees-fanny-be-tender-with-my-love-lyrics',\n",
    "    'https://genius.com/Bee-gees-all-this-making-love-lyrics',\n",
    "    'https://genius.com/Bee-gees-country-lanes-lyrics',\n",
    "    'https://genius.com/Bee-gees-come-on-over-lyrics',\n",
    "    'https://genius.com/Bee-gees-edge-of-the-universe-lyrics',\n",
    "    'https://genius.com/Bee-gees-baby-as-you-turn-away-lyrics'\n",
    "]"
   ]
  },
  {
   "cell_type": "code",
   "execution_count": 10,
   "metadata": {},
   "outputs": [],
   "source": [
    "beegees_spirits_album = [\n",
    "    'https://genius.com/Bee-gees-tragedy-lyrics',\n",
    "    'https://genius.com/Bee-gees-too-much-heaven-lyrics',\n",
    "    'https://genius.com/Bee-gees-love-you-inside-out-lyrics',\n",
    "    'https://genius.com/Bee-gees-reaching-out-lyrics',\n",
    "    'https://genius.com/Bee-gees-spirits-having-flown-lyrics',\n",
    "    'https://genius.com/Bee-gees-search-find-lyrics',\n",
    "    'https://genius.com/Bee-gees-stop-think-again-lyrics',\n",
    "    'https://genius.com/Bee-gees-living-together-lyrics',\n",
    "    'https://genius.com/Bee-gees-im-satisfied-lyrics',\n",
    "    'https://genius.com/Bee-gees-until-lyrics'\n",
    "]"
   ]
  },
  {
   "cell_type": "code",
   "execution_count": 11,
   "metadata": {},
   "outputs": [],
   "source": [
    "beegees_saturday_album = [\n",
    "    'https://genius.com/Bee-gees-stayin-alive-lyrics',\n",
    "    'https://genius.com/Bee-gees-how-deep-is-your-love-lyrics',\n",
    "    'https://genius.com/Bee-gees-night-fever-lyrics',\n",
    "    'https://genius.com/Bee-gees-more-than-a-woman-lyrics',\n",
    "    'https://genius.com/Bee-gees-jive-talkin-lyrics',\n",
    "    'https://genius.com/Bee-gees-you-should-be-dancing-lyrics'\n",
    "]"
   ]
  },
  {
   "cell_type": "code",
   "execution_count": 12,
   "metadata": {},
   "outputs": [],
   "source": [
    "beegees_thisis_album = [\n",
    "    'https://genius.com/Bee-gees-this-is-where-i-came-in-lyrics',\n",
    "    'https://genius.com/Bee-gees-she-keeps-on-coming-lyrics',\n",
    "    'https://genius.com/Bee-gees-sacred-trust-lyrics',\n",
    "    'https://genius.com/Bee-gees-wedding-day-lyrics',\n",
    "    'https://genius.com/Bee-gees-man-in-the-middle-lyrics',\n",
    "    'https://genius.com/Bee-gees-deja-vu-lyrics',\n",
    "    'https://genius.com/Bee-gees-technicolor-dreams-lyrics',\n",
    "    'https://genius.com/Bee-gees-walking-on-air-lyrics',\n",
    "    'https://genius.com/Bee-gees-loose-talk-costs-lives-lyrics',\n",
    "    'https://genius.com/Bee-gees-embrace-lyrics',\n",
    "    'https://genius.com/Bee-gees-the-extra-mile-lyrics',\n",
    "    'https://genius.com/Bee-gees-voice-in-the-wilderness-lyrics',\n",
    "    'https://genius.com/Bee-gees-just-in-case-lyrics',\n",
    "    'https://genius.com/Bee-gees-promise-the-earth-lyrics'\n",
    "]"
   ]
  },
  {
   "cell_type": "code",
   "execution_count": 11,
   "metadata": {},
   "outputs": [],
   "source": [
    "beegees_barry_album = [\n",
    "    'https://genius.com/Bee-gees-i-was-a-lover-a-leader-of-men-lyrics',\n",
    "    'https://genius.com/Bee-gees-i-dont-think-its-funny-lyrics',\n",
    "    'https://genius.com/Bee-gees-how-love-was-true-lyrics',\n",
    "    'https://genius.com/Bee-gees-to-be-or-not-to-be-lyrics',\n",
    "    'https://genius.com/Bee-gees-timber-lyrics',\n",
    "    'https://genius.com/Bee-gees-claustrophobia-lyrics',\n",
    "    'https://genius.com/Bee-gees-could-it-be-lyrics',\n",
    "    'https://genius.com/Bee-gees-and-the-children-laughing-lyrics',\n",
    "    'https://genius.com/Bee-gees-wine-and-women-lyrics',\n",
    "    'https://genius.com/Bee-gees-dont-say-goodbye-lyrics',\n",
    "    'https://genius.com/Bee-gees-peace-of-mind-lyrics',\n",
    "    'https://genius.com/Bee-gees-take-hold-of-that-star-lyrics',\n",
    "    'https://genius.com/Bee-gees-you-wouldnt-know-lyrics',\n",
    "    'https://genius.com/Bee-gees-follow-the-wind-lyrics'\n",
    "]"
   ]
  },
  {
   "cell_type": "code",
   "execution_count": 3,
   "metadata": {},
   "outputs": [],
   "source": [
    "spicks_and_specks_album = [\n",
    "    'https://genius.com/Bee-gees-mondays-rain-lyrics',\n",
    "    'https://genius.com/Bee-gees-how-many-birds-lyrics',\n",
    "    'https://genius.com/Bee-gees-playdown-lyrics',\n",
    "    'https://genius.com/Bee-gees-second-hand-people-lyrics',\n",
    "    'https://genius.com/Bee-gees-i-dont-know-why-i-bother-with-myself-lyrics',\n",
    "    'https://genius.com/Bee-gees-big-chance-lyrics',\n",
    "    'https://genius.com/Bee-gees-spicks-and-specks-lyrics',\n",
    "    'https://genius.com/Bee-gees-jingle-jangle-lyrics',\n",
    "    'https://genius.com/Bee-gees-tint-of-blue-lyrics',\n",
    "    'https://genius.com/Bee-gees-where-are-you-lyrics',\n",
    "    'https://genius.com/Bee-gees-born-a-man-lyrics',\n",
    "    'https://genius.com/Bee-gees-glass-house-lyrics'\n",
    "]"
   ]
  },
  {
   "cell_type": "code",
   "execution_count": 16,
   "metadata": {},
   "outputs": [],
   "source": [
    "beegees_turnaround_album = [\n",
    "    'https://genius.com/Bee-gees-turn-around-look-at-me-lyrics',\n",
    "    'https://genius.com/Bee-gees-the-battle-of-the-blue-and-the-grey-lyrics',\n",
    "    'https://genius.com/Bee-gees-the-three-kisses-of-love-lyrics',\n",
    "    'https://genius.com/Bee-gees-theme-from-jaimie-mcpheeters-lyrics',\n",
    "    'https://genius.com/Bee-gees-everyday-i-have-to-cry-lyrics',\n",
    "    'https://genius.com/Bee-gees-i-want-home-lyrics',\n",
    "    'https://genius.com/Bee-gees-cherry-red-lyrics',\n",
    "    'https://genius.com/Bee-gees-all-of-my-life-lyrics',\n",
    "    'https://genius.com/Bee-gees-i-am-the-world-lyrics',\n",
    "    'https://genius.com/Bee-gees-i-was-a-lover-a-leader-of-men-lyrics',\n",
    "    'https://genius.com/Bee-gees-wine-and-women-lyrics',\n",
    "    'https://genius.com/Bee-gees-peace-of-mind-lyrics'\n",
    "]"
   ]
  },
  {
   "cell_type": "code",
   "execution_count": 19,
   "metadata": {},
   "outputs": [],
   "source": [
    "beegees_horizontal_album = [\n",
    "    'https://genius.com/Bee-gees-world-lyrics',\n",
    "    'https://genius.com/Bee-gees-and-the-sun-will-shine-lyrics',\n",
    "    'https://genius.com/Bee-gees-lemons-never-forget-lyrics',\n",
    "    'https://genius.com/Bee-gees-really-and-sincerely-lyrics',\n",
    "    'https://genius.com/Bee-gees-birdie-told-me-lyrics',\n",
    "    'https://genius.com/Bee-gees-with-the-sun-in-my-eyes-lyrics',\n",
    "    'https://genius.com/Bee-gees-massachusetts-lyrics',\n",
    "    'https://genius.com/Bee-gees-harry-braff-lyrics',\n",
    "    'https://genius.com/Bee-gees-day-time-girl-lyrics',\n",
    "    'https://genius.com/Bee-gees-the-earnest-of-being-george-lyrics',\n",
    "    'https://genius.com/Bee-gees-the-change-is-made-lyrics',\n",
    "    'https://genius.com/Bee-gees-horizontal-lyrics'\n",
    "]"
   ]
  },
  {
   "cell_type": "code",
   "execution_count": 44,
   "metadata": {},
   "outputs": [],
   "source": [
    "odessa = [\n",
    "    'https://genius.com/Bee-gees-odessa-city-on-the-black-sea-lyrics',\n",
    "    'https://genius.com/Bee-gees-youll-never-see-my-face-again-lyrics',\n",
    "    'https://genius.com/Bee-gees-black-diamond-lyrics',\n",
    "    'https://genius.com/Bee-gees-marley-purt-drive-lyrics',\n",
    "    'https://genius.com/Bee-gees-edison-lyrics',\n",
    "    'https://genius.com/Bee-gees-melody-fair-lyrics',\n",
    "    'https://genius.com/Bee-gees-suddenly-lyrics',\n",
    "    'https://genius.com/Bee-gees-whisper-whisper-lyrics',\n",
    "    'https://genius.com/Bee-gees-lamplight-lyrics',\n",
    "    'https://genius.com/Bee-gees-sound-of-love-lyrics',\n",
    "    'https://genius.com/Bee-gees-give-your-best-lyrics',\n",
    "    'https://genius.com/Bee-gees-i-laugh-in-your-face-lyrics',\n",
    "    'https://genius.com/Bee-gees-never-say-never-again-lyrics',\n",
    "    'https://genius.com/Bee-gees-first-of-may-lyrics'\n",
    "]"
   ]
  },
  {
   "cell_type": "code",
   "execution_count": 51,
   "metadata": {},
   "outputs": [],
   "source": [
    "twoyearson = [\n",
    "    'https://genius.com/Bee-gees-2-years-on-lyrics',\n",
    "    'https://genius.com/Bee-gees-portrait-of-louise-lyrics',\n",
    "    'https://genius.com/Bee-gees-man-for-all-seasons-lyrics',\n",
    "    'https://genius.com/Bee-gees-sincere-relation-lyrics',\n",
    "    'https://genius.com/Bee-gees-back-home-lyrics',\n",
    "    'https://genius.com/Bee-gees-the-first-mistake-i-made-lyrics',\n",
    "    'https://genius.com/Bee-gees-lonely-days-lyrics',\n",
    "    'https://genius.com/Bee-gees-alone-again-lyrics',\n",
    "    'https://genius.com/Bee-gees-tell-me-why-lyrics',\n",
    "    'https://genius.com/Bee-gees-lay-it-on-me-lyrics',\n",
    "    'https://genius.com/Bee-gees-every-second-every-minute-lyrics',\n",
    "    'https://genius.com/Bee-gees-im-weeping-lyrics'\n",
    "]"
   ]
  },
  {
   "cell_type": "code",
   "execution_count": 14,
   "metadata": {},
   "outputs": [],
   "source": [
    "children = [\n",
    "    'https://genius.com/Bee-gees-you-should-be-dancing-edit-lyrics',\n",
    "    'https://genius.com/Bee-gees-you-stepped-into-my-life-lyrics',\n",
    "    'https://genius.com/Bee-gees-love-so-right-lyrics',\n",
    "    'https://genius.com/Bee-gees-lovers-lyrics',\n",
    "    'https://genius.com/Bee-gees-cant-keep-a-good-man-down-lyrics',\n",
    "    'https://genius.com/Bee-gees-boogie-child-lyrics',\n",
    "    'https://genius.com/Bee-gees-love-me-lyrics',\n",
    "    'https://genius.com/Bee-gees-subway-lyrics',\n",
    "    'https://genius.com/Bee-gees-the-way-it-was-lyrics',\n",
    "    'https://genius.com/Bee-gees-children-of-the-world-lyrics'\n",
    "]"
   ]
  },
  {
   "cell_type": "code",
   "execution_count": 7,
   "metadata": {},
   "outputs": [],
   "source": [
    "to_whom = [\n",
    "    'https://genius.com/Bee-gees-run-to-me-lyrics',\n",
    "    'https://genius.com/Bee-gees-we-lost-the-road-lyrics',\n",
    "    'https://genius.com/Bee-gees-never-been-alone-lyrics',\n",
    "    'https://genius.com/Bee-gees-paper-mache-cabbages-and-kings-lyrics',\n",
    "    'https://genius.com/Bee-gees-i-can-bring-love-lyrics',\n",
    "    'https://genius.com/Bee-gees-i-held-a-party-lyrics',\n",
    "    'https://genius.com/Bee-gees-please-dont-turn-out-the-lights-lyrics',\n",
    "    'https://genius.com/Bee-gees-sea-of-smiling-faces-lyrics',\n",
    "    'https://genius.com/Bee-gees-bad-bad-dreams-lyrics',\n",
    "    'https://genius.com/Bee-gees-you-know-its-for-you-lyrics',\n",
    "    'https://genius.com/Bee-gees-alive-lyrics',\n",
    "    'https://genius.com/Bee-gees-road-to-alaska-lyrics',\n",
    "    'https://genius.com/Bee-gees-sweet-song-of-summer-lyrics'\n",
    "]"
   ]
  },
  {
   "cell_type": "code",
   "execution_count": 10,
   "metadata": {},
   "outputs": [],
   "source": [
    "beegees_mr_natural = [\n",
    "    'https://genius.com/Bee-gees-charade-lyrics',\n",
    "    'https://genius.com/Bee-gees-throw-a-penny-lyrics',\n",
    "    'https://genius.com/Bee-gees-down-the-road-lyrics',\n",
    "    'https://genius.com/Bee-gees-voices-lyrics',\n",
    "    'https://genius.com/Bee-gees-give-a-hand-take-a-hand-lyrics',\n",
    "    'https://genius.com/Bee-gees-dogs-lyrics',\n",
    "    'https://genius.com/Bee-gees-mr-natural-lyrics',\n",
    "    'https://genius.com/Bee-gees-lost-in-your-love-lyrics',\n",
    "    'https://genius.com/Bee-gees-i-cant-let-you-go-lyrics',\n",
    "    'https://genius.com/Bee-gees-heavy-breathing-lyrics',\n",
    "    'https://genius.com/Bee-gees-had-a-lot-of-love-last-night-lyrics'\n",
    "]"
   ]
  },
  {
   "cell_type": "code",
   "execution_count": 17,
   "metadata": {},
   "outputs": [],
   "source": [
    "esp = [\n",
    "    'https://genius.com/Bee-gees-esp-lyrics',\n",
    "    'https://genius.com/Bee-gees-you-win-again-lyrics',\n",
    "    'https://genius.com/Bee-gees-live-or-die-hold-me-like-a-child-lyrics',\n",
    "    'https://genius.com/Bee-gees-giving-up-the-ghost-lyrics',\n",
    "    'https://genius.com/Bee-gees-the-longest-night-lyrics',\n",
    "    'https://genius.com/Bee-gees-this-is-your-life-lyrics',\n",
    "    'https://genius.com/Bee-gees-angela-lyrics',\n",
    "    'https://genius.com/Bee-gees-overnight-lyrics',\n",
    "    'https://genius.com/Bee-gees-crazy-for-your-love-lyrics',\n",
    "    'https://genius.com/Bee-gees-backtafunk-lyrics',\n",
    "    'https://genius.com/Bee-gees-esp-vocal-reprise-lyrics'\n",
    "]"
   ]
  },
  {
   "cell_type": "code",
   "execution_count": 20,
   "metadata": {},
   "outputs": [],
   "source": [
    "one = [\n",
    "    'https://genius.com/Bee-gees-ordinary-lives-lyrics',\n",
    "    'https://genius.com/Bee-gees-one-lyrics',\n",
    "    'https://genius.com/Bee-gees-bodyguard-lyrics',\n",
    "    'https://genius.com/Bee-gees-its-my-neighborhood-lyrics',\n",
    "    'https://genius.com/Bee-gees-tears-lyrics',\n",
    "    'https://genius.com/Bee-gees-tokyo-nights-lyrics',\n",
    "    'https://genius.com/Bee-gees-flesh-and-blood-lyrics',\n",
    "    'https://genius.com/Bee-gees-wish-you-were-here-lyrics',\n",
    "    'https://genius.com/Bee-gees-house-of-shame-lyrics',\n",
    "    'https://genius.com/Bee-gees-will-you-ever-let-me-lyrics',\n",
    "    'https://genius.com/Bee-gees-wing-and-a-prayer-lyrics'\n",
    "]"
   ]
  },
  {
   "cell_type": "code",
   "execution_count": 24,
   "metadata": {},
   "outputs": [],
   "source": [
    "high_civ = [\n",
    "    'https://genius.com/Bee-gees-high-civilization-lyrics',\n",
    "    'https://genius.com/Bee-gees-secret-love-lyrics',\n",
    "    'https://genius.com/Bee-gees-when-hes-gone-lyrics',\n",
    "    'https://genius.com/Bee-gees-happy-ever-after-lyrics',\n",
    "    'https://genius.com/Bee-gees-party-with-no-name-lyrics',\n",
    "    'https://genius.com/Bee-gees-ghost-train-lyrics',\n",
    "    'https://genius.com/Bee-gees-dimensions-lyrics',\n",
    "    'https://genius.com/Bee-gees-the-only-love-lyrics',\n",
    "    'https://genius.com/Bee-gees-human-sacrifice-lyrics',\n",
    "    'https://genius.com/Bee-gees-true-confessions-lyrics',\n",
    "    'https://genius.com/Bee-gees-evolution-lyrics'\n",
    "]"
   ]
  },
  {
   "cell_type": "code",
   "execution_count": 27,
   "metadata": {},
   "outputs": [],
   "source": [
    "size = [\n",
    "    'https://genius.com/Bee-gees-paying-the-price-of-love-lyrics',\n",
    "    'https://genius.com/Bee-gees-kiss-of-life-lyrics',\n",
    "    'https://genius.com/Bee-gees-how-to-fall-in-love-part-1-lyrics',\n",
    "    'https://genius.com/Bee-gees-omega-man-lyrics',\n",
    "    'https://genius.com/Bee-gees-haunted-house-lyrics',\n",
    "    'https://genius.com/Bee-gees-heart-like-mine-lyrics',\n",
    "    'https://genius.com/Bee-gees-anything-for-you-lyrics',\n",
    "    'https://genius.com/Bee-gees-blue-island-lyrics',\n",
    "    'https://genius.com/Bee-gees-above-and-beyond-lyrics',\n",
    "    'https://genius.com/Bee-gees-for-whom-the-bell-tolls-lyrics',\n",
    "    'https://genius.com/Bee-gees-fallen-angel-lyrics',\n",
    "    'https://genius.com/Bee-gees-decadance-lyrics'\n",
    "]"
   ]
  },
  {
   "cell_type": "code",
   "execution_count": 4,
   "metadata": {},
   "outputs": [],
   "source": [
    "# Scrape lyrics from a Genius.com song URL\n",
    "def scrape_song_lyrics(url):\n",
    "    page = requests.get(url)\n",
    "    html = BeautifulSoup(page.text, 'html.parser')\n",
    "    lyrics_div = html.find('div', class_='Lyrics-sc-3051f9b7-1 kLpNCS')\n",
    "    if lyrics_div is None:\n",
    "        print(f\"Error: Could not find lyrics on {url}\")\n",
    "        return None\n",
    "    lyrics = lyrics_div.get_text()\n",
    "    #remove identifiers like chorus, verse, etc\n",
    "    lyrics = re.sub(r'[\\(\\[].*?[\\)\\]]', '', lyrics)\n",
    "    #remove empty lines\n",
    "    lyrics = os.linesep.join([s for s in lyrics.splitlines() if s])  \n",
    "\n",
    "    # for lines that don't count in Genius's line breaks:       \n",
    "    # Add space between lowercase/uppercase that precedes uppercase letters\n",
    "    lyrics = re.sub(r'([a-z])([A-Z])', r'\\1 \\2', lyrics)\n",
    "    lyrics = re.sub(r'([A-Z])([A-Z])', r'\\1 \\2', lyrics)\n",
    "    # Add space after punctuation that preceds uppercase letters\n",
    "    lyrics = re.sub(r'([.,;!?])([A-Z])', r'\\1 ', lyrics)\n",
    "    return lyrics"
   ]
  },
  {
   "cell_type": "code",
   "execution_count": 28,
   "metadata": {},
   "outputs": [
    {
     "name": "stdout",
     "output_type": "stream",
     "text": [
      "How did you find there was somebody More than you want me I never understood Maybe I have never had you I have been lonely for you lately I can't wait another day And when you let me get you close to me You run and leave me Paying the price of love The start of my end over you When you're doin' it for someone Who'll never be free Now is all there will ever be No more to live without you All the nights I dream about you Deep in the dark of the night I'm a man on a mission But safer with you home Never would I make you sorry You are the only drug I crave And I've been saving everyday I held it all inside, I pray You don't forget you got me\n",
      "--------------------\n",
      "Never more aware of what you do I got you leavin' me and missing you And me believing that you've never done right When you've never done wrong You been comin' to me late at night It's not the eye alone that gives you sight I've never given anybody my soul But I'm coming undone I'm a survivor but I'm reaching my low But I'm not ready to die I'm here for the kiss of life I'm here for the kiss of life Just give me the kiss of life Watch them hold you Count their faces A never-ending line But they're only imitations Existing out of time So now you're telling me it's just a ring You say it's nothing but it's everything\n",
      "--------------------\n",
      "I got a bad sensation The enemy is all around The traces of my naked heart Are laid upon the ground I suffered side effects That might have been forever Even in my dreams And I was left alone to pray When there was no one in the way And nothin' what it seemed And from a hard time, play time Took a trip around the world Made myself invisible The taste was in the wine And just when the thought of someone Needing me forever I don't believe the words are true That only she could be my savior Experience is not enough I'll show you how to fall in love She said experience is not enough I'll show you how to fall in love And she's all alone with me Every night And lighting all my days of sorrow On my own If there was any more to give You know I'd sacrifice it for her\n",
      "--------------------\n",
      "We set the same scene Circumstances different than they Might have been People in two places can be Pulled into a scheme Never what you're fighting for Life alone Lose a lover's arms Never makes it easy when you try too hard I wish you would define what you feel Hard on or letting go I'm the Omega Man Stand tall and understand Everybody needs a plan Mine is a better way There'll be trouble in the world Sex and the single girl I'm an over-eager man Find me a better way Find me a better way We share the same pain Underneath the covers I will set you free I will prove to you my love is Older than the sky Stronger than the night is long\n",
      "--------------------\n",
      "I know baby's bad for my self-esteem F Ind another face for your sympathy Some of us cry, some of them lie But no one sees inside The spark of baby's eyes and I turn to stone Maybe I can't survive in the danger zone Sounds of the night Streets without light And baby's not alone Try to hold her to myself Someone else is breaking all my dreams, she Needs so many games to play One more time I climb the stairs Open up the door and she was gone And baby here I go Like a lamb to slaughter Don't stop haunting me in this old house I still love you when you're not around I'm still waiting for your midnight ride I'll still love you when it's cold outside Me so sorry that I let you down But you keep haunting me in this old town\n",
      "--------------------\n",
      "Night grows cold I've been lonely so much Out of reach Save it only for me Nothing in life is the same And the sooner we stop to start And there's a heart like mine Somewhere in this world There's a heart like mine Beating but left to burn Maybe you can hide your face forever God knows it's true That when you search for someone There's a heart like mine There's a heart like mine To be heard Souls on fire Feel her voice in your ear She goes on Living only for me Nothing you say could be wrong'Cause you give me the lovers sign\n",
      "--------------------\n",
      "Ooh ooh ooh When you wait and you watch And you're wishing for something wild I figure I can please you someday someway I figure I can put your love on trial I'm taking you back to school Talk about making it something real Nobody could deny you anything You know I'd do anything Anything for you You know I'd do anything Anything for you You know I'd do anything Anything for you You know I'd do anything Anything for you You you you You can run with the fun You can tickle my nerves inside In the face of heartbreak, heartache It's gonna be a magic carpet ride Better we make it soon Let it be the one that make you Cry for more Anyone else would buy you anything I'd do anything\n",
      "--------------------\n",
      "Living in a world that dies within You are they who try and touch the wind You could be the blessed one that Makes me love you And doing what you've never done before Taking every wave that hits the shore You could be a silver star that shines On my blue island See you on a blue island Take you to a blue island You can see the rain You can feel the pain That no part of me is going through Everybody say, we can find a way Do you know the place you're going to You're going to a blue island This is what the lonely heart must know This is what it takes to make it grow You could be a child alone But you may save the world Maybe it's the words that mean goodbye There but for the grace of God go I I can see an open door that leads to my blue island Gonna be a blue island See you on a blue island Take you to a blue island\n",
      "--------------------\n",
      "Woman in a million to me I never loved so much Is it any wonder I'm alive No one ever knows what makes a Virtue or a vice Let it be the spell I'm under Let it be the rain and thunder comes I go above and beyond the sun Some love never dies Story of our lives, ohh Swear by the stars above And late at night I pray to myself That you and I got everything we need I'd give it all for you and me Love is the earth and the wind And the fire and the soul Love is above and beyond any eye to behold Love is the key and the cause And it's makin' us whole Made me a little crazy, but I Soon realize my fate Every little touch I'm paralyzed No one ever know what makes An angel in disguise Let me be the one to taste you Those naked eyes No pity if the city ever crumbles down\n",
      "--------------------\n",
      "I stumble in the night Never really knew what it would've been like You're no longer there to break my fall The heartache over you I'd give it everything but I couldn't live through I never saw the signs You're the last to know when love is blind All the tears and the turbulent years When I would not wait for no one Didn't stop, take a look at myself See me losing you When the lonely heart breaks, it's the one that forsakes It's the dream that we stole And I'm missing you more than the fire that will roar A hole in my soul For you it's good-bye, for me it's to cry For whom the bell tolls, for me Seen you in a magazine A picture at a party where you shouldn't have been Hanging on the arm of someone else I'm still in love with you Won't you come back to your little boy blue I've come to feel inside This precious love was never mine\n",
      "--------------------\n",
      "Fool in the night on the stair With the light by the window Out in the jungle of life she was Yearning to go All of the years I've been there for the tears She will sell you Out in the city she search for the face That she knew Did you believe that a love so alive Could be over Caroline Fallen Angel Caroline Oh oh oh, oh oh oh Oh oh oh oh Fallen Angel I'm so lost Tonight, lonely tonight Lonely tonight Fool is the father who clings to the Child he is losing Mother too weary to question The wisdom of youth There with your head in your hand As you pray to her picture Out in the rain she would search For somebody to hold\n",
      "--------------------\n",
      "What're you doing on your back? hat're you doing on your back? ou should be dancing, yeah Dancing, yeah My baby moves at midnight Goes right on till the dawn My woman takes me higher My woman keeps me warm What're you doing on your back? hat're you doing on your back? ou should be dancing, yeah Dancing, yeah She's juicy and she's trouble She gets it to me good My woman gives me power Goes right down to my blood What you doing on your back? hat you doing on your back? ou should be dancing, yeah Dancing, yeah What you doing on your back, aah? hat you doing on your back, aah? ou should be dancing, yeah Dancing, yeah\n",
      "--------------------\n"
     ]
    }
   ],
   "source": [
    "# Iterate through the list of URLs and scrape lyrics for each song\n",
    "beegees_album = size\n",
    "beegees_lyrics = []  # Initialize an empty list to store lyrics\n",
    "for url in beegees_album:\n",
    "    lyrics = scrape_song_lyrics(url)  # Call the function for each URL\n",
    "    beegees_lyrics.append(lyrics)  # Add the lyrics to the list\n",
    "\n",
    "# Print the collected lyrics\n",
    "for lyrics in beegees_lyrics:\n",
    "    print(lyrics) \n",
    "    print(\"-\" * 20)  # Add a separator between songs"
   ]
  },
  {
   "cell_type": "code",
   "execution_count": 29,
   "metadata": {},
   "outputs": [
    {
     "name": "stdout",
     "output_type": "stream",
     "text": [
      "Lyrics saved to size_isnt_everything.txt\n"
     ]
    }
   ],
   "source": [
    "def save_lyrics_to_file(lyrics, filename):\n",
    "    with open(filename, 'w') as file:  \n",
    "        for item in lyrics:\n",
    "            file.write(str(item) + '\\n')  # Write each item on a new line\n",
    "    print(f\"Lyrics saved to {filename}\")\n",
    "\n",
    "save_lyrics_to_file(beegees_lyrics, 'size_isnt_everything.txt')"
   ]
  },
  {
   "cell_type": "markdown",
   "metadata": {},
   "source": [
    "# Step 2: Preprocessing albums.txt for Topic Modeling"
   ]
  },
  {
   "cell_type": "code",
   "execution_count": 31,
   "metadata": {},
   "outputs": [],
   "source": [
    "import nltk, re, pprint # from wk 8 hw\n",
    "from nltk import word_tokenize\n",
    "from nltk.tokenize import sent_tokenize\n",
    "from nltk.corpus import stopwords"
   ]
  },
  {
   "cell_type": "code",
   "execution_count": 181,
   "metadata": {},
   "outputs": [
    {
     "name": "stdout",
     "output_type": "stream",
     "text": [
      "Everything's happening At the turn of the century I'm gonna buy myself a time machine Go to the turn of the century And all those people passing by And the town crier makes his cry At the turn of the century Turn of the century Big wide hats and men is spats At the turn of the century With those horseless carriages At the turn of the century And there are lots of things to do On a bicycle built for two At the turn of the century Turn of the century Everything's happening At the turn of the century I'm gonna buy myself a time machine Go to the turn of the century And all those people passing by And the town crier makes his cry At the turn of the century Turn of the century, turn of the century\n",
      " Ooh you're a holiday Such a holiday Ooh you're a holiday Such a holiday It's something I think's worthwhile If the puppet makes you smile If not then you're throwing stones Throwing stones, throwing stones Ooh it's a funny game Don't believe that it's all the same Can't think what I've just said Put the soft pillow on my head Millions of eyes can see Yet why am I so blind When the someone else is me It's unkind, it's unkind De, de de de de de De de de de de de, de de De, de de de de de De de de de de de, de de\n",
      "Red chair, fade away Bring back memories Think of something nice Fragrant lemon trees I can feel the speaking sky I don't want to know It's filling up the air Grandpa's fairy tale Red chair round the fire Rainbows all the time We're all going higher I can feel the speaking sky I don't want to know It's filling up the air Red chair fade away Red chair fade away Red chair fade away Red chair fade away Red chair fade away Bring back memories Think of something nice Fragrant lemon trees\n",
      "One minute, women, please I'd go down on my knees To say to you with a word so true\"I love you\"I fail to understand Why you don't want my hand I try to find what's on your mind I wonder Why don't you stop and see Why you're not loving me Would it hurt to say \"Hello\"Or don't you know? ne minute, women, please I'd go down on my knees To say to you with a word so true\"I love you\"Why don't you stop and see Why you're not loving me:Would it hurt to say \"Hello\"Or don't you know? ne minute, women, please I'd go down on my knees To say to you with a word so true\"I love you, I love you. I love you\"\n",
      "I received an invitation'Come to the United Nations'That was when I was somebody In my own time Sitting selling hot cross buns Thousand suckers everyone Sounds just like a nursery rhyme In my own time Even when the lights go out Still got things to think about Memories I can't call mine In my own time My own time My own time\n",
      "\"Take this in hand\"Said he who stands Behind the chair A broken table there Every Christian lion-hearted man will show you Every Christian lion-hearted man will show you Don't walk so tall Before you crawl For every child Is thinking of something wild\n",
      "He smiled and rubbed the stubble on his chin His shoes showed signs of weariness And dreariness of life that's growing thin Yet he didn't have so very far to go With a pencil in his hand, he will travel on as planned With the mist up in the mountain through a light Craise Finton Kirk, see him go on his way Oh, they don't know where he is Very, very nice, very, very nice Even in the morning, when he slept Something good is missing There's nothing very much to talk about And nothing very much to see Craise Finton Kirk, see him go on his way Oh, they don't know where he is Very, very nice, very, very nice\n",
      "In the event of something happening to me There is something I would like you all to see It's just a photograph of someone that I knew Have you seen my wife, Mr. Jones? o you know what it's like on the outside? on't go talking too loud, you'll cause a landslide, Mr. Jones I keep straining my ears to hear a sound Maybe someone is digging underground Or have they given up and all gone home to bed Thinking those who once existed must be dead Have you seen my wife, Mr. Jones? o you know what it's like on the outside? on't go talking too loud, you'll cause a landslide, Mr. Jones In the event of something happening to me There is something I would like you all to see It's just a photograph of someone that I knew Have you seen my wife, Mr. Jones? o you know what it's like on the outside? on't go talking too loud, you'll cause a landslide, Mr. Jones\n",
      "There were the trees, see the grass, a Pinkerton spy Said \"This is the place I will try,\" and he did Stood in the dark, sat a man who beckoned him in But leaving his grass was a sin, but he did Cucumber Castle be ever so humble it's home He saw the light in the cellar reflect in his eyes Yet early that morning was he to receive a surprise Cucumber Castle be ever so humble it's home Cucumber Castle be ever so humble it's home Said \"Are you leaving or are you receiving my friend Doest need any money till then\" and he did He said \"I'm the owner,not you, and this is my stead So give it to me now I'm dead, and he did , said:Cucumber Castle be ever so humble it's home Cucumber Castle be ever so humble it's home\n",
      "There's a light A certain kind of light That never shone on me I want my life to be lived with you Lived with you There's a way everybody say To do each and every little thing But what does it bring If I ain't got you, ain't got you? Hey babe You don't know what it's like, baby You don't know what it's like To love somebody To love somebody The way I love you In my brain I see your face again I know my frame of mind You ain't got to be so blind And I'm blind, so so sorrily blind I'm a man, can't you see What I am I live and I breathe for you But what good does it do If I ain't got you, ain't got? Hey babe\n",
      "Look at me I'm riding high Don't know what's wrong with me Can't you see I'm not the guy That I pretend to be Though I know I will be lonely But our love will never die I close my eyes, everyday, I close my eyes Ah...... he more I try the more I fail I'd like to run away But if I try you pass me by I know that I can't stay x2I close my eyes I close my eyes I close my eyes\n",
      "I walk the lonely streets I watch the people passing by I used to smile and say hello Guess I was just a happy guy Then you happened, girl This feeling that possesses me I just can't move myself I guess it all just had to be I can't see nobody...no I can't see nobody My eyes can only look at you...you I used to have a brain I used to think of many things I watched the falling rain and listened to the sweet birds sing Don't ask me why, little girl I love you and that's all I can say You're every, every breath I take You are my nights; my night and day I can't see nobody...no I can't see nobody My eyes can only look at you...you\n",
      "Many years ago I was a simple man A simple man, no worries me I never laughed Please read me Not much conversation ever came from me I never saw reality I never tried Please read me Ah.... aybe I've been lying on your couch too long I'll stay if you can see me through, explain why Please read me \n",
      "Many years have passed, it seems And now I am all alone I've sent the children far away To some obscure unknown It's so sad, so sad Close another door Listen to my eyes Close another door You're much too old to work So won't you run away? hen I was young, I used to say That age won't bother me The life I had was very sad It all went out to sea So so sad, so sad And though the sun is in outside The rain is in my hair Now all my life is lived inside My home is there in my chair\n",
      "On a hill, inside a house in covewell reach Stands a man who's feeling very tired Looking at a song he wrote some time ago Could have made it big inside a Broadway show Every day I go away and find ideas Think, I'll climb on top of somewhere high Couldn't I write a song about a man who's dead Didn't really know if he was off his head Ev'rybody knows, that's the way it goes Too bad for Gilbert Green We can tell the world that he was right Sitting in his attic on a sunny day Mending 50 goblets that are worn Humming to himself a song of yesteryear His hearing wasn't good but his eyes were clear Ev'rybody knows, that's the way it goes Too bad for Gilbert Green We can tell the world that he was right Now the house is burnt along with Gilbert Green Sad to see his sisters stand and cry And in the basement lies a song that wasn't seen Tells the tale of laughing men and yellow beans\n",
      "The butler henry baker extinguishes the fires Whilst sir fred'rick harold robinson casually retires Another day tomorrow cries alan crayon steel All must be up early to have the morning meal The maid comes with decanter and to the butler there Said 'sir here's what you ordered' He said 'no one seems to care 'It must be good to live in the house of lords It must be good to live in the house of lords The house is now in darkness before the coming day But at five o'clock that morning , the master passed away The housemaid drew the curtains and the doctors watched the dawn And the brother bendix sadly watched the gardener mow the lawn It must be sad to live in the house of lords It must be sad to live in the house of lords Grandma mildred marshall was pouring out the tea When she heard about the news of sir frederick's tragedy The hall is now in sadness and everybody cried On the banks of burntley river is where sir frederick lies It must be sad to live in the house of lords It must be sad to live in the house of lords\n",
      "\n"
     ]
    }
   ],
   "source": [
    "file_lyrics_path = '/Users/maika/My_Notebooks/DSMA/Final Project/lyrics copies/bee_gees_1st copy.txt'\n",
    "\n",
    "with open(file_lyrics_path,encoding='utf-8-sig') as file:\n",
    "    text = file.read()\n",
    "print(text)"
   ]
  },
  {
   "cell_type": "code",
   "execution_count": 182,
   "metadata": {},
   "outputs": [
    {
     "name": "stdout",
     "output_type": "stream",
     "text": [
      "everythings happening at the turn of the century im gonna buy myself a time machine go to the turn of the century and all those people passing by and the town crier makes his cry at the turn of the century turn of the century big wide hats and men is spats at the turn of the century with those horseless carriages at the turn of the century and there are lots of things to do on a bicycle built for two at the turn of the century turn of the century everythings happening at the turn of the century im gonna buy myself a time machine go to the turn of the century and all those people passing by and the town crier makes his cry at the turn of the century turn of the century turn of the century ooh youre a holiday such a holiday ooh youre a holiday such a holiday its something i thinks worthwhile if the puppet makes you smile if not then youre throwing stones throwing stones throwing stones ooh its a funny game dont believe that its all the same cant think what ive just said put the soft pillow on my head millions of eyes can see yet why am i so blind when the someone else is me its unkind its unkind de de de de de de de de de de de de de de de de de de de de de de de de de de de de red chair fade away bring back memories think of something nice fragrant lemon trees i can feel the speaking sky i dont want to know its filling up the air grandpas fairy tale red chair round the fire rainbows all the time were all going higher i can feel the speaking sky i dont want to know its filling up the air red chair fade away red chair fade away red chair fade away red chair fade away red chair fade away bring back memories think of something nice fragrant lemon trees one minute women please id go down on my knees to say to you with a word so truei love youi fail to understand why you dont want my hand i try to find whats on your mind i wonder why dont you stop and see why youre not loving me would it hurt to say helloor dont you know ne minute women please id go down on my knees to say to you with a word so truei love youwhy dont you stop and see why youre not loving mewould it hurt to say helloor dont you know ne minute women please id go down on my knees to say to you with a word so truei love you i love you i love you i received an invitationcome to the united nationsthat was when i was somebody in my own time sitting selling hot cross buns thousand suckers everyone sounds just like a nursery rhyme in my own time even when the lights go out still got things to think about memories i cant call mine in my own time my own time my own time take this in handsaid he who stands behind the chair a broken table there every christian lionhearted man will show you every christian lionhearted man will show you dont walk so tall before you crawl for every child is thinking of something wild he smiled and rubbed the stubble on his chin his shoes showed signs of weariness and dreariness of life thats growing thin yet he didnt have so very far to go with a pencil in his hand he will travel on as planned with the mist up in the mountain through a light craise finton kirk see him go on his way oh they dont know where he is very very nice very very nice even in the morning when he slept something good is missing theres nothing very much to talk about and nothing very much to see craise finton kirk see him go on his way oh they dont know where he is very very nice very very nice in the event of something happening to me there is something i would like you all to see its just a photograph of someone that i knew have you seen my wife mr jones o you know what its like on the outside ont go talking too loud youll cause a landslide mr jones i keep straining my ears to hear a sound maybe someone is digging underground or have they given up and all gone home to bed thinking those who once existed must be dead have you seen my wife mr jones o you know what its like on the outside ont go talking too loud youll cause a landslide mr jones in the event of something happening to me there is something i would like you all to see its just a photograph of someone that i knew have you seen my wife mr jones o you know what its like on the outside ont go talking too loud youll cause a landslide mr jones there were the trees see the grass a pinkerton spy said this is the place i will try and he did stood in the dark sat a man who beckoned him in but leaving his grass was a sin but he did cucumber castle be ever so humble its home he saw the light in the cellar reflect in his eyes yet early that morning was he to receive a surprise cucumber castle be ever so humble its home cucumber castle be ever so humble its home said are you leaving or are you receiving my friend doest need any money till then and he did he said im the ownernot you and this is my stead so give it to me now im dead and he did  saidcucumber castle be ever so humble its home cucumber castle be ever so humble its home theres a light a certain kind of light that never shone on me i want my life to be lived with you lived with you theres a way everybody say to do each and every little thing but what does it bring if i aint got you aint got you hey babe you dont know what its like baby you dont know what its like to love somebody to love somebody the way i love you in my brain i see your face again i know my frame of mind you aint got to be so blind and im blind so so sorrily blind im a man cant you see what i am i live and i breathe for you but what good does it do if i aint got you aint got hey babe look at me im riding high dont know whats wrong with me cant you see im not the guy that i pretend to be though i know i will be lonely but our love will never die i close my eyes everyday i close my eyes ah he more i try the more i fail id like to run away but if i try you pass me by i know that i cant stay x2i close my eyes i close my eyes i close my eyes i walk the lonely streets i watch the people passing by i used to smile and say hello guess i was just a happy guy then you happened girl this feeling that possesses me i just cant move myself i guess it all just had to be i cant see nobodyno i cant see nobody my eyes can only look at youyou i used to have a brain i used to think of many things i watched the falling rain and listened to the sweet birds sing dont ask me why little girl i love you and thats all i can say youre every every breath i take you are my nights my night and day i cant see nobodyno i cant see nobody my eyes can only look at youyou many years ago i was a simple man a simple man no worries me i never laughed please read me not much conversation ever came from me i never saw reality i never tried please read me ah aybe ive been lying on your couch too long ill stay if you can see me through explain why please read me many years have passed it seems and now i am all alone ive sent the children far away to some obscure unknown its so sad so sad close another door listen to my eyes close another door youre much too old to work so wont you run away hen i was young i used to say that age wont bother me the life i had was very sad it all went out to sea so so sad so sad and though the sun is in outside the rain is in my hair now all my life is lived inside my home is there in my chair on a hill inside a house in covewell reach stands a man whos feeling very tired looking at a song he wrote some time ago could have made it big inside a broadway show every day i go away and find ideas think ill climb on top of somewhere high couldnt i write a song about a man whos dead didnt really know if he was off his head evrybody knows thats the way it goes too bad for gilbert green we can tell the world that he was right sitting in his attic on a sunny day mending 50 goblets that are worn humming to himself a song of yesteryear his hearing wasnt good but his eyes were clear evrybody knows thats the way it goes too bad for gilbert green we can tell the world that he was right now the house is burnt along with gilbert green sad to see his sisters stand and cry and in the basement lies a song that wasnt seen tells the tale of laughing men and yellow beans the butler henry baker extinguishes the fires whilst sir fredrick harold robinson casually retires another day tomorrow cries alan crayon steel all must be up early to have the morning meal the maid comes with decanter and to the butler there said sir heres what you ordered he said no one seems to care it must be good to live in the house of lords it must be good to live in the house of lords the house is now in darkness before the coming day but at five oclock that morning  the master passed away the housemaid drew the curtains and the doctors watched the dawn and the brother bendix sadly watched the gardener mow the lawn it must be sad to live in the house of lords it must be sad to live in the house of lords grandma mildred marshall was pouring out the tea when she heard about the news of sir fredericks tragedy the hall is now in sadness and everybody cried on the banks of burntley river is where sir frederick lies it must be sad to live in the house of lords it must be sad to live in the house of lords\n"
     ]
    }
   ],
   "source": [
    "# removal of superfluous characters\n",
    "def clean_text(text):\n",
    "  # remove non-ASCII characters\n",
    "  text = re.sub(r'[^\\x00-\\x7F]+', ' ', text)\n",
    "  # replace multiple spaces with a single space\n",
    "  text = re.sub(r'\\s+', ' ', text)\n",
    "  # replace capital letters with lowercase\n",
    "  text = text.lower()\n",
    "  # remove special characters (keep letters, numbers, basic punctuation)\n",
    "  text = re.sub(r'[^a-zA-Z0-9\\s]', '', text)\n",
    "  # strip leading/trailing whitespace\n",
    "  text = text.strip()\n",
    "  return text\n",
    "\n",
    "# clean the downloaded text\n",
    "cleaned_text = clean_text(text)\n",
    "short_text = cleaned_text[:10000]\n",
    "print(short_text)"
   ]
  },
  {
   "cell_type": "code",
   "execution_count": 183,
   "metadata": {},
   "outputs": [
    {
     "name": "stdout",
     "output_type": "stream",
     "text": [
      "['everythings', 'happening', 'at', 'the', 'turn', 'of', 'the', 'century', 'im', 'gon', 'na', 'buy', 'myself', 'a', 'time', 'machine', 'go', 'to', 'the', 'turn', 'of', 'the', 'century', 'and', 'all', 'those', 'people', 'passing', 'by', 'and', 'the', 'town', 'crier', 'makes', 'his', 'cry', 'at', 'the', 'turn', 'of', 'the', 'century', 'turn', 'of', 'the', 'century', 'big', 'wide', 'hats', 'and', 'men', 'is', 'spats', 'at', 'the', 'turn', 'of', 'the', 'century', 'with', 'those', 'horseless', 'carriages', 'at', 'the', 'turn', 'of', 'the', 'century', 'and', 'there', 'are', 'lots', 'of', 'things', 'to', 'do', 'on', 'a', 'bicycle', 'built', 'for', 'two', 'at', 'the', 'turn', 'of', 'the', 'century', 'turn', 'of', 'the', 'century', 'everythings', 'happening', 'at', 'the', 'turn', 'of', 'the', 'century', 'im', 'gon', 'na', 'buy', 'myself', 'a', 'time', 'machine', 'go', 'to', 'the', 'turn', 'of', 'the', 'century', 'and', 'all', 'those', 'people', 'passing', 'by', 'and', 'the', 'town', 'crier', 'makes', 'his', 'cry', 'at', 'the', 'turn', 'of', 'the', 'century', 'turn', 'of', 'the', 'century', 'turn', 'of', 'the', 'century', 'ooh', 'youre', 'a', 'holiday', 'such', 'a', 'holiday', 'ooh', 'youre', 'a', 'holiday', 'such', 'a', 'holiday', 'its', 'something', 'i', 'thinks', 'worthwhile', 'if', 'the', 'puppet', 'makes', 'you', 'smile', 'if', 'not', 'then', 'youre', 'throwing', 'stones', 'throwing', 'stones', 'throwing', 'stones', 'ooh', 'its', 'a', 'funny', 'game', 'dont', 'believe', 'that', 'its', 'all', 'the', 'same', 'cant', 'think', 'what', 'ive', 'just', 'said', 'put', 'the', 'soft', 'pillow', 'on', 'my', 'head', 'millions', 'of', 'eyes', 'can', 'see', 'yet', 'why', 'am', 'i', 'so', 'blind', 'when', 'the', 'someone', 'else', 'is', 'me', 'its', 'unkind', 'its', 'unkind', 'de', 'de', 'de', 'de', 'de', 'de', 'de', 'de', 'de', 'de', 'de', 'de', 'de', 'de', 'de', 'de', 'de', 'de', 'de', 'de', 'de', 'de', 'de', 'de', 'de', 'de', 'de', 'de', 'red', 'chair', 'fade', 'away', 'bring', 'back', 'memories', 'think', 'of', 'something', 'nice', 'fragrant', 'lemon', 'trees', 'i', 'can', 'feel', 'the', 'speaking', 'sky', 'i', 'dont', 'want', 'to', 'know', 'its', 'filling', 'up', 'the', 'air', 'grandpas', 'fairy', 'tale', 'red', 'chair', 'round', 'the', 'fire', 'rainbows', 'all', 'the', 'time', 'were', 'all', 'going', 'higher', 'i', 'can', 'feel', 'the', 'speaking', 'sky', 'i', 'dont', 'want', 'to', 'know', 'its', 'filling', 'up', 'the', 'air', 'red', 'chair', 'fade', 'away', 'red', 'chair', 'fade', 'away', 'red', 'chair', 'fade', 'away', 'red', 'chair', 'fade', 'away', 'red', 'chair', 'fade', 'away', 'bring', 'back', 'memories', 'think', 'of', 'something', 'nice', 'fragrant', 'lemon', 'trees', 'one', 'minute', 'women', 'please', 'id', 'go', 'down', 'on', 'my', 'knees', 'to', 'say', 'to', 'you', 'with', 'a', 'word', 'so', 'truei', 'love', 'youi', 'fail', 'to', 'understand', 'why', 'you', 'dont', 'want', 'my', 'hand', 'i', 'try', 'to', 'find', 'whats', 'on', 'your', 'mind', 'i', 'wonder', 'why', 'dont', 'you', 'stop', 'and', 'see', 'why', 'youre', 'not', 'loving', 'me', 'would', 'it', 'hurt', 'to', 'say', 'helloor', 'dont', 'you', 'know', 'ne', 'minute', 'women', 'please', 'id', 'go', 'down', 'on', 'my', 'knees', 'to', 'say', 'to', 'you', 'with', 'a', 'word', 'so', 'truei', 'love', 'youwhy', 'dont', 'you', 'stop', 'and', 'see', 'why', 'youre', 'not', 'loving', 'mewould', 'it', 'hurt', 'to', 'say', 'helloor', 'dont', 'you', 'know', 'ne', 'minute', 'women', 'please', 'id', 'go', 'down', 'on', 'my', 'knees', 'to', 'say', 'to', 'you', 'with', 'a', 'word', 'so', 'truei', 'love', 'you', 'i', 'love', 'you', 'i', 'love', 'you', 'i', 'received', 'an', 'invitationcome', 'to', 'the', 'united', 'nationsthat', 'was', 'when', 'i', 'was', 'somebody', 'in', 'my', 'own', 'time', 'sitting', 'selling', 'hot', 'cross', 'buns', 'thousand', 'suckers', 'everyone', 'sounds', 'just', 'like', 'a', 'nursery', 'rhyme', 'in', 'my', 'own', 'time', 'even', 'when', 'the', 'lights', 'go', 'out', 'still', 'got', 'things', 'to', 'think', 'about', 'memories', 'i', 'cant', 'call', 'mine', 'in', 'my', 'own', 'time', 'my', 'own', 'time', 'my', 'own', 'time', 'take', 'this', 'in', 'handsaid', 'he', 'who', 'stands', 'behind', 'the', 'chair', 'a', 'broken', 'table', 'there', 'every', 'christian', 'lionhearted', 'man', 'will', 'show', 'you', 'every', 'christian', 'lionhearted', 'man', 'will', 'show', 'you', 'dont', 'walk', 'so', 'tall', 'before', 'you', 'crawl', 'for', 'every', 'child', 'is', 'thinking', 'of', 'something', 'wild', 'he', 'smiled', 'and', 'rubbed', 'the', 'stubble', 'on', 'his', 'chin', 'his', 'shoes', 'showed', 'signs', 'of', 'weariness', 'and', 'dreariness', 'of', 'life', 'thats', 'growing', 'thin', 'yet', 'he', 'didnt', 'have', 'so', 'very', 'far', 'to', 'go', 'with', 'a', 'pencil', 'in', 'his', 'hand', 'he', 'will', 'travel', 'on', 'as', 'planned', 'with', 'the', 'mist', 'up', 'in', 'the', 'mountain', 'through', 'a', 'light', 'craise', 'finton', 'kirk', 'see', 'him', 'go', 'on', 'his', 'way', 'oh', 'they', 'dont', 'know', 'where', 'he', 'is', 'very', 'very', 'nice', 'very', 'very', 'nice', 'even', 'in', 'the', 'morning', 'when', 'he', 'slept', 'something', 'good', 'is', 'missing', 'theres', 'nothing', 'very', 'much', 'to', 'talk', 'about', 'and', 'nothing', 'very', 'much', 'to', 'see', 'craise', 'finton', 'kirk', 'see', 'him', 'go', 'on', 'his', 'way', 'oh', 'they', 'dont', 'know', 'where', 'he', 'is', 'very', 'very', 'nice', 'very', 'very', 'nice', 'in', 'the', 'event', 'of', 'something', 'happening', 'to', 'me', 'there', 'is', 'something', 'i', 'would', 'like', 'you', 'all', 'to', 'see', 'its', 'just', 'a', 'photograph', 'of', 'someone', 'that', 'i', 'knew', 'have', 'you', 'seen', 'my', 'wife', 'mr', 'jones', 'o', 'you', 'know', 'what', 'its', 'like', 'on', 'the', 'outside', 'ont', 'go', 'talking', 'too', 'loud', 'youll', 'cause', 'a', 'landslide', 'mr', 'jones', 'i', 'keep', 'straining', 'my', 'ears', 'to', 'hear', 'a', 'sound', 'maybe', 'someone', 'is', 'digging', 'underground', 'or', 'have', 'they', 'given', 'up', 'and', 'all', 'gone', 'home', 'to', 'bed', 'thinking', 'those', 'who', 'once', 'existed', 'must', 'be', 'dead', 'have', 'you', 'seen', 'my', 'wife', 'mr', 'jones', 'o', 'you', 'know', 'what', 'its', 'like', 'on', 'the', 'outside', 'ont', 'go', 'talking', 'too', 'loud', 'youll', 'cause', 'a', 'landslide', 'mr', 'jones', 'in', 'the', 'event', 'of', 'something', 'happening', 'to', 'me', 'there', 'is', 'something', 'i', 'would', 'like', 'you', 'all', 'to', 'see', 'its', 'just', 'a', 'photograph', 'of', 'someone', 'that', 'i', 'knew', 'have', 'you', 'seen', 'my', 'wife', 'mr', 'jones', 'o', 'you', 'know', 'what', 'its', 'like', 'on', 'the', 'outside', 'ont', 'go', 'talking', 'too', 'loud', 'youll', 'cause', 'a', 'landslide', 'mr', 'jones', 'there', 'were', 'the', 'trees', 'see', 'the', 'grass', 'a', 'pinkerton', 'spy', 'said', 'this', 'is', 'the', 'place', 'i', 'will', 'try', 'and', 'he', 'did', 'stood', 'in', 'the', 'dark', 'sat', 'a', 'man', 'who', 'beckoned', 'him', 'in', 'but', 'leaving', 'his', 'grass', 'was', 'a', 'sin', 'but', 'he', 'did', 'cucumber', 'castle', 'be', 'ever', 'so', 'humble', 'its', 'home', 'he', 'saw', 'the', 'light', 'in', 'the', 'cellar', 'reflect', 'in', 'his', 'eyes', 'yet', 'early', 'that', 'morning', 'was', 'he', 'to', 'receive', 'a', 'surprise', 'cucumber', 'castle', 'be', 'ever', 'so', 'humble', 'its', 'home', 'cucumber', 'castle', 'be', 'ever', 'so', 'humble', 'its', 'home', 'said', 'are', 'you', 'leaving', 'or', 'are', 'you', 'receiving', 'my', 'friend', 'doest', 'need', 'any', 'money', 'till', 'then', 'and', 'he', 'did', 'he', 'said', 'im', 'the', 'ownernot', 'you', 'and', 'this', 'is', 'my', 'stead', 'so', 'give', 'it', 'to', 'me', 'now', 'im', 'dead', 'and', 'he', 'did', 'saidcucumber', 'castle', 'be', 'ever', 'so', 'humble', 'its', 'home', 'cucumber', 'castle', 'be', 'ever', 'so', 'humble', 'its', 'home', 'theres', 'a', 'light', 'a', 'certain', 'kind', 'of', 'light', 'that', 'never', 'shone', 'on', 'me', 'i', 'want', 'my', 'life', 'to', 'be', 'lived', 'with', 'you', 'lived', 'with', 'you', 'theres', 'a', 'way', 'everybody', 'say', 'to', 'do', 'each', 'and', 'every', 'little', 'thing', 'but', 'what', 'does', 'it', 'bring', 'if', 'i', 'aint', 'got', 'you', 'aint', 'got', 'you', 'hey', 'babe', 'you', 'dont', 'know', 'what', 'its', 'like', 'baby', 'you', 'dont', 'know', 'what', 'its', 'like', 'to', 'love', 'somebody', 'to', 'love', 'somebody', 'the', 'way', 'i', 'love', 'you', 'in', 'my', 'brain', 'i', 'see', 'your', 'face', 'again', 'i', 'know', 'my', 'frame', 'of', 'mind', 'you', 'aint', 'got', 'to', 'be', 'so', 'blind', 'and', 'im', 'blind', 'so', 'so', 'sorrily', 'blind', 'im', 'a', 'man', 'cant', 'you', 'see', 'what', 'i', 'am', 'i', 'live', 'and', 'i', 'breathe', 'for', 'you', 'but', 'what', 'good', 'does', 'it', 'do', 'if', 'i', 'aint', 'got', 'you', 'aint', 'got', 'hey', 'babe', 'look', 'at', 'me', 'im', 'riding', 'high', 'dont', 'know', 'whats', 'wrong', 'with', 'me', 'cant', 'you', 'see', 'im', 'not', 'the', 'guy', 'that', 'i', 'pretend', 'to', 'be', 'though', 'i', 'know', 'i', 'will', 'be', 'lonely', 'but', 'our', 'love', 'will', 'never', 'die', 'i', 'close', 'my', 'eyes', 'everyday', 'i', 'close', 'my', 'eyes', 'ah', 'he', 'more', 'i', 'try', 'the', 'more', 'i', 'fail', 'id', 'like', 'to', 'run', 'away', 'but', 'if', 'i', 'try', 'you', 'pass', 'me', 'by', 'i', 'know', 'that', 'i', 'cant', 'stay', 'x2i', 'close', 'my', 'eyes', 'i', 'close', 'my', 'eyes', 'i', 'close', 'my', 'eyes', 'i', 'walk', 'the', 'lonely', 'streets', 'i', 'watch', 'the', 'people', 'passing', 'by', 'i', 'used', 'to', 'smile', 'and', 'say', 'hello', 'guess', 'i', 'was', 'just', 'a', 'happy', 'guy', 'then', 'you', 'happened', 'girl', 'this', 'feeling', 'that', 'possesses', 'me', 'i', 'just', 'cant', 'move', 'myself', 'i', 'guess', 'it', 'all', 'just', 'had', 'to', 'be', 'i', 'cant', 'see', 'nobodyno', 'i', 'cant', 'see', 'nobody', 'my', 'eyes', 'can', 'only', 'look', 'at', 'youyou', 'i', 'used', 'to', 'have', 'a', 'brain', 'i', 'used', 'to', 'think', 'of', 'many', 'things', 'i', 'watched', 'the', 'falling', 'rain', 'and', 'listened', 'to', 'the', 'sweet', 'birds', 'sing', 'dont', 'ask', 'me', 'why', 'little', 'girl', 'i', 'love', 'you', 'and', 'thats', 'all', 'i', 'can', 'say', 'youre', 'every', 'every', 'breath', 'i', 'take', 'you', 'are', 'my', 'nights', 'my', 'night', 'and', 'day', 'i', 'cant', 'see', 'nobodyno', 'i', 'cant', 'see', 'nobody', 'my', 'eyes', 'can', 'only', 'look', 'at', 'youyou', 'many', 'years', 'ago', 'i', 'was', 'a', 'simple', 'man', 'a', 'simple', 'man', 'no', 'worries', 'me', 'i', 'never', 'laughed', 'please', 'read', 'me', 'not', 'much', 'conversation', 'ever', 'came', 'from', 'me', 'i', 'never', 'saw', 'reality', 'i', 'never', 'tried', 'please', 'read', 'me', 'ah', 'aybe', 'ive', 'been', 'lying', 'on', 'your', 'couch', 'too', 'long', 'ill', 'stay', 'if', 'you', 'can', 'see', 'me', 'through', 'explain', 'why', 'please', 'read', 'me', 'many', 'years', 'have', 'passed', 'it', 'seems', 'and', 'now', 'i', 'am', 'all', 'alone', 'ive', 'sent', 'the', 'children', 'far', 'away', 'to', 'some', 'obscure', 'unknown', 'its', 'so', 'sad', 'so', 'sad', 'close', 'another', 'door', 'listen', 'to', 'my', 'eyes', 'close', 'another', 'door', 'youre', 'much', 'too', 'old', 'to', 'work', 'so', 'wont', 'you', 'run', 'away', 'hen', 'i', 'was', 'young', 'i', 'used', 'to', 'say', 'that', 'age', 'wont', 'bother', 'me', 'the', 'life', 'i', 'had', 'was', 'very', 'sad', 'it', 'all', 'went', 'out', 'to', 'sea', 'so', 'so', 'sad', 'so', 'sad', 'and', 'though', 'the', 'sun', 'is', 'in', 'outside', 'the', 'rain', 'is', 'in', 'my', 'hair', 'now', 'all', 'my', 'life', 'is', 'lived', 'inside', 'my', 'home', 'is', 'there', 'in', 'my', 'chair', 'on', 'a', 'hill', 'inside', 'a', 'house', 'in', 'covewell', 'reach', 'stands', 'a', 'man', 'whos', 'feeling', 'very', 'tired', 'looking', 'at', 'a', 'song', 'he', 'wrote', 'some', 'time', 'ago', 'could', 'have', 'made', 'it', 'big', 'inside', 'a', 'broadway', 'show', 'every', 'day', 'i', 'go', 'away', 'and', 'find', 'ideas', 'think', 'ill', 'climb', 'on', 'top', 'of', 'somewhere', 'high', 'couldnt', 'i', 'write', 'a', 'song', 'about', 'a', 'man', 'whos', 'dead', 'didnt', 'really', 'know', 'if', 'he', 'was', 'off', 'his', 'head', 'evrybody', 'knows', 'thats', 'the', 'way', 'it', 'goes', 'too', 'bad', 'for', 'gilbert', 'green', 'we', 'can', 'tell', 'the', 'world', 'that', 'he', 'was', 'right', 'sitting', 'in', 'his', 'attic', 'on', 'a', 'sunny', 'day', 'mending', '50', 'goblets', 'that', 'are', 'worn', 'humming', 'to', 'himself', 'a', 'song', 'of', 'yesteryear', 'his', 'hearing', 'wasnt', 'good', 'but', 'his', 'eyes', 'were', 'clear', 'evrybody', 'knows', 'thats', 'the', 'way', 'it', 'goes', 'too', 'bad', 'for', 'gilbert', 'green', 'we', 'can', 'tell', 'the', 'world', 'that', 'he', 'was', 'right', 'now', 'the', 'house', 'is', 'burnt', 'along', 'with', 'gilbert', 'green', 'sad', 'to', 'see', 'his', 'sisters', 'stand', 'and', 'cry', 'and', 'in', 'the', 'basement', 'lies', 'a', 'song', 'that', 'wasnt', 'seen', 'tells', 'the', 'tale', 'of', 'laughing', 'men', 'and', 'yellow', 'beans', 'the', 'butler', 'henry', 'baker', 'extinguishes', 'the', 'fires', 'whilst', 'sir', 'fredrick', 'harold', 'robinson', 'casually', 'retires', 'another', 'day', 'tomorrow', 'cries', 'alan', 'crayon', 'steel', 'all', 'must', 'be', 'up', 'early', 'to', 'have', 'the', 'morning', 'meal', 'the', 'maid', 'comes', 'with', 'decanter', 'and', 'to', 'the', 'butler', 'there', 'said', 'sir', 'heres', 'what', 'you', 'ordered', 'he', 'said', 'no', 'one', 'seems', 'to', 'care', 'it', 'must', 'be', 'good', 'to', 'live', 'in', 'the', 'house', 'of', 'lords', 'it', 'must', 'be', 'good', 'to', 'live', 'in', 'the', 'house', 'of', 'lords', 'the', 'house', 'is', 'now', 'in', 'darkness', 'before', 'the', 'coming', 'day', 'but', 'at', 'five', 'oclock', 'that', 'morning', 'the', 'master', 'passed', 'away', 'the', 'housemaid', 'drew', 'the', 'curtains', 'and', 'the', 'doctors', 'watched', 'the', 'dawn', 'and', 'the', 'brother', 'bendix', 'sadly', 'watched', 'the', 'gardener', 'mow', 'the', 'lawn', 'it', 'must', 'be', 'sad', 'to', 'live', 'in', 'the', 'house', 'of', 'lords', 'it', 'must', 'be', 'sad', 'to', 'live', 'in', 'the', 'house', 'of', 'lords', 'grandma', 'mildred', 'marshall', 'was', 'pouring', 'out', 'the', 'tea', 'when', 'she', 'heard', 'about', 'the', 'news', 'of', 'sir', 'fredericks', 'tragedy', 'the', 'hall', 'is', 'now', 'in', 'sadness', 'and', 'everybody', 'cried', 'on', 'the', 'banks', 'of', 'burntley', 'river', 'is', 'where', 'sir', 'frederick', 'lies', 'it', 'must', 'be', 'sad', 'to', 'live', 'in', 'the', 'house', 'of', 'lords', 'it', 'must', 'be', 'sad', 'to', 'live', 'in', 'the', 'house', 'of', 'lords']\n"
     ]
    }
   ],
   "source": [
    "# tokenization\n",
    "cleaned_text_list = nltk.word_tokenize(cleaned_text)\n",
    "print(cleaned_text_list)"
   ]
  },
  {
   "cell_type": "code",
   "execution_count": 184,
   "metadata": {},
   "outputs": [
    {
     "name": "stdout",
     "output_type": "stream",
     "text": [
      "['everythings', 'happening', 'turn', 'century', 'im', 'gon', 'na', 'buy', 'time', 'machine', 'go', 'turn', 'century', 'people', 'passing', 'town', 'crier', 'makes', 'cry', 'turn', 'century', 'turn', 'century', 'big', 'wide', 'hats', 'men', 'spats', 'turn', 'century', 'horseless', 'carriages', 'turn', 'century', 'lots', 'things', 'bicycle', 'built', 'two', 'turn', 'century', 'turn', 'century', 'everythings', 'happening', 'turn', 'century', 'im', 'gon', 'na', 'buy', 'time', 'machine', 'go', 'turn', 'century', 'people', 'passing', 'town', 'crier', 'makes', 'cry', 'turn', 'century', 'turn', 'century', 'turn', 'century', 'ooh', 'youre', 'holiday', 'holiday', 'ooh', 'youre', 'holiday', 'holiday', 'something', 'thinks', 'worthwhile', 'puppet', 'makes', 'smile', 'youre', 'throwing', 'stones', 'throwing', 'stones', 'throwing', 'stones', 'ooh', 'funny', 'game', 'dont', 'believe', 'cant', 'think', 'ive', 'said', 'put', 'soft', 'pillow', 'head', 'millions', 'eyes', 'see', 'yet', 'blind', 'someone', 'else', 'unkind', 'unkind', 'de', 'de', 'de', 'de', 'de', 'de', 'de', 'de', 'de', 'de', 'de', 'de', 'de', 'de', 'de', 'de', 'de', 'de', 'de', 'de', 'de', 'de', 'de', 'de', 'de', 'de', 'de', 'de', 'red', 'chair', 'fade', 'away', 'bring', 'back', 'memories', 'think', 'something', 'nice', 'fragrant', 'lemon', 'trees', 'feel', 'speaking', 'sky', 'dont', 'want', 'know', 'filling', 'air', 'grandpas', 'fairy', 'tale', 'red', 'chair', 'round', 'fire', 'rainbows', 'time', 'going', 'higher', 'feel', 'speaking', 'sky', 'dont', 'want', 'know', 'filling', 'air', 'red', 'chair', 'fade', 'away', 'red', 'chair', 'fade', 'away', 'red', 'chair', 'fade', 'away', 'red', 'chair', 'fade', 'away', 'red', 'chair', 'fade', 'away', 'bring', 'back', 'memories', 'think', 'something', 'nice', 'fragrant', 'lemon', 'trees', 'one', 'minute', 'women', 'please', 'id', 'go', 'knees', 'say', 'word', 'truei', 'love', 'youi', 'fail', 'understand', 'dont', 'want', 'hand', 'try', 'find', 'whats', 'mind', 'wonder', 'dont', 'stop', 'see', 'youre', 'loving', 'would', 'hurt', 'say', 'helloor', 'dont', 'know', 'ne', 'minute', 'women', 'please', 'id', 'go', 'knees', 'say', 'word', 'truei', 'love', 'youwhy', 'dont', 'stop', 'see', 'youre', 'loving', 'mewould', 'hurt', 'say', 'helloor', 'dont', 'know', 'ne', 'minute', 'women', 'please', 'id', 'go', 'knees', 'say', 'word', 'truei', 'love', 'love', 'love', 'received', 'invitationcome', 'united', 'nationsthat', 'somebody', 'time', 'sitting', 'selling', 'hot', 'cross', 'buns', 'thousand', 'suckers', 'everyone', 'sounds', 'like', 'nursery', 'rhyme', 'time', 'even', 'lights', 'go', 'still', 'got', 'things', 'think', 'memories', 'cant', 'call', 'mine', 'time', 'time', 'time', 'take', 'handsaid', 'stands', 'behind', 'chair', 'broken', 'table', 'every', 'christian', 'lionhearted', 'man', 'show', 'every', 'christian', 'lionhearted', 'man', 'show', 'dont', 'walk', 'tall', 'crawl', 'every', 'child', 'thinking', 'something', 'wild', 'smiled', 'rubbed', 'stubble', 'chin', 'shoes', 'showed', 'signs', 'weariness', 'dreariness', 'life', 'thats', 'growing', 'thin', 'yet', 'didnt', 'far', 'go', 'pencil', 'hand', 'travel', 'planned', 'mist', 'mountain', 'light', 'craise', 'finton', 'kirk', 'see', 'go', 'way', 'oh', 'dont', 'know', 'nice', 'nice', 'even', 'morning', 'slept', 'something', 'good', 'missing', 'theres', 'nothing', 'much', 'talk', 'nothing', 'much', 'see', 'craise', 'finton', 'kirk', 'see', 'go', 'way', 'oh', 'dont', 'know', 'nice', 'nice', 'event', 'something', 'happening', 'something', 'would', 'like', 'see', 'photograph', 'someone', 'knew', 'seen', 'wife', 'mr', 'jones', 'know', 'like', 'outside', 'ont', 'go', 'talking', 'loud', 'youll', 'cause', 'landslide', 'mr', 'jones', 'keep', 'straining', 'ears', 'hear', 'sound', 'maybe', 'someone', 'digging', 'underground', 'given', 'gone', 'home', 'bed', 'thinking', 'existed', 'must', 'dead', 'seen', 'wife', 'mr', 'jones', 'know', 'like', 'outside', 'ont', 'go', 'talking', 'loud', 'youll', 'cause', 'landslide', 'mr', 'jones', 'event', 'something', 'happening', 'something', 'would', 'like', 'see', 'photograph', 'someone', 'knew', 'seen', 'wife', 'mr', 'jones', 'know', 'like', 'outside', 'ont', 'go', 'talking', 'loud', 'youll', 'cause', 'landslide', 'mr', 'jones', 'trees', 'see', 'grass', 'pinkerton', 'spy', 'said', 'place', 'try', 'stood', 'dark', 'sat', 'man', 'beckoned', 'leaving', 'grass', 'sin', 'cucumber', 'castle', 'ever', 'humble', 'home', 'saw', 'light', 'cellar', 'reflect', 'eyes', 'yet', 'early', 'morning', 'receive', 'surprise', 'cucumber', 'castle', 'ever', 'humble', 'home', 'cucumber', 'castle', 'ever', 'humble', 'home', 'said', 'leaving', 'receiving', 'friend', 'doest', 'need', 'money', 'till', 'said', 'im', 'ownernot', 'stead', 'give', 'im', 'dead', 'saidcucumber', 'castle', 'ever', 'humble', 'home', 'cucumber', 'castle', 'ever', 'humble', 'home', 'theres', 'light', 'certain', 'kind', 'light', 'never', 'shone', 'want', 'life', 'lived', 'lived', 'theres', 'way', 'everybody', 'say', 'every', 'little', 'thing', 'bring', 'aint', 'got', 'aint', 'got', 'hey', 'babe', 'dont', 'know', 'like', 'baby', 'dont', 'know', 'like', 'love', 'somebody', 'love', 'somebody', 'way', 'love', 'brain', 'see', 'face', 'know', 'frame', 'mind', 'aint', 'got', 'blind', 'im', 'blind', 'sorrily', 'blind', 'im', 'man', 'cant', 'see', 'live', 'breathe', 'good', 'aint', 'got', 'aint', 'got', 'hey', 'babe', 'look', 'im', 'riding', 'high', 'dont', 'know', 'whats', 'wrong', 'cant', 'see', 'im', 'guy', 'pretend', 'though', 'know', 'lonely', 'love', 'never', 'die', 'close', 'eyes', 'everyday', 'close', 'eyes', 'ah', 'try', 'fail', 'id', 'like', 'run', 'away', 'try', 'pass', 'know', 'cant', 'stay', 'x2i', 'close', 'eyes', 'close', 'eyes', 'close', 'eyes', 'walk', 'lonely', 'streets', 'watch', 'people', 'passing', 'used', 'smile', 'say', 'hello', 'guess', 'happy', 'guy', 'happened', 'girl', 'feeling', 'possesses', 'cant', 'move', 'guess', 'cant', 'see', 'nobodyno', 'cant', 'see', 'nobody', 'eyes', 'look', 'youyou', 'used', 'brain', 'used', 'think', 'many', 'things', 'watched', 'falling', 'rain', 'listened', 'sweet', 'birds', 'sing', 'dont', 'ask', 'little', 'girl', 'love', 'thats', 'say', 'youre', 'every', 'every', 'breath', 'take', 'nights', 'night', 'day', 'cant', 'see', 'nobodyno', 'cant', 'see', 'nobody', 'eyes', 'look', 'youyou', 'many', 'years', 'ago', 'simple', 'man', 'simple', 'man', 'worries', 'never', 'laughed', 'please', 'read', 'much', 'conversation', 'ever', 'came', 'never', 'saw', 'reality', 'never', 'tried', 'please', 'read', 'ah', 'aybe', 'ive', 'lying', 'couch', 'long', 'ill', 'stay', 'see', 'explain', 'please', 'read', 'many', 'years', 'passed', 'seems', 'alone', 'ive', 'sent', 'children', 'far', 'away', 'obscure', 'unknown', 'sad', 'sad', 'close', 'another', 'door', 'listen', 'eyes', 'close', 'another', 'door', 'youre', 'much', 'old', 'work', 'wont', 'run', 'away', 'hen', 'young', 'used', 'say', 'age', 'wont', 'bother', 'life', 'sad', 'went', 'sea', 'sad', 'sad', 'though', 'sun', 'outside', 'rain', 'hair', 'life', 'lived', 'inside', 'home', 'chair', 'hill', 'inside', 'house', 'covewell', 'reach', 'stands', 'man', 'whos', 'feeling', 'tired', 'looking', 'song', 'wrote', 'time', 'ago', 'could', 'made', 'big', 'inside', 'broadway', 'show', 'every', 'day', 'go', 'away', 'find', 'ideas', 'think', 'ill', 'climb', 'top', 'somewhere', 'high', 'couldnt', 'write', 'song', 'man', 'whos', 'dead', 'didnt', 'really', 'know', 'head', 'evrybody', 'knows', 'thats', 'way', 'goes', 'bad', 'gilbert', 'green', 'tell', 'world', 'right', 'sitting', 'attic', 'sunny', 'day', 'mending', '50', 'goblets', 'worn', 'humming', 'song', 'yesteryear', 'hearing', 'wasnt', 'good', 'eyes', 'clear', 'evrybody', 'knows', 'thats', 'way', 'goes', 'bad', 'gilbert', 'green', 'tell', 'world', 'right', 'house', 'burnt', 'along', 'gilbert', 'green', 'sad', 'see', 'sisters', 'stand', 'cry', 'basement', 'lies', 'song', 'wasnt', 'seen', 'tells', 'tale', 'laughing', 'men', 'yellow', 'beans', 'butler', 'henry', 'baker', 'extinguishes', 'fires', 'whilst', 'sir', 'fredrick', 'harold', 'robinson', 'casually', 'retires', 'another', 'day', 'tomorrow', 'cries', 'alan', 'crayon', 'steel', 'must', 'early', 'morning', 'meal', 'maid', 'comes', 'decanter', 'butler', 'said', 'sir', 'heres', 'ordered', 'said', 'one', 'seems', 'care', 'must', 'good', 'live', 'house', 'lords', 'must', 'good', 'live', 'house', 'lords', 'house', 'darkness', 'coming', 'day', 'five', 'oclock', 'morning', 'master', 'passed', 'away', 'housemaid', 'drew', 'curtains', 'doctors', 'watched', 'dawn', 'brother', 'bendix', 'sadly', 'watched', 'gardener', 'mow', 'lawn', 'must', 'sad', 'live', 'house', 'lords', 'must', 'sad', 'live', 'house', 'lords', 'grandma', 'mildred', 'marshall', 'pouring', 'tea', 'heard', 'news', 'sir', 'fredericks', 'tragedy', 'hall', 'sadness', 'everybody', 'cried', 'banks', 'burntley', 'river', 'sir', 'frederick', 'lies', 'must', 'sad', 'live', 'house', 'lords', 'must', 'sad', 'live', 'house', 'lords']\n"
     ]
    }
   ],
   "source": [
    "# stopword removal\n",
    "stop_words = set(stopwords.words('english'))\n",
    "filtered_text = [word for word in cleaned_text_list if word.lower() not in stop_words]\n",
    "print(filtered_text)"
   ]
  },
  {
   "cell_type": "code",
   "execution_count": 185,
   "metadata": {},
   "outputs": [
    {
     "name": "stdout",
     "output_type": "stream",
     "text": [
      "['everythings', 'happening', 'turn', 'century', 'im', 'gon', 'na', 'buy', 'time', 'machine', 'go', 'turn', 'century', 'people', 'passing', 'town', 'crier', 'make', 'cry', 'turn', 'century', 'turn', 'century', 'big', 'wide', 'hat', 'men', 'spat', 'turn', 'century', 'horseless', 'carriage', 'turn', 'century', 'lot', 'thing', 'bicycle', 'built', 'two', 'turn', 'century', 'turn', 'century', 'everythings', 'happening', 'turn', 'century', 'im', 'gon', 'na', 'buy', 'time', 'machine', 'go', 'turn', 'century', 'people', 'passing', 'town', 'crier', 'make', 'cry', 'turn', 'century', 'turn', 'century', 'turn', 'century', 'ooh', 'youre', 'holiday', 'holiday', 'ooh', 'youre', 'holiday', 'holiday', 'something', 'think', 'worthwhile', 'puppet', 'make', 'smile', 'youre', 'throwing', 'stone', 'throwing', 'stone', 'throwing', 'stone', 'ooh', 'funny', 'game', 'dont', 'believe', 'cant', 'think', 'ive', 'said', 'put', 'soft', 'pillow', 'head', 'million', 'eye', 'see', 'yet', 'blind', 'someone', 'else', 'unkind', 'unkind', 'de', 'de', 'de', 'de', 'de', 'de', 'de', 'de', 'de', 'de', 'de', 'de', 'de', 'de', 'de', 'de', 'de', 'de', 'de', 'de', 'de', 'de', 'de', 'de', 'de', 'de', 'de', 'de', 'red', 'chair', 'fade', 'away', 'bring', 'back', 'memory', 'think', 'something', 'nice', 'fragrant', 'lemon', 'tree', 'feel', 'speaking', 'sky', 'dont', 'want', 'know', 'filling', 'air', 'grandpa', 'fairy', 'tale', 'red', 'chair', 'round', 'fire', 'rainbow', 'time', 'going', 'higher', 'feel', 'speaking', 'sky', 'dont', 'want', 'know', 'filling', 'air', 'red', 'chair', 'fade', 'away', 'red', 'chair', 'fade', 'away', 'red', 'chair', 'fade', 'away', 'red', 'chair', 'fade', 'away', 'red', 'chair', 'fade', 'away', 'bring', 'back', 'memory', 'think', 'something', 'nice', 'fragrant', 'lemon', 'tree', 'one', 'minute', 'woman', 'please', 'id', 'go', 'knee', 'say', 'word', 'truei', 'love', 'youi', 'fail', 'understand', 'dont', 'want', 'hand', 'try', 'find', 'whats', 'mind', 'wonder', 'dont', 'stop', 'see', 'youre', 'loving', 'would', 'hurt', 'say', 'helloor', 'dont', 'know', 'ne', 'minute', 'woman', 'please', 'id', 'go', 'knee', 'say', 'word', 'truei', 'love', 'youwhy', 'dont', 'stop', 'see', 'youre', 'loving', 'mewould', 'hurt', 'say', 'helloor', 'dont', 'know', 'ne', 'minute', 'woman', 'please', 'id', 'go', 'knee', 'say', 'word', 'truei', 'love', 'love', 'love', 'received', 'invitationcome', 'united', 'nationsthat', 'somebody', 'time', 'sitting', 'selling', 'hot', 'cross', 'bun', 'thousand', 'sucker', 'everyone', 'sound', 'like', 'nursery', 'rhyme', 'time', 'even', 'light', 'go', 'still', 'got', 'thing', 'think', 'memory', 'cant', 'call', 'mine', 'time', 'time', 'time', 'take', 'handsaid', 'stand', 'behind', 'chair', 'broken', 'table', 'every', 'christian', 'lionhearted', 'man', 'show', 'every', 'christian', 'lionhearted', 'man', 'show', 'dont', 'walk', 'tall', 'crawl', 'every', 'child', 'thinking', 'something', 'wild', 'smiled', 'rubbed', 'stubble', 'chin', 'shoe', 'showed', 'sign', 'weariness', 'dreariness', 'life', 'thats', 'growing', 'thin', 'yet', 'didnt', 'far', 'go', 'pencil', 'hand', 'travel', 'planned', 'mist', 'mountain', 'light', 'craise', 'finton', 'kirk', 'see', 'go', 'way', 'oh', 'dont', 'know', 'nice', 'nice', 'even', 'morning', 'slept', 'something', 'good', 'missing', 'there', 'nothing', 'much', 'talk', 'nothing', 'much', 'see', 'craise', 'finton', 'kirk', 'see', 'go', 'way', 'oh', 'dont', 'know', 'nice', 'nice', 'event', 'something', 'happening', 'something', 'would', 'like', 'see', 'photograph', 'someone', 'knew', 'seen', 'wife', 'mr', 'jones', 'know', 'like', 'outside', 'ont', 'go', 'talking', 'loud', 'youll', 'cause', 'landslide', 'mr', 'jones', 'keep', 'straining', 'ear', 'hear', 'sound', 'maybe', 'someone', 'digging', 'underground', 'given', 'gone', 'home', 'bed', 'thinking', 'existed', 'must', 'dead', 'seen', 'wife', 'mr', 'jones', 'know', 'like', 'outside', 'ont', 'go', 'talking', 'loud', 'youll', 'cause', 'landslide', 'mr', 'jones', 'event', 'something', 'happening', 'something', 'would', 'like', 'see', 'photograph', 'someone', 'knew', 'seen', 'wife', 'mr', 'jones', 'know', 'like', 'outside', 'ont', 'go', 'talking', 'loud', 'youll', 'cause', 'landslide', 'mr', 'jones', 'tree', 'see', 'grass', 'pinkerton', 'spy', 'said', 'place', 'try', 'stood', 'dark', 'sat', 'man', 'beckoned', 'leaving', 'grass', 'sin', 'cucumber', 'castle', 'ever', 'humble', 'home', 'saw', 'light', 'cellar', 'reflect', 'eye', 'yet', 'early', 'morning', 'receive', 'surprise', 'cucumber', 'castle', 'ever', 'humble', 'home', 'cucumber', 'castle', 'ever', 'humble', 'home', 'said', 'leaving', 'receiving', 'friend', 'doest', 'need', 'money', 'till', 'said', 'im', 'ownernot', 'stead', 'give', 'im', 'dead', 'saidcucumber', 'castle', 'ever', 'humble', 'home', 'cucumber', 'castle', 'ever', 'humble', 'home', 'there', 'light', 'certain', 'kind', 'light', 'never', 'shone', 'want', 'life', 'lived', 'lived', 'there', 'way', 'everybody', 'say', 'every', 'little', 'thing', 'bring', 'aint', 'got', 'aint', 'got', 'hey', 'babe', 'dont', 'know', 'like', 'baby', 'dont', 'know', 'like', 'love', 'somebody', 'love', 'somebody', 'way', 'love', 'brain', 'see', 'face', 'know', 'frame', 'mind', 'aint', 'got', 'blind', 'im', 'blind', 'sorrily', 'blind', 'im', 'man', 'cant', 'see', 'live', 'breathe', 'good', 'aint', 'got', 'aint', 'got', 'hey', 'babe', 'look', 'im', 'riding', 'high', 'dont', 'know', 'whats', 'wrong', 'cant', 'see', 'im', 'guy', 'pretend', 'though', 'know', 'lonely', 'love', 'never', 'die', 'close', 'eye', 'everyday', 'close', 'eye', 'ah', 'try', 'fail', 'id', 'like', 'run', 'away', 'try', 'pas', 'know', 'cant', 'stay', 'x2i', 'close', 'eye', 'close', 'eye', 'close', 'eye', 'walk', 'lonely', 'street', 'watch', 'people', 'passing', 'used', 'smile', 'say', 'hello', 'guess', 'happy', 'guy', 'happened', 'girl', 'feeling', 'possesses', 'cant', 'move', 'guess', 'cant', 'see', 'nobodyno', 'cant', 'see', 'nobody', 'eye', 'look', 'youyou', 'used', 'brain', 'used', 'think', 'many', 'thing', 'watched', 'falling', 'rain', 'listened', 'sweet', 'bird', 'sing', 'dont', 'ask', 'little', 'girl', 'love', 'thats', 'say', 'youre', 'every', 'every', 'breath', 'take', 'night', 'night', 'day', 'cant', 'see', 'nobodyno', 'cant', 'see', 'nobody', 'eye', 'look', 'youyou', 'many', 'year', 'ago', 'simple', 'man', 'simple', 'man', 'worry', 'never', 'laughed', 'please', 'read', 'much', 'conversation', 'ever', 'came', 'never', 'saw', 'reality', 'never', 'tried', 'please', 'read', 'ah', 'aybe', 'ive', 'lying', 'couch', 'long', 'ill', 'stay', 'see', 'explain', 'please', 'read', 'many', 'year', 'passed', 'seems', 'alone', 'ive', 'sent', 'child', 'far', 'away', 'obscure', 'unknown', 'sad', 'sad', 'close', 'another', 'door', 'listen', 'eye', 'close', 'another', 'door', 'youre', 'much', 'old', 'work', 'wont', 'run', 'away', 'hen', 'young', 'used', 'say', 'age', 'wont', 'bother', 'life', 'sad', 'went', 'sea', 'sad', 'sad', 'though', 'sun', 'outside', 'rain', 'hair', 'life', 'lived', 'inside', 'home', 'chair', 'hill', 'inside', 'house', 'covewell', 'reach', 'stand', 'man', 'who', 'feeling', 'tired', 'looking', 'song', 'wrote', 'time', 'ago', 'could', 'made', 'big', 'inside', 'broadway', 'show', 'every', 'day', 'go', 'away', 'find', 'idea', 'think', 'ill', 'climb', 'top', 'somewhere', 'high', 'couldnt', 'write', 'song', 'man', 'who', 'dead', 'didnt', 'really', 'know', 'head', 'evrybody', 'know', 'thats', 'way', 'go', 'bad', 'gilbert', 'green', 'tell', 'world', 'right', 'sitting', 'attic', 'sunny', 'day', 'mending', '50', 'goblet', 'worn', 'humming', 'song', 'yesteryear', 'hearing', 'wasnt', 'good', 'eye', 'clear', 'evrybody', 'know', 'thats', 'way', 'go', 'bad', 'gilbert', 'green', 'tell', 'world', 'right', 'house', 'burnt', 'along', 'gilbert', 'green', 'sad', 'see', 'sister', 'stand', 'cry', 'basement', 'lie', 'song', 'wasnt', 'seen', 'tell', 'tale', 'laughing', 'men', 'yellow', 'bean', 'butler', 'henry', 'baker', 'extinguishes', 'fire', 'whilst', 'sir', 'fredrick', 'harold', 'robinson', 'casually', 'retires', 'another', 'day', 'tomorrow', 'cry', 'alan', 'crayon', 'steel', 'must', 'early', 'morning', 'meal', 'maid', 'come', 'decanter', 'butler', 'said', 'sir', 'here', 'ordered', 'said', 'one', 'seems', 'care', 'must', 'good', 'live', 'house', 'lord', 'must', 'good', 'live', 'house', 'lord', 'house', 'darkness', 'coming', 'day', 'five', 'oclock', 'morning', 'master', 'passed', 'away', 'housemaid', 'drew', 'curtain', 'doctor', 'watched', 'dawn', 'brother', 'bendix', 'sadly', 'watched', 'gardener', 'mow', 'lawn', 'must', 'sad', 'live', 'house', 'lord', 'must', 'sad', 'live', 'house', 'lord', 'grandma', 'mildred', 'marshall', 'pouring', 'tea', 'heard', 'news', 'sir', 'frederick', 'tragedy', 'hall', 'sadness', 'everybody', 'cried', 'bank', 'burntley', 'river', 'sir', 'frederick', 'lie', 'must', 'sad', 'live', 'house', 'lord', 'must', 'sad', 'live', 'house', 'lord']\n"
     ]
    }
   ],
   "source": [
    "# lemmatization\n",
    "lemmatizer = nltk.WordNetLemmatizer()\n",
    "lemmatized_text = [lemmatizer.lemmatize(word) for word in filtered_text]\n",
    "print(lemmatized_text)"
   ]
  },
  {
   "cell_type": "code",
   "execution_count": 53,
   "metadata": {},
   "outputs": [],
   "source": [
    "# saving lemmatized text AS A LIST into .txt file\n",
    "import json\n",
    "with open(\"/Users/maika/My_Notebooks/DSMA/Final Project/scraped album lyrics/trafalgar.txt\", \"w\") as f:\n",
    "    json.dump(lemmatized_text, f)\n",
    "\n",
    "# to read list back from file:\n",
    "# with open(\"lemmatized_list.txt\", \"r\") as f:\n",
    "    #lemmatized_list = json.load(f)"
   ]
  },
  {
   "cell_type": "code",
   "execution_count": 56,
   "metadata": {},
   "outputs": [
    {
     "name": "stdout",
     "output_type": "stream",
     "text": [
      "['think', 'younger', 'day', 'living', 'life', 'everything', 'man', 'could', 'want', 'could', 'never', 'see', 'tomorrow', 'never', 'told', 'sorrow', 'mend', 'broken', 'heart', 'ow', 'stop', 'rain', 'falling', 'ow', 'stop', 'sun', 'shining', 'hat', 'make', 'world', 'go', 'round', 'ow', 'mend', 'broken', 'man', 'ow', 'loser', 'ever', 'win', 'lease', 'help', 'mend', 'broken', 'heart', 'let', 'live', 'still', 'feel', 'breeze', 'rustle', 'tree', 'misty', 'memory', 'day', 'gone', 'could', 'never', 'see', 'tomorrow', 'one', 'said', 'word', 'sorrow', 'mend', 'broken', 'heart', 'ow', 'stop', 'rain', 'falling', 'ow', 'stop', 'sun', 'shining', 'hat', 'make', 'world', 'go', 'round', 'nd', 'mend', 'broken', 'man', 'ow', 'loser', 'ever', 'win', 'lease', 'help', 'mend', 'broken', 'heart', 'let', 'live', 'youve', 'trouble', 'israel', 'ive', 'seen', 'put', 'writing', 'wall', 'israel', 'israel', 'know', 'ive', 'seen', 'fall', 'many', 'time', 'ive', 'cried', 'thats', 'crime', 'israel', 'israel', 'israel', 'there', 'sand', 'there', 'beautiful', 'sand', 'know', 'got', 'kind', 'feeling', 'thats', 'grand', 'take', 'arm', 'let', 'israel', 'israel', 'israel', 'like', 'smile', 'people', 'face', 'make', 'feel', 'warm', 'embrace', 'want', 'kind', 'smile', 'kind', 'smile', 'israel', 'make', 'whole', 'world', 'think', 'dont', 'theyll', 'find', 'reason', 'shout', 'israel', 'israel', 'heard', 'voice', 'never', 'heard', 'sound', 'like', 'wan', 'na', 'hear', 'take', 'heaven', 'love', 'stronger', 'wall', 'ill', 'climb', 'till', 'fall', 'hear', 'call', 'love', 'id', 'greatest', 'man', 'worldcause', 'say', 'got', 'greatest', 'girl', 'id', 'greatest', 'man', 'worldcause', 'say', 'got', 'greatest', 'girl', 'saw', 'face', 'never', 'saw', 'dream', 'like', 'wan', 'na', 'see', 'take', 'heaven', 'love', 'stronger', 'wall', 'ill', 'climb', 'till', 'fall', 'hear', 'call', 'love', 'greatest', 'man', 'worldcause', 'say', 'ive', 'got', 'greatest', 'girl', 'greatest', 'man', 'worldcause', 'say', 'got', 'greatest', 'girl', 'greatest', 'girl', 'way', 'feel', 'tomorrow', 'ill', 'sad', 'alone', 'time', 'way', 'said', 'dont', 'love', 'anymore', 'goodbye', 'cant', 'believe', 'youre', 'saying', 'dont', 'love', 'anymore', 'goodbye', 'way', 'feel', 'tomorrow', 'knowing', 'wont', 'side', 'wish', 'could', 'say', 'well', 'cant', 'good', 'friend', 'ould', 'leave', 'door', 'open', 'let', 'walk', 'hat', 'way', 'ive', 'thinking', 'bout', 'tomorrow', 'know', 'friend', 'cant', 'lover', 'never', 'really', 'want', 'alone', 'woman', 'life', 'shes', 'flown', 'every', 'night', 'keep', 'seeing', 'face', 'never', 'really', 'broke', 'heart', 'part', 'thats', 'way', 'live', 'separately', 'walk', 'door', 'babe', 'hen', 'left', 'fell', 'piece', 'feel', 'good', 'dead', 'ill', 'keep', 'remembering', 'life', 'remembering', 'wife', 'remembering', 'life', 'im', 'facing', 'life', 'must', 'go', 'remembering', 'first', 'set', 'eye', 'one', 'cold', 'february', 'made', 'go', 'way', 'make', 'feel', 'fine', 'oh', 'walk', 'door', 'babe', 'hen', 'left', 'fell', 'piece', 'feel', 'good', 'good', 'dead', 'ill', 'keep', 'remembering', 'life', 'remembering', 'wife', 'remembering', 'life', 'im', 'facing', 'life', 'must', 'go', 'remembering', 'arise', 'try', 'see', 'face', 'disguise', 'balcony', 'knew', 'inside', 'done', 'somebody', 'stop', 'music', 'somebody', 'stop', 'tune', 'somebody', 'crown', 'clown', 'red', 'balloon', 'somebody', 'stop', 'music', 'somebody', 'stop', 'tune', 'somebody', 'crown', 'clown', 'red', 'balloon', 'arose', 'truth', 'grows', 'mystery', 'one', 'hiding', 'somebody', 'stop', 'music', 'somebody', 'stop', 'tune', 'somebody', 'crown', 'clown', 'red', 'balloon', 'somebody', 'stop', 'music', 'somebody', 'stop', 'tune', 'somebody', 'crown', 'clown', 'red', 'balloon', 'dont', 'love', 'ya', 'baby', 'dont', 'love', 'ya', 'dont', 'love', 'ya', 'baby', 'dont', 'love', 'ya', 'dont', 'love', 'ya', 'baby', 'dont', 'love', 'ya', 'dont', 'love', 'ya', 'baby', 'dont', 'love', 'ya', 'dont', 'love', 'ya', 'baby', 'dont', 'love', 'ya', 'yeah', 'today', 'saw', 'sun', 'sun', 'rolled', 'smoke', 'lost', 'hope', 'need', 'someone', 'know', 'show', 'square', 'peg', 'fit', 'hole', 'havent', 'told', 'need', 'someone', 'know', 'show', 'trafalgar', 'trafalgar', 'trafalgar', 'please', 'dont', 'let', 'ten', 'hundred', 'people', 'roam', 'place', 'call', 'home', 'need', 'someone', 'know', 'show', 'sitting', 'crosslegged', 'yet', 'im', 'alone', 'dont', 'need', 'one', 'show', 'one', 'owns', 'trafalgar', 'trafalgar', 'trafalgar', 'trafalgar', 'trafalgar', 'trafalgar', 'please', 'dont', 'let', 'trafalgar', 'searcher', 'fortune', 'ive', 'got', 'right', 'hand', 'wheel', 'weve', 'got', 'dig', 'buried', 'treasure', 'know', 'exactly', 'feel', 'dont', 'want', 'live', 'inside', 'im', 'much', 'better', 'alone', 'must', 'believe', 'falling', 'rain', 'dont', 'wan', 'na', 'live', 'inside', 'dont', 'wan', 'na', 'live', 'inside', 'dont', 'wan', 'na', 'live', 'inside', 'went', 'walking', 'graveyard', 'darkness', 'friend', 'heard', 'beginning', 'wan', 'na', 'see', 'end', 'tell', 'dream', 'come', 'true', 'know', 'im', 'losing', 'know', 'address', 'live', 'swear', 'therell', 'turning', 'back', 'wont', 'forgive', 'know', 'there', 'answer', 'wonder', 'know', 'fit', 'stop', 'gon', 'na', 'cry', 'wonder', 'know', 'fit', 'tell', 'dream', 'come', 'true', 'know', 'im', 'losing', 'know', 'address', 'live', 'swear', 'therell', 'turning', 'back', 'wont', 'forgive', 'know', 'there', 'answer', 'wonder', 'know', 'fit', 'stop', 'gon', 'na', 'cry', 'wonder', 'know', 'fit', 'know', 'fit', 'hear', 'calling', 'dearest', 'dearest', 'im', 'nearest', 'ive', 'ever', 'calling', 'dearest', 'dearest', 'picture', 'memory', 'wishing', 'picture', 'reality', 'go', 'lord', 'took', 'away', 'could', 'see', 'today', 'remember', 'remember', 'dearest', 'sincerest', 'there', 'one', 'heart', 'youre', 'dearest', 'go', 'lord', 'took', 'away', 'could', 'see', 'today', 'remember', 'remember', 'dearest', 'sincerest', 'there', 'one', 'heart', 'youre', 'dearest', 'lion', 'winter', 'im', 'lion', 'crown', 'wan', 'na', 'make', 'big', 'man', 'star', 'screen', 'kind', 'james', 'brown', 'something', 'ask', 'money', 'smother', 'charm', 'cant', 'live', 'glory', 'bendin', 'arm', 'lion', 'winter', 'man', 'friend', 'mile', 'around', 'lion', 'winter', 'good', 'lion', 'lord', 'without', 'crown', 'youre', 'living', 'cave', 'man', 'upon', 'marble', 'throne', 'think', 'heaven', 'youve', 'got', 'alone', 'know', 'prayed', 'sunshine', 'woman', 'name', 'dont', 'want', 'live', 'man', 'gave', 'away', 'game', 'lion', 'winter', 'man', 'friend', 'mile', 'around', 'lion', 'winter', 'good', 'lion', 'lord', 'without', 'crown', 'lion', 'winter', 'man', 'friend', 'mile', 'around', 'lion', 'winter', 'good', 'lion', 'lord', 'without', 'crown', 'wish', 'another', 'year', 'another', 'time', 'people', 'sang', 'poem', 'rhymed', 'mmm', 'name', 'could', 'napoleon', 'thousand', 'ship', 'windy', 'sail', 'huge', 'high', 'tall', 'enough', 'touch', 'sky', 'beautiful', 'hard', 'find', 'wasnt', 'born', 'time', 'walking', 'back', 'waterloo', 'begin', 'f', 'play', 'indiscreet', 'get', 'good', 'seat', 'end', 'dream', 'growing', 'tree', 'thing', 'live', 'grass', 'thats', 'green', 'meadow', 'never', 'still', 'place', 'trust', 'queen', 'life', 'man', 'pressured', 'based', 'wrong', 'right', 'nd', 'dont', 'know', 'mean', 'must', 'havent', 'seen', 'country', 'woman', 'gon', 'na', 'life', 'country', 'woman', 'dont', 'get', 'life', 'leave', 'life', 'alone', 'first', 'time', 'met', 'knew', 'devil', 'daughter', 'came', 'like', 'river', 'doin', 'thing', 'oughta', 'youre', 'self', 'made', 'woman', 'baby', 'madetoorder', 'way', 'know', 'youd', 'make', 'stay', 'would', 'bring', 'country', 'woman', 'gon', 'na', 'life', 'country', 'woman', 'dont', 'get', 'life', 'leave', 'life', 'alone', 'country', 'woman', 'country', 'woman', 'country', 'woman', 'country', 'woman', 'country', 'woman', 'ahh', 'ountry', 'woman', 'gon', 'na', 'life', 'country', 'woman', 'dont', 'get', 'life', 'leave', 'life', 'alone', 'leave', 'life', 'alone', 'country', 'woman', 'country', 'woman', 'country', 'woman', 'country', 'woman', 'country', 'woman', 'country', 'woman', 'must', 'lost', 'road', 'dont', 'think', 'getting', 'late', 'maybe', 'colder', 'stop', 'wait', 'must', 'lost', 'word', 'little', 'thing', 'said', 'world', 'frozen', 'head', 'oh', 'lost', 'road', 'oh', 'lost', 'road', 'oh', 'lost', 'road', 'oh', 'lost', 'road', 'must', 'lost', 'tune', 'step', 'line', 'ill', 'search', 'melody', 'call', 'mine']\n"
     ]
    }
   ],
   "source": [
    "with open(\"/Users/maika/My_Notebooks/DSMA/Final Project/scraped album lyrics/trafalgar.txt\", \"r\") as f:\n",
    "    trafalgar_lemmas = json.load(f)\n",
    "\n",
    "print(trafalgar_lemmas)"
   ]
  },
  {
   "cell_type": "code",
   "execution_count": 42,
   "metadata": {},
   "outputs": [
    {
     "name": "stdout",
     "output_type": "stream",
     "text": [
      "File: bee_gees_1st.txt, Word Count: 1016\n",
      "File: trafalgar.txt.txt, Word Count: 972\n",
      "File: main_course.txt, Word Count: 628\n",
      "File: cucumber_castle.txt, Word Count: 772\n",
      "File: this_is_where_i_came_in.txt, Word Count: 1085\n",
      "File: idea.txt, Word Count: 750\n",
      "File: spirits_having_flown.txt, Word Count: 753\n",
      "File: saturday_night_fever.txt, Word Count: 422\n"
     ]
    }
   ],
   "source": [
    "# checking word count for each album, just to see\n",
    "import os\n",
    "\n",
    "folder_path = \"/Users/maika/My_Notebooks/DSMA/Final Project/scraped album lyrics\"\n",
    "\n",
    "for filename in os.listdir(folder_path):\n",
    "    if filename.endswith(\".txt\"):\n",
    "        file_path = os.path.join(folder_path, filename)\n",
    "        with open(file_path, encoding='utf-8-sig') as file:\n",
    "            text = file.read()\n",
    "            words = text.split()  # Split the text into words\n",
    "            word_count = len(words)  # Count the number of words\n",
    "            print(f\"File: {filename}, Word Count: {word_count}\")"
   ]
  },
  {
   "cell_type": "markdown",
   "metadata": {},
   "source": [
    "# Step 3: Topic Modeling"
   ]
  },
  {
   "cell_type": "code",
   "execution_count": 136,
   "metadata": {},
   "outputs": [
    {
     "name": "stdout",
     "output_type": "stream",
     "text": [
      "Filename: this_is_where_i_came_in copy.txt\n",
      "I've seen the story, I've read it over once or twice I said that you say a little bit of bad advice I've been in trouble happened to me all my life I lie and you lie and who would get the sharpest knife You shouldn't be somebody like that Not the kind of man to throw his hat into the ring and Go down without following through the day turns into night Go down without following through the day turns into night Ohh, ohh, ohh This is just where I came in Hope rides on, but I'll go anywhere Yes, I'll go anywhere with you Time has gone, but I'll go anywhere Yes, I'll go anywhere with you This is the danger zone this is where I came in They know not what they do forgive them of their sins They know they cannot take away what you have given me\n",
      "Front and centre I don't know how it happened then I can't explain it What was she thinking of when Mother Nature She put us both together, and The way she touched me And I ran that red light and so I Said I love her She tell me I don't matter I try to kiss her But every dream is shattered No early warning Except the morning after Look in the mirror like a rabbit in the headlights She keeps on coming back for more She keeps on coming back for more She keeps on coming back for more Champagne and roses Breakfast in bed Wrapped in each other And out of my head She keeps on coming back for more She keeps on coming back for more\n",
      "I meant to fight it to the finish but you made me forget And though it's possible I'm dreaming, don't wake me yet You know I love you, I can't see the day for night You know I twist around and turn around and then I give in You end up in control of me it's really a sin I don't know what you're doing to me But I know it's a crime And baby I can't last another night And every moment is eternity And from the depth of my soul Can't let another day go by I follow my heart right up to the end As far as the eye can see I'm faithful and true and livin' up to Your sacred trust in me I'll never give out to somebody else I know where my arms should be I'm faithful and true and makin' it through Your sacred trust in me Your sacred trust in me You take me and you break me and you do what you please I stumble and I tremble and I'm weak at the knees The vision that lies before me is not reality\n",
      "We both acknowledge what we came here for We take each other and walk through the open door From the first time that I saw you To the way you look tonight I was shaken by your spirit I was blinded by your light And the world that I used to see is gone without a trace Replaced by your eyes and the smile upon your face And I will not turn away'Cause you might disappear I was haunted by your heart And I felt that you were here And funny when the time is right When lightning strikes You're not alone Baby, I will pray for you my whole life through This day We'll be together Husband and wife Now and forever The rest of our lives Well, take me to Heaven Take me tonight There is nothing words can say On this our wedding day\n",
      "You've got a plan that could never go wrong You took advantage and the damage done It all comes back to me baby It all comes back to me I played the fool and I went off the track And when I think of all it cost When the die was cast You know I had to be crazy You know I had to be I've been telling lies And you forgive me but my heart still cries And you can understand I'm just the man in the middle Of a complicated plan No one to show me the signs I'm just a creature of habit In a complicated world Nowhere to run to Nowhere to hide I know I let you down in so many ways I know that sorry doesn't tell you What you need me to say But, I would die for you baby Yes, I would die for you\n",
      "This is my dedication This is my dedication I'm not a saint but stand accused You're with someone who thinks love's the same as being used And now suspicious minds may say it's over Over Whether I live or die, you are my saviour You're my saviour It's my déjà vu, sweet déjà vu Through the feast or famine I'll be with you Sheltering arms reach out to you This is my dedication This is my dedication This is my dedication This is my dedication The silent nights, I cry your name You're with someone who says They can get you through your pain These golden years keep on returning It's hurting Precious and few You're my saviour, you're my saviour\n",
      "Now, I've been accused of going Hollywood Chasing some cinematic schemes But I'll give you Panavision pictures'Cos you give me Technicolor dreams Up there, walking on air I'd like to show you how I loved you way back then As much as I need you now Some people like to send the world away Some sunlight on some silver beams And I'll give you Panavision pictures'Cos you give me Technicolor dreams Oh wow, look at us now All of our dreams fulfill I would implore you still From under your windowsill Sometimes, I'd like to send the world away Some sunlight on some silver beams So I'll give you Panavision pictures'Cos you give me Technicolor dreams Technicolor dreams\n",
      "I've been around the world You'll never know just how long I've been praying to get you into my life It won't be long before you understand Even our love becomes a master plan and so I I think I'm walking on air So much in love, I can't tell what I'm saying There'll be no running away You and I won't be apart again I know in my heart that we can start again Wait for the summer when love's in the air You won't be sorry you answered my prayer I see the games that you play And I don't care what the people are saying No other love can compare Just to hold you in my arms again I feel like walking on air And just to dream you'll be there keeps me going And all those days go by We will never be apart again Knowing our love will never die\n",
      "Loose talk costs lives People like to play We're basically the same We never lie Loose talk costs lives Don't look at me as if you don't remember me at all There was laughter, there was pain But I won't make the same mistakes I made You are too beautiful to me I hide my tears inside the rain Am I the soul you cast your spell upon I had control and now it's gone Or are you someone who controls my heart and mind And I will never say a word And I will never say goodbye Loose talk costs lives People like to play We're basically the same We never lie Loose talk costs lives I can see that someone hung a sign around your heart And it reads \"do not return\"And there is so much trouble I could cause Someone as beautiful as you You can feel my candle burn\n",
      "I don't know what you want, I don't hear what you said Truth behind the lies'Cause I can't see what's in your head And spread your wings and fly, out in a brave new world Let this be my prayer, to keep you safe when I'm not there Can we love and live apart, I don't know,no, I don't know How can we divide the heart, I don't know, no, I don't know And when the night falls, and when the sky falls I long for your embrace And in the cold night, under the street light I long for your embrace Living separate lives, I have faith in you, away from you Like a lonely child, I will hang on every word Embrace Through the mists of time, lovers can be friends The power of the human heart The secrets in the souls of men All my blessings in disguise I don't know, no, I don't know Reunited we will rise I don't know, no, I don't know And when the night falls, and when the sky falls I long for your embrace And in the cold night, under the street light I long for your embrace Living separate lives, I have faith in you, away from you Like a lonely child, I will hang on every word\n",
      "I want to go where no one's gone before And my faith will find the way And I'm not afraid Now I am here with all that is true So many times You lived with my strength and my pain You are my friend I'm ready to walk that line Ready to fight, for I'm not alone in the night You're always in sight and it's so right For once in your life, let your soul shine through And know I will go That extra mile for you In all the years, you suffer for your love And my tears will fade away Heaven above Now I can steer my ship to the shore Borne on the wind All's fair in love and in war Steady and sure I'm ready to walk that line Ready to fight, I'll Weather the storm in the night, you're always around and it's so right For once in your life let your soul shine through And know I will go That extra mile for you\n",
      "It's another woman Hey, it could be me, it could be anyone Yeah, she got the energy to blind the sun And she make me glow She sparkle and I see the light I miss her every moment she is out of sight She's a necessity My baby keeps rolling me Watch her glide This girl is bonafide She's got what causes chaos She's got the power that I can't explain Blowing through each other like a hurricane Look at me, I'm twenty-seven stories high There may be somebody else and I don't want to live like that No, I don't want to live like that Don't want to live like that No, I don't want to live like that, live like that Just another voice in the wilderness Stick with me forever Cross my heart and hope to die You should give me everything and so will I And the world will know I say I will not lie You know more lovers than one for some become a necessity My baby keeps rolling me\n",
      "Well, it seems every night and day, I get to lose And I always held the faith inside That love would find a way And I always reached for more than the others ever saw I was always the first to follow my foolish prayer And the feeling that I have is more than any soul could bear Hold me when I wake Then I can be sure of who I am I'm half the man I should be, when you're gone And you're telling me this is love But just in case, keep my heart in a secret place Safe under lock and key, 'til I know it's only me One of us got to be the one that's true One for the other and the love comes through Right here or out in space Give my heart to you, babe, but just in case Yeah, just in case Tell the world that I've come to claim your tomorrows Let the universal word go out a million miles away And let history show On the wind the seed is sown We are living in a time where the tears fall where they might But we hear each other much more than those who see We are not alone Love is there for everyone who needs And for anyone who cries I will always have you here with me Ohh\n",
      "It's not worth one night on earth Baby I know, baby I know I won't know whose lips you're kissing Baby I know You don't know what you have done Baby I know, baby don't go You don't know what you are missing Baby and so There's not a sacrifice too strong I've been alone for far too long I'd be a fool to fail, I follow you You must believe Promise the earth Give her the ocean A kiss on the wind, goes straight to the heart Promise the earth With tears of emotion If fate is a force that tears you apart Please believe me, I would sell my soul for you It's not too late And we can turn back the time Baby I know I lay down with you in dreams Baby I know, baby don't go I was driven by this vision Baby and so If I could testify to you Then I could prove my aim is true If I am guilty or I'm innocent You must believe\n",
      "\n",
      "Filename: spirits_having_flown copy.txt\n",
      "Here I lie in a lost and lonely part of town Held in time in a world of tears, I slowly drown Going home, I just can't make it all alone I really should be holdin' you, holdin' you Lovin' you, lovin' you Tragedy When the feeling's gone, and you can't go on, it's tragedy When the morning cries and you don't know why, it's hard to bear With no one to love you, you're going nowhere Tragedy When you lose control, and you got no soul, it's tragedy When the morning cries and you don't know why, it's hard to bear With no one beside you, you're going nowhere Night and day, there's a burning down inside of me, ah Burning love with a yearning that won't let me be Down I go, and I just can't take it all alone I really should be holdin' you, holdin' you Lovin' you, lovin' you Tragedy When the feeling's gone, and you can't go on, it's tragedy When the morning cries and you don't know why, it's hard to bear With no one to love you, you're going nowhere Tragedy When you lose control, and you got no soul, it's tragedy When the morning cries and you don't know why, it's hard to bear With no one beside you, you're going nowhere Ah\n",
      "Nobody gets too much heaven no more It's much harder to come by, I'm waiting in line Nobody gets too much love anymore It's as high as a mountain and harder to climb Ooh, you and me, girl, got a lot of love in store And it flows through you And it flows through me And I love you so much more Then my life, I can see beyond forever Everything we are will never die Love is such a beautiful thing Oh, you make my world a summer day Are you just a dream to fade away? obody gets too much heaven no more It's much harder to come by, I'm waiting in line Nobody gets too much love anymore It's as high as a mountain and harder to climb You and me, girl, got a highway to the sky We can turn away From the night and day And the tears we had to cry\n",
      "Baby, I can't figure it out, your kisses taste like honey Sweet lies don't give me no rise Oh, oh, what you tryna do? ivin' on your cheatin' and the pain grows inside me It's enough to leave me crying in the rain Love you forever, but you're driving me insane And I'm hanging on Oh, oh, oh, oh Oh, I'll win, I'll never give in Our love has got the power Too many lovers in one lifetime ain't good for you You treat me like a vision in the night Someone there to stand behind you when your world ain't working right I ain't no vision, I am the man who Loves you inside and out Backwards and forwards with my heart hanging out I love no other way What am I gonna do if we lose that fire? rap myself up and take me home again Too many heartaches in one lifetime ain't good for me Figure it's the love that keeps you warm Let this moment be forever, we won't ever feel the storm\n",
      "Watching every day go by, living in a foolish game Just the way I feel today living my life without you Never hear a single word, living in a lullaby Praying every tear I cry living my life without you And everywhere you go I fly Darling 'til the day I die I'll be reaching out, I'll be reaching out Ah, ah, ah, ah, reaching out I'll be reaching out Ah, ah, ah, ah Everything is lonely and I need you Living my life forever, forever Watching every day go by Living on the one I love What I got is not enough Living my life without you\n",
      "Oh, yeah One, two, three, four I never fell in love so easily Where the four winds blow, I carry on I'd like to take you where my spirit flies Through the empty skies, we go alone Never before having flown Faster than lightning is this heart of mine In the face of time, I carry on I'd like to take you where my rainbow ends Be my lover, friend, we'll go alone Never before having flown I am your hurricane, your fire in the sun How long must I live in the air? ou are my paradise, my angel on the run How long must I wait? t's the dawn of the feeling that starts from the moment you're there You'll never know what you have done for me You've broken all those rules I live upon And I'd like to take you to my Shangri-La Neither here or far away from home Never before having flown\n",
      "Don't let the day keep movin' on With tears and pride, they hide the sun Look to the road that lies ahead I'm turnin' to the dream we left to die Dyin' alone, cry for the moment you passed me by Baby, I don't now how I'm only cryin' now Search, find No stone unturned, no hell, no fury Gon' stop my love in all its glory Search, find No man, no God, no pain can sever My love for you, God, we're forever Don't lose the will to make it right A day is just a brighter night And from the flames, a dyin' love Can learn to fly and rise above in me All that we are, you are the heart of my everything Maybe I lose my mind I'm not the losin' kind\n",
      "From daybreak to sunset you are the heart of me Saying what you don't really mean Now I know where you go and all the plans you made Playing for a love, not a dream All that I want is you now and somehow I let you down Lost in my pain, that where I lie You got to stop, think again, before you give it to him Stop, baby, one of us got to lose You gotta stop, think again, before you lost the heaven Stop, baby, one of us got to try Oh, it's a great big world that we live in Pleasure and pain, that's where I lie You got to stop, think again, before you give it to him Stop, baby, one of us got to try Midnight you leave me taking the part of me That loves you like he loves you, only more Birds cry, my sky falls, darkness becomes my life He got you, I got nothing to be living for\n",
      "Why ain't we livin', livin' together Instead of being so, so far apart? hy ain't we livin', livin' together Instead of being so, so far apart? hy ain't we livin' together, livin' together Instead of being alone? hy ain't we livin' together, livin' together Instead of being alone?  lay my heart on you and you can show the way I give my everlasting love until my dying day Take this lonely soul, the water or the wine A chance to make you mine, I lay my body on the line Why ain't we livin', livin' together Instead of being so, so far apart? hy ain't we livin', livin' together Instead of being so, so far apart? hy ain't we livin' together, livin' together Instead of being alone? hy ain't we livin' together, livin' together Instead of being alone?\n",
      "With you Baby, I'm satisfied Making my love to you'Cause you got me hypnotized And you came to me alone, girl I was a heart that's made of stone, girl And you broke it down in pieces And you took me for your own, girl I lie beneath your ecstasy You can pour it all over me I won't break the chains of loving you We got everything anybody needs And it's here with me, with you Baby, I'm satisfied Makin' my love to you'Cause you got me hypnotized Before you took me by the hand, girl I was a statue in the sand, girl I was broken down for reasons You could never understand, girl I was living on desire But that was just the way we were'Til you make a world of love in you We got everythin' anybody needs And it's here with me, with you\n",
      "You were a lovely child And your hair was like the morning sun And I knew we were in love We were alone to dream a dream We held our love that held our hearts And who are we who knew All there was in life and comin' through And every lonely sad mistake Every change and interchange we make We held our love and that held our hearts Until, until\n",
      "\n",
      "Filename: bee_gees_1st copy.txt\n",
      "Everything's happening At the turn of the century I'm gonna buy myself a time machine Go to the turn of the century And all those people passing by And the town crier makes his cry At the turn of the century Turn of the century Big wide hats and men is spats At the turn of the century With those horseless carriages At the turn of the century And there are lots of things to do On a bicycle built for two At the turn of the century Turn of the century Everything's happening At the turn of the century I'm gonna buy myself a time machine Go to the turn of the century And all those people passing by And the town crier makes his cry At the turn of the century Turn of the century, turn of the century\n",
      " Ooh you're a holiday Such a holiday Ooh you're a holiday Such a holiday It's something I think's worthwhile If the puppet makes you smile If not then you're throwing stones Throwing stones, throwing stones Ooh it's a funny game Don't believe that it's all the same Can't think what I've just said Put the soft pillow on my head Millions of eyes can see Yet why am I so blind When the someone else is me It's unkind, it's unkind De, de de de de de De de de de de de, de de De, de de de de de De de de de de de, de de\n",
      "Red chair, fade away Bring back memories Think of something nice Fragrant lemon trees I can feel the speaking sky I don't want to know It's filling up the air Grandpa's fairy tale Red chair round the fire Rainbows all the time We're all going higher I can feel the speaking sky I don't want to know It's filling up the air Red chair fade away Red chair fade away Red chair fade away Red chair fade away Red chair fade away Bring back memories Think of something nice Fragrant lemon trees\n",
      "One minute, women, please I'd go down on my knees To say to you with a word so true\"I love you\"I fail to understand Why you don't want my hand I try to find what's on your mind I wonder Why don't you stop and see Why you're not loving me Would it hurt to say \"Hello\"Or don't you know? ne minute, women, please I'd go down on my knees To say to you with a word so true\"I love you\"Why don't you stop and see Why you're not loving me:Would it hurt to say \"Hello\"Or don't you know? ne minute, women, please I'd go down on my knees To say to you with a word so true\"I love you, I love you. I love you\"\n",
      "I received an invitation'Come to the United Nations'That was when I was somebody In my own time Sitting selling hot cross buns Thousand suckers everyone Sounds just like a nursery rhyme In my own time Even when the lights go out Still got things to think about Memories I can't call mine In my own time My own time My own time\n",
      "\"Take this in hand\"Said he who stands Behind the chair A broken table there Every Christian lion-hearted man will show you Every Christian lion-hearted man will show you Don't walk so tall Before you crawl For every child Is thinking of something wild\n",
      "He smiled and rubbed the stubble on his chin His shoes showed signs of weariness And dreariness of life that's growing thin Yet he didn't have so very far to go With a pencil in his hand, he will travel on as planned With the mist up in the mountain through a light Craise Finton Kirk, see him go on his way Oh, they don't know where he is Very, very nice, very, very nice Even in the morning, when he slept Something good is missing There's nothing very much to talk about And nothing very much to see Craise Finton Kirk, see him go on his way Oh, they don't know where he is Very, very nice, very, very nice\n",
      "In the event of something happening to me There is something I would like you all to see It's just a photograph of someone that I knew Have you seen my wife, Mr. Jones? o you know what it's like on the outside? on't go talking too loud, you'll cause a landslide, Mr. Jones I keep straining my ears to hear a sound Maybe someone is digging underground Or have they given up and all gone home to bed Thinking those who once existed must be dead Have you seen my wife, Mr. Jones? o you know what it's like on the outside? on't go talking too loud, you'll cause a landslide, Mr. Jones In the event of something happening to me There is something I would like you all to see It's just a photograph of someone that I knew Have you seen my wife, Mr. Jones? o you know what it's like on the outside? on't go talking too loud, you'll cause a landslide, Mr. Jones\n",
      "There were the trees, see the grass, a Pinkerton spy Said \"This is the place I will try,\" and he did Stood in the dark, sat a man who beckoned him in But leaving his grass was a sin, but he did Cucumber Castle be ever so humble it's home He saw the light in the cellar reflect in his eyes Yet early that morning was he to receive a surprise Cucumber Castle be ever so humble it's home Cucumber Castle be ever so humble it's home Said \"Are you leaving or are you receiving my friend Doest need any money till then\" and he did He said \"I'm the owner,not you, and this is my stead So give it to me now I'm dead, and he did , said:Cucumber Castle be ever so humble it's home Cucumber Castle be ever so humble it's home\n",
      "There's a light A certain kind of light That never shone on me I want my life to be lived with you Lived with you There's a way everybody say To do each and every little thing But what does it bring If I ain't got you, ain't got you? Hey babe You don't know what it's like, baby You don't know what it's like To love somebody To love somebody The way I love you In my brain I see your face again I know my frame of mind You ain't got to be so blind And I'm blind, so so sorrily blind I'm a man, can't you see What I am I live and I breathe for you But what good does it do If I ain't got you, ain't got? Hey babe\n",
      "Look at me I'm riding high Don't know what's wrong with me Can't you see I'm not the guy That I pretend to be Though I know I will be lonely But our love will never die I close my eyes, everyday, I close my eyes Ah...... he more I try the more I fail I'd like to run away But if I try you pass me by I know that I can't stay x2I close my eyes I close my eyes I close my eyes\n",
      "I walk the lonely streets I watch the people passing by I used to smile and say hello Guess I was just a happy guy Then you happened, girl This feeling that possesses me I just can't move myself I guess it all just had to be I can't see nobody...no I can't see nobody My eyes can only look at you...you I used to have a brain I used to think of many things I watched the falling rain and listened to the sweet birds sing Don't ask me why, little girl I love you and that's all I can say You're every, every breath I take You are my nights; my night and day I can't see nobody...no I can't see nobody My eyes can only look at you...you\n",
      "Many years ago I was a simple man A simple man, no worries me I never laughed Please read me Not much conversation ever came from me I never saw reality I never tried Please read me Ah.... aybe I've been lying on your couch too long I'll stay if you can see me through, explain why Please read me \n",
      "Many years have passed, it seems And now I am all alone I've sent the children far away To some obscure unknown It's so sad, so sad Close another door Listen to my eyes Close another door You're much too old to work So won't you run away? hen I was young, I used to say That age won't bother me The life I had was very sad It all went out to sea So so sad, so sad And though the sun is in outside The rain is in my hair Now all my life is lived inside My home is there in my chair\n",
      "On a hill, inside a house in covewell reach Stands a man who's feeling very tired Looking at a song he wrote some time ago Could have made it big inside a Broadway show Every day I go away and find ideas Think, I'll climb on top of somewhere high Couldn't I write a song about a man who's dead Didn't really know if he was off his head Ev'rybody knows, that's the way it goes Too bad for Gilbert Green We can tell the world that he was right Sitting in his attic on a sunny day Mending 50 goblets that are worn Humming to himself a song of yesteryear His hearing wasn't good but his eyes were clear Ev'rybody knows, that's the way it goes Too bad for Gilbert Green We can tell the world that he was right Now the house is burnt along with Gilbert Green Sad to see his sisters stand and cry And in the basement lies a song that wasn't seen Tells the tale of laughing men and yellow beans\n",
      "The butler henry baker extinguishes the fires Whilst sir fred'rick harold robinson casually retires Another day tomorrow cries alan crayon steel All must be up early to have the morning meal The maid comes with decanter and to the butler there Said 'sir here's what you ordered' He said 'no one seems to care 'It must be good to live in the house of lords It must be good to live in the house of lords The house is now in darkness before the coming day But at five o'clock that morning , the master passed away The housemaid drew the curtains and the doctors watched the dawn And the brother bendix sadly watched the gardener mow the lawn It must be sad to live in the house of lords It must be sad to live in the house of lords Grandma mildred marshall was pouring out the tea When she heard about the news of sir frederick's tragedy The hall is now in sadness and everybody cried On the banks of burntley river is where sir frederick lies It must be sad to live in the house of lords It must be sad to live in the house of lords\n",
      "\n",
      "Filename: cucumber_castle copy.txt\n",
      "I could be king of kings, wear a crown and all the things I'd want I'd never need I'd be an ace in an aeroplane And every year, I'd fly to Spain If I could get the nerve to plant the seed Oh, help me how to say goodbye I see her face in myself Why, tell me why I made her cry If only had my mind on something else Captain of the submarine Beneath the icebergs never seen A hero with a medal for everyday I find me fame, reach the top I keep on pushing never stop If I could just forget her name Oh, help me how to say goodbye I see her face in myself Why, tell me why I made her cry If only had my mind on something else If only had my mind on something else\n",
      "I O, I I I I I I O, I O I O, I I I I I I O, I O I O, I I I I I I O, I O I O, I I I I I I O, I O You know I love getting up in the morning When the sun first strikes the trees All the morning birds that sing above Still bring back memories Of a girl who stood beside me When the rights I did were wrong But she went back down the river Just when I thought I could be strong When I thought I could be strong, so I sing I O, I I I I I I O, I O I O, I I I I I I O, I O She never told me why she left me But the letter said goodbye Now my mornings are for wondering And my nights to reason why\n",
      "I never ask for any time from you baby I never ask for any lies You only hurt the one you love the most baby You only had to make me cry Cause you left me  all alone You left me to stand alone And every night I sit beside my bed baby And I keep thinking of your love The things we dreamed about How much I love you baby We had the world and the stars above But then you left me  all alone. ou left me . You left me  to stand alone You left me to stand alone You left me to stand alone You left me. You left me. You left me. You left me\n",
      "Play you a song What do you get for trying? inute you're born, you're dying Body is six feet down The Lord said the soul sticks around You can believe what you wanna But I know what I'm gonna do I'm gonna believe in the Lord You can believe what you wanna But I know what I'm gonna do I'm gonna believe in the Lord You think you live on laughter But you don't know what's after Singing hallelujah I can know the master You can believe what you wanna But I know what I'm gonna do I'm gonna believe in the Lord You can believe what you wanna But I know what I'm gonna do I'm gonna believe in the Lord, yeah\n",
      "When I was young We walked to school And I carried your books'cause even then I was a fool But you grew up and said goodbye I still remember the things that made me cry For all too soon My story ends I found a love Now not even friends Why loving you Loving me like you used to do I was the child I held your hand and I told you things And I made you believe Believe in fairy tales And diamond rings Then all too soon my story ends I found a love now not even friends Tell me why loving you Loving me like you used to do I was the child\n",
      "Only last night when your arms held me tight You told me you thought our love could last forever, forever I was the one that gave you all my love when I thought That our love could last forever, forever I lay down and die The whole world joins in And everyone cries As teardrops begin I lay down and die And when darkness falls Can't see nothing at all I lay down and die The whole world joins in I lay down and die The teardrops begin I lay down and die And die And die I lay down and die The whole world joins in I lay down and die And the teardrops begin\n",
      "If your heart tells you so that you should leave me Don't try to forget , you and I never met And before you fly, one kiss should tell me why You've forgotten all the words that you once said Long as I've got you there beside me Long as you're there to stand and guide me The love we share no one can ever tear apart Long as I've got this life I'm living Long as it's you the love I'm with then I'll keep on calling you sweetheart If my love for you can't make you happy Just open the door and you won't see my anymore And before you fly , one kiss should tell me why You've forgotten all the words that you once said When you said Long as I've got you there beside me Long as you're there to stand and guide me The love we share no one could ever tear apart Long as I've got this life I'm living Long as it's you the love I'm with then I'll keep on calling you sweetheart And I'll keep on calling you sweetheart\n",
      "I wasn't born in the morning, no I must have been born in the night I've done my load and I'll carry my load And all I own is my knife I wasn't born to be lucky'Cause luck had no future with me I've done my wrong and I'll sing, sing, sing my song And stand beneath the hanging tree Bury me down by the river Let all the towns people see Their enemy's dead, let me lay, lay my head Just put me down and set me free I wasn't born as a rich man, no A rich man I never, I never could be I've done my wrong and I'll sing, sing, sing my song And stand beneath the hanging tree Everybody sing now Bury me down by the river, Lord no Let all the towns people see, see Their enemy's dead, let me lay, lay, lay my head Just put me down and set me free I want to hear everybody sing\n",
      "I see my dog lying under the table I see him licking my brother's girlfriend's hand La de da da da La de du da de du da de du du I can't understand those eyes that keep staring at me I can't understand how you do what you do to me I keep on looking for you everywhere I can't get used to the feeling you're giving me Bowzey wow wowzey Bowzey wow wowzey bow wowzey bow wowzey Du du du du La la la la la la la la la\n",
      "You and me we're both the same In this life a lonely game I used to be a happy man And now I understand just what it's all about I never had a doubt on the chance of love As a boy I lived down here I always saw you near To be together was happiness And I just can't forget the moment we first kissed I'd like to try again on the chance of love Yeah, on the chance of love I'll do anything to get you by my side On the sound of love I will love you girl You'll be mine All the world would then be free An apple falls from an apple tree You and I will be together And you will understand when I take your hand I'll open up the door to the chance of love\n",
      "What would I say if you should turn away from me I do not know if there are words that I can see I only know that I am reaching too high And who are we to touch the wind And say our ship is coming in The turning tide Tell me the answer in your changing mind, changing mind I don't know if love can last When time is gone and we are on the roundabout Would you still laugh and be a clown when love runs out Or will you say that I am reaching too high And who are we to touch the wind And say our ship is coming in The turning tide And who are we to touch the the wind And say our ship is coming in The turning tide\n",
      "Oh my heart won't believe that you have left me I keep telling my self that it's true I can get over anything you want my love But I can't get myself over you Don't forget to remember me And the love that used to be I still remember you I love you In my heart lies a memory to tell the stars above Don't forget to remember me my love On my wall lies a photograph of you girl Though I try to forget you somehow You're the mirror of my soul so take me out of my hole Let me try to go on living right now Don't forget to remember me And the love that used to be I still remember you I love you In my heart lies a memory to tell the stars above Don't forget to remember me my love\n",
      "\n",
      "Filename: saturday_night_fever copy.txt\n",
      "Well, you can tell by the way I use my walk I'm a woman's man, no time to talk The music loud and the women warm I've been kicked around since I was born And now it's alright, it's okay And you may look the other way But we can try to understand The New York Times' effect on man Whether you're a brother or whether you're a mother You're stayin' alive, stayin' alive Feel the city breakin' and everybody shakin'And we're stayin' alive, stayin' alive Ah, ah, ah, ah Stayin' alive, stayin' alive Ah, ah, ah, ah Stayin' alive Oh, when you walk Well now, I get low and I get high And if I can't get either, I really try Got the wings of Heaven on my shoes I'm a dancin' man and I just can't lose\n",
      "I know your eyes in the mornin' sun I feel you touch me in the pourin' rain And the moment that you wander far from me I wanna feel you in my arms again And you come to me on a summer breeze Keep me warm in your love, then you softly leave And it's me you need to show How deep is your love? ow deep is your love? How deep is your love?  really mean to learn'Cause we're livin' in a world of fools Breakin' us down When they all should let us be We belong to you and me I believe in you You know the door to my very soul You're the light in my deepest, darkest hour You're my saviour when I fall\n",
      "Listen to the ground There is movement all around There is something goin' down And I can feel it On the waves of the air There is dancin' out there If it's somethin' we can share We can steal it And that sweet city woman, she moves through the light Controlling my mind and my soul When you reach out for me, yeah, and the feelin' is right Gimme that night fever, night fever We know how to do it Gimme that night fever, night fever We know how to show it Here I am Prayin' for this moment to last Livin' on the music so fine Borne on the wind, makin' it mine\n",
      "Oh, girl, I've known you very well I've seen you growing every day I never really looked before But now you take my breath away Suddenly you're in my life Part of everything I do You got me working day and night Just trying to keep a hold on you Here in your arms, I found my paradise My only chance for happiness And if I lose you now, I think I would die Oh, say you'll always be my baby, we can make it shine We can take forever, just a minute at a time More than a woman More than a woman to me More than a woman More than a woman to me Oh, now there are stories old and true Of people so in love like you and me And I can see myself Let history repeat itself Reflecting how I feel for you Thinking 'bout those people then I know that in a thousand years I'd fall in love with you again\n",
      "It's just your jive talkin', you're telling me lies, yeah Jive talkin', you wear a disguise Jive talkin', so misunderstood, yeah Jive talkin', you're really no good Oh, my child, you'll never know Just what you mean to me Oh, my child, you got so much You gonna take away my energy With all your jive talkin', you're telling me lies, yeah Good lovin' still gets in my eyes Nobody believe what you say It's just your jive talkin' that gets in the way Oh, my love, you're so good Treating me so cruel There you go with your fancy lies Leavin' me lookin' like a dumbstruck fool With all your jive talkin', you're telling me lies, yeah Jive talkin', you wear a disguise Jive talkin', so misunderstood, yeah Jive talkin', you just ain't no good You know that love talkin' is all very fine, yeah Jive talkin' just isn't a crime And if there's somebody you'll love till you die Then all that jive talkin' just gets in your eye, yeah \n",
      "My baby moves at midnight Goes right on 'til the dawn My woman, take me higher My woman, keep me warm What you doin' on your back? Hey What you doin' on your back? Hey You should be dancing, yeah Dancing, yeah She's juicy and she's trouble She gets it to me good My woman, give me power Go right down to my blood What you doin' on your back? Hey What you doin' on your back? Hey You should be dancing, yeah Dancing, yeah What you doin' on your back? hat you doin' on your back? Hey You should be dancing, yeah Dancing, yeah\n",
      "\n",
      "Filename: trafalgar copy 3.txt\n",
      "I can think of younger days when living for my life Was everything a man could want to do I could never see tomorrow But I was never told about the sorrows And, how can you mend a broken heart? ow can you stop the rain from falling down? ow can you stop the sun from shining? hat makes the world go round? ow can you mend this broken man? ow can a loser ever win? lease help me mend my broken heart and let me live again I can still feel the breeze that rustles through the trees And misty memories of days gone by We could never see tomorrow No one said a word about the sorrow And how can you mend a broken heart? ow can you stop the rain from falling down? ow can you stop the sun from shining? hat makes the world go round? nd how can you mend this broken man? ow can a loser ever win? lease help me mend my broken heart and let me live again\n",
      "You've had your troubles Israel I've seen them all But you put the writing on the wall Israel, Israel You know I've seen you fall so many times I've cried for you and that's a crime Israel, Israel, Israel Where there's sand Where there's beautiful sand You know you got a kind of feeling That's just grand Take me into your arms Let me be with you Israel, Israel, Israel I like the smiles up on your people's faces They make you feel warm embraces And I want that kind of smile That kind of smile Israel you make the whole world think about you And if they don't they'll find a reason To shout about Israel, Israel\n",
      "Before I heard your voice I never heard a sound like that before I wanna hear it more and more Take me to heaven My love is stronger than the wall I'll climb it till I fall So I can hear you call, your love I'd be the greatest man in the world'Cause I can say I got the greatest girl I'd be the greatest man in the world'Cause I can say I got the greatest girl Before I saw your face I never saw a dream like that before I wanna see it more and more Take me to heaven My love is stronger than the wall I'll climb it till I fall So I can hear you call, your love Be the greatest man in the world'Cause I can say I've got the greatest girl Be the greatest man in the world'Cause I can say I got the greatest girl The greatest girl\n",
      "Just the way that I feel about tomorrow I'll be sad and alone all the time It's just the way that you said You don't love me anymore, then goodbye I can't believe what you're saying You don't love me anymore, goodbye Just the way that I feel about tomorrow Knowing you won't be there by my side I wish that I could say to you Well, can't we just be good friends? ould you leave the door open Let me walk in again? hat's the way I've been thinking 'bout tomorrow I only know that friends can't be lovers again\n",
      "I never really want to be alone I had a woman once in my life But now she's flown Every night I keep seeing her face I never really broke her heart She was a part of me But that's the way it was Now we live separately When will you walk through this door babe? hen you left I fell to pieces but now I feel as good as if I were dead I'll keep remembering all my life Remembering when you were my wife Remembering all my life And I'm facing a life that I must go through remembering I first set my eyes on you one cold February You made me go out of my way to make me feel fine Oh, but when will you walk through this door babe? hen you left I fell to pieces, now I feel as good, as good as if I were dead I'll keep remembering all my life Remembering when you were my wife Remembering all my life And I'm facing a life that I must go through remembering\n",
      "I arise, try to see my face through my disguise And on the balcony I knew inside of me it will be done Somebody stop the music, somebody stop the tune Somebody crown the clown with the red balloon Somebody stop the music, somebody stop the tune Somebody crown the clown with the red balloon I arose, the truth will out the more it grows It's not a mystery, no one was hiding it from me Somebody stop the music, somebody stop the tune Somebody crown the clown with the red balloon Somebody stop the music, somebody stop the tune Somebody crown the clown with the red balloon Don't love ya, baby don't love ya Don't love ya, baby don't love ya Don't love ya, baby don't love ya Don't love ya, baby don't love ya Don't love ya, baby don't love ya Yeah, today I saw the sun, the sun\n",
      "I rolled into the smoke and there I lost my hope I need someone to know me and to show me The square peg fits the hole Why haven't I been told?  need someone to know me and to show me Trafalgar, trafalgar, trafalgar, please don't let me down Ten hundred people roam through the place I call me home I need someone to know me and to show me Sitting cross-legged on my own and yet I'm not alone Don't need no one to show me No one owns me Trafalgar, trafalgar, trafalgar Trafalgar, trafalgar, trafalgar, please don't let me down Trafalgar\n",
      "I am the searcher of my fortunes I've got my right hand on the wheel We've got to dig the buried treasures I know, exactly how I feel Don't want to live inside myself I'm much better off alone But then you must believe In the falling rain Don't wanna live inside myself Don't wanna live inside myself Don't wanna live inside myself I went walking through a graveyard Where the darkness is my friend I heard all about the beginning I wanna see just where it ends\n",
      "Tell me if dreams do come true If so, then I know that I'm losing you And you know the address where we live But I swear there'll be no turning back to you, I won't forgive When do I and when do I Know if there's an answer why?  wonder if I know where I fit in How do I and how do I Stop myself from gonna cry?  wonder if I know where I fit in Tell me if dreams do come true If so then I know that I'm losing you And you know the address where we live But I swear there'll be no turning back to you I won't forgive When do I and when do I Know if there's an answer why?  wonder if I know where I fit in How do I and how do I Stop myself from gonna cry?  wonder if I know where I fit in And when do I and when do I When do I When do I know if I fit in?\n",
      "I hear you calling me dearest too My dearest, I'm nearest, then I've ever been before To have you calling me dearest once more My dearest, this picture My own memory Wishing this picture was reality Where do I go from here? The Lord took you away And if you could see my today, I will remember you I will remember you My dearest, sincerest There's no one but you and Here in my heart you're my dearest too Where do I go from here? The Lord took you away And if you could see me today, I will remember you I will remember you My dearest, sincerest There's no one but you and Here in my heart you're my dearest too\n",
      "Lion in my winter I'm a lion with no crown You wanna make me big man , a star on a screen Some kind of James Brown or something in between But when I ask for money you smother me in charms I can't live on glory when your bendin' both my arms I , I was a lion in winter And man I had friends for miles around I was a lion in my winter What good's a lion Lord, without a crown You're living in a cave man ,upon your marble throne You think you own the heavens, but you've got to be alone You know I prayed for sunshine, a woman with my name I don't want to live man, you gave away the game I, I was a lion in winter And man I had friends for miles around I was a lion in my winter What good's a lion Lord , without a crown I, I was a lion in winter And man I had friends for miles around I was a lion in my winter What good's a lion Lord , without a crown\n",
      "I wish there was another year, another time When people sang and poems rhymed Mmm, my name could be Napoleon A thousand ships, a windy sail So huge and high, it's tall enough to touch the sky It's beautiful, but hard to find But I just wasn't born in time Walking back to Waterloo again Where do I begin? f you play indiscreet You can get a good seat At the end I can dream of growing trees And things that live and grass that's green In meadows that have never been But I still place my trust in the Queen What is life when a man is pressured Based on wrong or right? nd I don't know what it means There must be more we haven't seen\n",
      "Country women now, what you gonna do with your life Country women now, why don't you get out of this life Leave my life alone The first time I met you I knew you were the devil's daughter You came on like a river, doin' all the things you oughta You're a self made women, baby, not a made-to-order If you had your way, I know you'd make me stay And that would only bring me down Country women now, what you gonna do with your life Country women now, why don't you get out of this life Leave my life alone Country women, country women, country women Country women, country women, ahh... ountry women now, what you gonna do with your life Country women now, why don't you get out of this life Leave my life alone Leave my life alone Country women now, country women now, country women now Country women now, country women now, country women now\n",
      "We must have lost the road Don't you think it's getting late Maybe if it's colder We can stop and wait We must have lost the words All the little things we said And now the world is frozen Only you in my head Oh, we lost the road Oh, we lost the road Oh, we lost the road Oh, we lost the road We must have lost the tune Where did I step out of line I'll search for the melody That calls you mine\n",
      "\n",
      "Filename: main_course copy.txt\n",
      "Here we are In a room full of strangers Standing in the dark Where your eyes couldn't see me Well, I had to follow you Though you did not want me to But that won't stop my loving you I can't stay away Blamin' it all on the nights on Broadway Singin' them love songs Singin' them \"straight to the heart\" songs Blamin' it all on the nights on Broadway Singin' them sweet sounds To that crazy, crazy town Now in my place There are so many others Standin' in the line How long will they stand between us\n",
      "It's just your jive talkin', you're telling me lies, yeah Jive talkin', you wear a disguise Jive talkin', so misunderstood, yeah Jive talkin', you're really no good Oh, my child, you'll never know Just what you mean to me Oh, my child, you got so much You gonna take away my energy With all your jive talkin', you're telling me lies, yeah Good lovin' still gets in my eyes Nobody believe what you say It's just your jive talkin' that gets in the way Oh, my love, you're so good Treating me so cruel There you go with your fancy lies Leavin' me lookin' like a dumbstruck fool With all your jive talkin', you're telling me lies, yeah Jive talkin', you wear a disguise Jive talkin', so misunderstood, yeah Jive talkin', you just ain't no good You know that love talkin' is all very fine, yeah Jive talkin' just isn't a crime And if there's somebody you'll love till you die Then all that jive talkin' just gets in your eye, yeah \n",
      "In the streets of New York City Every man can feel the cold And I don't want no pity But I want my story told And the lights shine down on me They shine on the little boy Is this the way to make him pay Being born in a world of joy? ut like me, he don't know where he'll go wrong He won't cry so many tears Till he finds out why he don't belong But like me, there's no room for us out there You can lose your hope and pride When it comes to broken dreams, you'll get your share Sometimes A man breaks down And the good things he is looking for Are crushed into the ground\n",
      "Go on with your song, bird You can't go wrong bird You will go on and on, bird Like you did before Though your wings are broken The sky is so wide open And the wind is waiting for you Like an open door Though you go so far away Your voice will still be heard so well You'll never really ever know How beautiful you are When the moon is on the rise I'll try to make my songbird fly I wonder if he ever will And if he really did, how far Go on with your song, bird You can't go wrong bird You will go on and on, bird Through the open door\n",
      "First I rise, then I fall Seems like you don't want the love Of this man at all And it's sure been a lonely time Right up to the time I met you So if you take a love like mine Be tender with my love You know how easy it is to hurt me Fanny, be tender with my love'Cause it's all that I've got And my love won't desert me So you say to yourself, boy You're out of your brain Do you think I'm gonna stand here All night in the rain? nd it's the start of a love affair The moment when I first met you And if you want I'll take you there Be tender with my love You know how easy it is to break me Fanny, be tender with my love'Cause it's all that I've got And my love won't forsake me\n",
      "About an hour or more When I go upstairs You can read between the lines I can make it to the top But then I gotta stop But I'm all right I'm really fine It's just the wine And all this making love In a day or so It'll really show Gonna wear me to the ground It's just the way it goes She keeps me on my toes But I'm all right And should I mind It's just the wine And all this making love\n",
      "So, warm is my morning sun, red is my rainbow Soft is the cool summer breeze when I saw your face I saw the light in your eyes so dark and demanding Like a light in the storm Whenever I cry my friend You're always away and so I pretend If I could live the dreams that I see Long live my love Walking in country lanes I'll never belong to someone again Living my whole life through Long live my love for you My life has meaning now, I am a window And all things seem clear to me now Like a light in the storm Whenever I cry my friend You're always away and so I pretend If I could live the dreams that I see Long live my love Walking in country lanes I'll never belong to someone again Living my whole life through Long live my love\n",
      "If my life gets like a jig saw With the pieces out of place Come on over Put a smile back on my face And if all my bad days came at once You would know just what to do Come on over Baby, you will see me through And if you think I need you Come on over Bring your love around You can dry away my tears And if you think I need you Come on over\n",
      "Just my dog and I At the edge of the universe Well, I didn't want to bring her And I know it'll make her worse Now I look out on forever And it must be nice down there And they call me Shenandora in the air Well, I'm ten feet tall But I'm only three feet wide And I live inside an ocean that flows On the other side If I came back down tomorrow Would it all be far too soon? nd it looks like it's gonna be a lovely afternoon I thought that I was going home And all the way I kept on praying I couldn't stop to turn around; ell, here I am and here I'm staying It's been my longest journey And I've come through the black of night I was tired and hungry When I saw your distant light\n",
      "Here am I one sad and lonely guy One shadow of the man I used to be Now it's past, the love I thought would last You thought I had you chained And now you're free I know it's wrong but I'm still holding on Still praying you will soon come back to me But then you go, you let your feelings show You said I gave you pain, and now I see But baby, as you turn away I will always think of what we had together Baby, this is just your way of breaking my heart And it's easier to say goodbye Making me fall, making me try, try to make You stay as you turn away Now you're gone, this road I walk upon is just Another place where I can hide I'm still your man There's proof of who I am Except without your love I'm dead inside\n",
      "\n",
      "Filename: idea copy.txt\n",
      "Let there be love So I can be loved by you In Paradise Avenue Let there be life So everyone lives to love Let it happen to me and you I am a man So take me for what I am I'll never have everything But let there be love Let there be love Let there be love I can be nothing Or I can be something I've got to give you my life I'm tired of living Without your giving I've got to get you for my wife Can't hold on much longer The feeling's getting stronger I never begged, but I'm begging now\n",
      "Eve never pleases me and kitty can Eve never pleases me and kitty can When kitty smiles, the world stands still I see a thousand golden daffodils But when she cries, the world just dies I see a million tears in kitty's eyes Eve never pleases me and kitty can Eve never pleases me and kitty can Now Eve is bad and treats me cruel She loves to see me looking like a fool I find a way with words I say To be in love in such a lonely way Eve never pleases me and kitty can Eve never pleases me and kitty can Now they are two and I am one I cannot fall in love with everyone So I must choose between the two Made up my mind, now I am choosing you Eve never pleases me and kitty can Eve never pleases me and kitty can\n",
      "In the summer of his years He would always smile He would laugh every day If he was here to stay For the summer of his years In the daylight of his dreams He would save his tears He would always hear When there was no one near For the summer of his years Ah-ah, ah-ah-ah Ah-ah-ah, ah, ah Ah-ah-ah, ah, ah Ah-ah-ah, ah, ah For the summer of his years For the summer of his years\n",
      "All day, all night You feel as if the earth could fly Three more all for fine Indian gin and whisky dry Fine Indian gin and whisky dry Small town, closed down, there's nowhere else around to try Disturbingly a voice would cry\"Go home, no loan, you'll have you gin and whisky dry You'll have your gin and whisky dry\"Four, ten, four men, lining up for their handy brandy All's gone, you're none, came the bartender's reply But I've tried and I'm tied To Indian gin and whisky dry To Indian gin and whisky dry To Indian gin and whisky dry...\n",
      "Hello there, is there any air? Can you slow me down? an you believe that what you see could never ever be so real somehow Down to earth, my merry men There's some help needed here and you're there You can see if you stand on your chair That there's millions and millions and Millions and millions of people like Hello there, Do you really care? Have you time to learn? ould you believe that what you read One thousand pages couldn't tell you why Down to earth, my merry men There's some help needed here and you're there You can see if you stand on your chair That there's millions and millions and Millions and millions of people like you That there's millions and millions and Millions and millions of people like you\n",
      "All that I hear doesn't feel right Don't call me 'till you're all right I listened and I heard but don't tell me. La de da Once in a while he says good night Will I care if sometimes he is right? hat a shame, it's the same each day. La de da... h how I tried!  just sat and then I cried Maybe I'm wrong or will I find out when I'm gone? here is so much fun in my leisure Don't bother me, man, just stay there If it's a sin, I'll convert me astray. La de da... ome be home with me, it's not a shame for you to see Oh let it be and you'll miss reality\n",
      "I been thinkin', sittin' on a pole I'm gettin' sick of doin' what I'm told Just me in the mirror and my brain But that was when I got an idea Came like a gun and shot in my ear Don't you think it's time You got up and stood alone? ifteen years, I laid down on the ground I couldn't feel any noise or hear any sound Fifteen million years, I spent down the line But that was when I got an idea Came like a gun and shot in my ear Don't you think it's time You got up and stood alone?\n",
      "I wander lonely as a cloud I keep my head above the crowd Ain't nobody else as big as me But I must remember friends What has to start just has to end Everybody's got a destiny And I know when the swallows flies Yes I know, and the earth just dies Then I'll be told what I am The swallow and me I'll look after number one I'll forget the beggar's son Everybody's got to stay alive I'll keep a-walking amongst the clouds I'll keep my head above the crowd I'll watch them live, I'll watch them die And I know when the swallows flies Yes I know, and the earth just dies Then I'll be told what I am The swallow and me And I know when the swallows flies Yes I know, and the earth just dies Yes I know when the swallow flies Yes I know, and the earth just dies\n",
      "Mother, I'm going to join the Air Force today I don't care what the neighbors may say But I'm going to join the Air Force today Mother,  don't care what my father might think Perhaps it's going to drive him to drink But I don't care what my father might think Don't ask me why, it's my mind and it's right Don't ask me why, it's my mind It's better, it's better than being alone Alone on the ground. Now I find Mother, 've got to join the Air Force you see I've seen my friends and they all agree That's it's better than joining the army or going to sea Mother, 've go to join the Air Force you see I've seen my friends and they all agree That's it's better then joining the army or going to sea Mother, Mother, Mother\n",
      "I started a joke Which started the whole world crying But I didn't see That the joke was on me, oh no I started to cry Which started the whole world laughing Oh, if I'd only seen That the joke was on me I looked at the skies Running my hands over my eyes And I fell out of bed Hurting my head from things that I'd said'Til I finally died Which started the whole world living Oh, if I'd only seen That the joke was on me I looked at the skies Running my hands over my eyes And I fell out of bed Hurting my head from things that I'd said\n",
      "I am a bird, watch me go drifting by With my feathers of power I laugh as the hours go slowly by That could mean everything I am a street, watching the people walk As I listen, their conversations glisten As they start to talk Then I hear everything Little white jug, me, and Kilburn Towers As we sit on the hill and we drink And we swill 'til the early hours Then I am everything Little white jug and me and Kilburn Towers That could mean everything Little white jug, me, and Kilburn Towers As we sit on the hill and we drink And we swill 'til the early hours Then I am everything Little white jug and me and Kilburn Towers\n",
      "This is my swan song Whatever I do now, I do it well This is my swan song I fell in love with you I love you well And if the Lord provides the music for the world around to sing My love will build a castle in the air This is my last chance A chance to show the world that I am strong This is my last dance I'm walking off the floor where I belong And if the Lord provides the music for the world around to sing My love will build a castle in the air La... nd if the Lord provides the music for the world around to sing My love will build a castle in the air This is my swan song I fell in love with you I love you well I love you well I love you well\n",
      "\n"
     ]
    }
   ],
   "source": [
    "# loading in the .txt files of NOT preprocessed lyrics (as a precaution to double check)\n",
    "folder_path = \"/Users/maika/My_Notebooks/DSMA/Final Project/lyrics copies\"\n",
    "\n",
    "for filename in os.listdir(folder_path):\n",
    "    if filename.endswith(\".txt\"):\n",
    "        file_path = os.path.join(folder_path, filename)\n",
    "        with open(file_path, encoding='utf-8-sig') as file:\n",
    "            text = file.read()\n",
    "            # Process the text content of each file here\n",
    "            # For example, print the filename and the text:\n",
    "            print(f\"Filename: {filename}\")\n",
    "            print(text)"
   ]
  },
  {
   "cell_type": "code",
   "execution_count": 153,
   "metadata": {},
   "outputs": [
    {
     "name": "stderr",
     "output_type": "stream",
     "text": [
      "[nltk_data] Downloading package punkt to /Users/maika/nltk_data...\n",
      "[nltk_data]   Package punkt is already up-to-date!\n",
      "[nltk_data] Downloading package stopwords to /Users/maika/nltk_data...\n",
      "[nltk_data]   Package stopwords is already up-to-date!\n",
      "[nltk_data] Downloading package punkt_tab to /Users/maika/nltk_data...\n",
      "[nltk_data]   Package punkt_tab is already up-to-date!\n"
     ]
    }
   ],
   "source": [
    "# attempt 2 with un-preprocessed lyrics\n",
    "import nltk\n",
    "nltk.download('punkt')\n",
    "nltk.download('stopwords')\n",
    "nltk.download('punkt_tab')\n",
    "import re\n",
    "import numpy as np\n",
    "import pandas as pd\n",
    "from pprint import pprint\n",
    "\n",
    "# Gensim\n",
    "import gensim\n",
    "import gensim.corpora as corpora\n",
    "from gensim.utils import simple_preprocess\n",
    "from gensim.models import CoherenceModel\n",
    "\n",
    "# spacy for lemmatization\n",
    "import spacy\n",
    "\n",
    "# Plotting tools\n",
    "import pyLDAvis\n",
    "import pyLDAvis.gensim_models\n",
    "import matplotlib.pyplot as plt\n",
    "%matplotlib inline\n",
    "\n",
    "# Enable logging for gensim - optional\n",
    "import logging\n",
    "logging.basicConfig(format='%(asctime)s : %(levelname)s : %(message)s', level=logging.ERROR)\n",
    "\n",
    "import warnings\n",
    "warnings.filterwarnings(\"ignore\",category=DeprecationWarning)"
   ]
  },
  {
   "cell_type": "code",
   "execution_count": 196,
   "metadata": {},
   "outputs": [],
   "source": [
    "# Load the .txt file\n",
    "with open('/Users/maika/My_Notebooks/DSMA/Final Project/lyrics copies/main_course copy.txt', 'r') as file:\n",
    "    text = file.read()\n",
    "\n",
    "# Tokenize the text into sentences\n",
    "from nltk.tokenize import sent_tokenize\n",
    "sentences = sent_tokenize(text)\n",
    "\n",
    "# Further preprocessing steps\n",
    "def preprocess_text(text):\n",
    "    # remove non-ASCII characters\n",
    "    text = re.sub(r'[^\\x00-\\x7F]+', ' ', text)\n",
    "    # replace multiple spaces with a single space\n",
    "    text = re.sub(r'\\s+', ' ', text)\n",
    "    # replace capital letters with lowercase\n",
    "    text = text.lower()\n",
    "    # remove special characters (keep letters, numbers, basic punctuation)\n",
    "    text = re.sub(r'[^a-zA-Z0-9\\s]', '', text)\n",
    "    # strip leading/trailing whitespace\n",
    "    text = text.strip()\n",
    "    # Tokenize into words\n",
    "    tokens = simple_preprocess(str(text), deacc=False)  # deacc=True removes punctuations\n",
    "    # Remove stop words (optional)\n",
    "    from nltk.corpus import stopwords\n",
    "    stop_words = stopwords.words('english')\n",
    "    tokens = [token for token in tokens if token not in stop_words]\n",
    "    return tokens\n",
    "\n",
    "# Apply preprocessing to each sentence\n",
    "processed_sentences = [preprocess_text(sentence) for sentence in sentences]\n",
    "\n",
    "# Create bigrams and trigrams if needed (optional)\n",
    "from gensim.models import Phrases\n",
    "bigram = Phrases(processed_sentences, min_count=5, threshold=100) # higher threshold fewer phrases.\n",
    "trigram = Phrases(bigram[processed_sentences], threshold=100)  \n",
    "bigram_mod = gensim.models.phrases.Phraser(bigram)\n",
    "trigram_mod = gensim.models.phrases.Phraser(trigram)\n",
    "\n",
    "def make_bigrams(texts):\n",
    "    return [bigram_mod[doc] for doc in texts]\n",
    "\n",
    "def make_trigrams(texts):\n",
    "    return [trigram_mod[bigram_mod[doc]] for doc in texts]\n",
    "\n",
    "data_words_bigrams = make_bigrams(processed_sentences)\n",
    "data_lemmatized = data_words_bigrams\n",
    "\n",
    "# Create Dictionary and Corpus\n",
    "id2word = corpora.Dictionary(data_lemmatized)\n",
    "corpus = [id2word.doc2bow(text) for text in data_lemmatized]\n",
    "\n",
    "# Join the preprocessed tokens back into sentences\n",
    "cleaned_text = [' '.join(sentence) for sentence in data_lemmatized]\n",
    "\n",
    "# Save the cleaned text to a new file\n",
    "with open('CLEANED_main_course.txt', 'w') as outfile:\n",
    "    outfile.write('\\n'.join(cleaned_text))"
   ]
  },
  {
   "cell_type": "code",
   "execution_count": 197,
   "metadata": {},
   "outputs": [],
   "source": [
    "# build LDA model\n",
    "# Load the cleaned file\n",
    "with open('/Users/maika/My_Notebooks/DSMA/Final Project/CLEANED album lyrics/CLEANED_main_course.txt', 'r') as file:\n",
    "    cleaned_text = file.readlines()\n",
    "\n",
    "# Split each line into tokens (assuming space as the separator)\n",
    "cleaned_docs = [line.strip().split() for line in cleaned_text]\n",
    "\n",
    "# Create dictionary and corpus\n",
    "id2word = corpora.Dictionary(cleaned_docs)\n",
    "corpus = [id2word.doc2bow(text) for text in cleaned_docs]\n",
    "\n",
    "# Set number of topics\n",
    "num_topics = 5  # Adjust as needed\n",
    "\n",
    "# Build LDA model\n",
    "lda_model = LdaModel(corpus=corpus,\n",
    "                   id2word=id2word,\n",
    "                   num_topics=num_topics,\n",
    "                   random_state=100,\n",
    "                   update_every=1,\n",
    "                   chunksize=100,\n",
    "                   passes=10,\n",
    "                   alpha='auto',\n",
    "                   per_word_topics=True)"
   ]
  },
  {
   "cell_type": "code",
   "execution_count": 198,
   "metadata": {},
   "outputs": [
    {
     "data": {
      "text/html": [
       "\n",
       "<link rel=\"stylesheet\" type=\"text/css\" href=\"https://cdn.jsdelivr.net/gh/bmabey/pyLDAvis@3.4.0/pyLDAvis/js/ldavis.v1.0.0.css\">\n",
       "\n",
       "\n",
       "<div id=\"ldavis_el18436134205539365035624349\" style=\"background-color:white;\"></div>\n",
       "<script type=\"text/javascript\">\n",
       "\n",
       "var ldavis_el18436134205539365035624349_data = {\"mdsDat\": {\"x\": [-0.1044396439497225, 0.1601068796228943, -0.006113251685968627, -0.052772187497254854, 0.0032182035100518343], \"y\": [0.024173695129838368, 0.033166333397232045, -0.13480909239993724, 0.06892073964306265, 0.008548324229804226], \"topics\": [1, 2, 3, 4, 5], \"cluster\": [1, 1, 1, 1, 1], \"Freq\": [33.54664362920939, 27.767488448707102, 21.668039163935013, 17.012738020440832, 0.005090737707666846]}, \"tinfo\": {\"Term\": [\"talkin\", \"jive\", \"yeah\", \"live\", \"bird\", \"go\", \"im\", \"lies\", \"like\", \"life\", \"come\", \"good\", \"long\", \"open\", \"singin\", \"oh\", \"turn\", \"telling\", \"thought\", \"dont\", \"wrong\", \"still\", \"gets\", \"making\", \"saw\", \"light\", \"ill\", \"youll\", \"tender\", \"man\", \"live\", \"life\", \"living\", \"face\", \"country\", \"whole\", \"whenever\", \"walking\", \"itll\", \"need\", \"storm\", \"lanes\", \"wine\", \"could\", \"came\", \"feet\", \"bring\", \"friend\", \"someone\", \"pretend\", \"long\", \"light\", \"saw\", \"tall\", \"edge\", \"pieces\", \"universe\", \"call\", \"day\", \"red\", \"ill\", \"come\", \"love\", \"see\", \"would\", \"back\", \"im\", \"away\", \"know\", \"like\", \"right\", \"youre\", \"making\", \"think\", \"well\", \"talkin\", \"jive\", \"yeah\", \"lies\", \"singin\", \"telling\", \"oh\", \"blamin\", \"misunderstood\", \"broadway\", \"songs\", \"crazy\", \"disguise\", \"shine\", \"child\", \"nights\", \"good\", \"full\", \"line\", \"feel\", \"joy\", \"cold\", \"born\", \"fancy\", \"others\", \"sounds\", \"eye\", \"world\", \"isnt\", \"much\", \"nobody\", \"gets\", \"die\", \"youre\", \"eyes\", \"wear\", \"want\", \"youll\", \"way\", \"love\", \"away\", \"know\", \"like\", \"make\", \"long\", \"bird\", \"open\", \"door\", \"broken\", \"time\", \"ever\", \"song\", \"rise\", \"go\", \"wrong\", \"fly\", \"mine\", \"pride\", \"crushed\", \"heard\", \"voice\", \"ut\", \"songbird\", \"brain\", \"desert\", \"share\", \"seems\", \"breaks\", \"sure\", \"lose\", \"moon\", \"wonder\", \"comes\", \"rain\", \"wind\", \"dont\", \"sky\", \"like\", \"though\", \"cant\", \"far\", \"youll\", \"wont\", \"tender\", \"know\", \"man\", \"love\", \"really\", \"im\", \"away\", \"youre\", \"want\", \"think\", \"still\", \"well\", \"make\", \"turn\", \"thought\", \"one\", \"praying\", \"said\", \"journey\", \"longest\", \"staying\", \"let\", \"walk\", \"hide\", \"guy\", \"home\", \"tired\", \"pain\", \"holding\", \"last\", \"black\", \"gone\", \"used\", \"gave\", \"another\", \"proof\", \"distant\", \"hungry\", \"ell\", \"feelings\", \"kept\", \"without\", \"past\", \"chained\", \"still\", \"try\", \"baby\", \"im\", \"making\", \"man\", \"way\", \"come\", \"away\", \"youre\", \"love\", \"like\", \"go\", \"know\", \"see\", \"make\", \"light\", \"theres\", \"gonna\", \"saw\", \"would\", \"think\", \"say\", \"ive\", \"back\", \"stay\", \"holding\", \"going\", \"sad\", \"ell\", \"upon\", \"without\", \"shadow\", \"distant\", \"guy\", \"easier\", \"black\", \"gave\", \"looks\", \"except\", \"last\", \"proof\", \"afternoon\", \"past\", \"let\", \"home\", \"lovely\", \"used\", \"said\", \"goodbye\", \"gone\", \"walk\", \"tired\", \"breaking\", \"longest\", \"together\", \"hurt\", \"share\", \"lose\", \"wind\", \"desert\", \"hell\", \"beautiful\", \"comes\", \"breaks\", \"rain\", \"wings\", \"finds\", \"moon\", \"get\", \"hope\", \"waiting\", \"brain\", \"looking\", \"wonder\", \"crushed\", \"sky\", \"voice\", \"songbird\", \"sometimes\", \"mine\", \"heard\", \"ut\", \"pride\", \"seems\", \"sure\", \"like\", \"love\", \"go\", \"talkin\", \"jive\", \"really\", \"dont\", \"yeah\", \"rise\", \"wont\", \"know\", \"youre\", \"good\", \"live\", \"open\", \"bird\", \"youll\", \"lies\", \"want\", \"im\", \"cant\", \"well\", \"never\", \"broken\", \"man\", \"got\", \"though\", \"see\", \"theres\", \"many\", \"away\", \"singin\", \"long\", \"make\", \"life\", \"gonna\"], \"Freq\": [10.0, 9.0, 5.0, 6.0, 4.0, 8.0, 7.0, 3.0, 8.0, 3.0, 4.0, 4.0, 4.0, 2.0, 2.0, 2.0, 2.0, 2.0, 2.0, 3.0, 3.0, 3.0, 3.0, 3.0, 3.0, 3.0, 3.0, 3.0, 3.0, 3.0, 5.562132077841137, 3.243642470299058, 1.70353548809487, 1.7025233480213482, 1.7020528975294824, 1.701969201331095, 1.7019845780745195, 1.7015775809795708, 1.7006043693704151, 1.7006629567092864, 1.7002133329458564, 1.7004313323463072, 1.6999523175922808, 1.6994859545891734, 1.6996002096320884, 1.6985518660867058, 1.697925701737375, 1.6977281397807165, 1.698270413289338, 1.6965704072504648, 3.246664486987808, 2.472349691533865, 2.471743380701361, 0.9296426771946572, 0.9296845252938509, 0.9292927103000048, 0.9292378211652484, 0.9293543145948644, 0.9291789418628945, 0.9291619106597343, 2.472065124459348, 3.248123720474576, 7.882128022311868, 2.4754413901738306, 1.70216851506865, 1.7015670702941919, 4.019650070025966, 2.4711709376328557, 2.475612675417042, 2.468621123216868, 1.7027890347906478, 1.704968250225869, 1.703291211980972, 1.7009681558699175, 1.7003525022059656, 9.676856035761256, 8.946419376630335, 5.279030438521357, 3.0785110424596294, 2.3456217927895797, 2.34640962486843, 2.3450709547778033, 1.613536002951274, 1.6132650144938863, 1.613652324988274, 1.6130365593021052, 1.6124834657383647, 1.6125728822626513, 1.6122938382625351, 1.6127452708770418, 1.6129294205838158, 3.079481252025853, 0.8805057812834755, 0.8804137064300884, 0.8803245315720836, 0.8805229395894872, 0.880455675807704, 0.8802084512013655, 0.8804691285640607, 0.8804646980155599, 0.8801033263687582, 0.8804416591633564, 0.8801519818468385, 0.8803749592695642, 0.8802085317567928, 0.8804726730028613, 2.3568225416210336, 0.8805203618158141, 3.8293114691648498, 1.6202438533813186, 1.6177616184449501, 2.359402248624417, 1.6142495629261668, 1.6221127392943369, 3.1410465428828958, 1.6399960441516677, 1.6343977641770502, 0.9070522584573462, 0.9006335214558283, 0.8994992204842244, 4.26246828683684, 2.1989892112808787, 1.5125239082658486, 1.5122634143619589, 1.5125053015584278, 1.5119206989266294, 1.5117829087149195, 1.510564672262849, 5.637944994479628, 2.2023190575832046, 0.8258285986884797, 0.8254976381662841, 0.8254447096269321, 0.8253631167004724, 0.8254239656625779, 0.8253519903923188, 0.8253635567239587, 0.8253194286543326, 0.8252406015897868, 0.824941511340099, 0.8248794680285307, 0.8253262175881212, 0.8250539687710977, 0.8252908271277232, 0.824834459911932, 0.8250337276907279, 0.8251256297388665, 0.8249237218191529, 0.8249137898604622, 0.8247546899399156, 2.198470486451029, 0.8250726383390163, 4.261734579103684, 1.5129493481166025, 1.51264623479504, 1.5136267328435122, 1.5140507897633093, 1.512482043174152, 1.514012319138507, 2.202796545926338, 1.5143161867860464, 2.893811188905725, 1.5119463460098308, 0.8299800945607236, 0.8292667536289334, 0.829087161186025, 0.8281484653687511, 0.8276447013374357, 0.8274559941223111, 0.8271614926889803, 0.8268243718379765, 2.025495807731176, 2.02551219363886, 1.3922973487266546, 1.3916364833534978, 0.7602880525526663, 0.7602828209074419, 0.7601747331429002, 0.7601726602268679, 0.7600728147713118, 0.7600840183889149, 0.7600702483038432, 0.7599903916814558, 0.7600260754502977, 0.7600377232641935, 0.7600339722732778, 0.7598959752916986, 0.7598984924040235, 0.759859995391995, 0.7598978507871563, 0.7598721861124706, 0.7598183890059179, 0.7599221828729642, 0.7597991404999036, 0.7597695274137278, 0.7598550598776324, 0.7597408027201373, 0.7598462746620668, 0.7598499762978388, 0.7597143483631535, 0.7597356697852001, 0.7598280132589251, 2.025289898071967, 1.3932352938761299, 1.3934059639627896, 2.6600918069826216, 1.3934241266556442, 1.395565745047879, 1.3959907915447891, 1.3930398475073693, 1.3947076565207912, 1.3973415431155551, 1.4020770704362162, 0.7642947524673972, 0.7636882271073729, 0.7631927014653644, 0.762359389220377, 0.7621945923958087, 0.7618101158269593, 0.7617241391667623, 0.7616022319620052, 0.761484421234169, 0.7613814664045645, 0.7613254483165486, 0.7613069894928324, 0.7609611580014425, 0.7607925114756713, 0.7607723745770717, 0.00010291919911349487, 0.00010289697977531173, 0.00010287241223189688, 0.00010286747213975846, 0.0001028667780161994, 0.00010286115118479509, 0.0001028580719345384, 0.00010285447578375902, 0.00010285051780261373, 0.00010285564250208169, 0.00010284784468848203, 0.0001028457401649253, 0.00010284659674293436, 0.00010283786850839382, 0.00010282766341521699, 0.0001028297310173078, 0.00010282953902568509, 0.00010282035296496731, 0.00010281032509482683, 0.00010279396150113662, 0.00010279852499432278, 0.00010279001090428451, 0.00010278247892523938, 0.00010278595692732788, 0.00010277524231792152, 0.00010277248797656482, 0.00010276751834725367, 0.00010276935703625586, 0.00010275795568758363, 0.00010275876795983359, 0.00010414323431984672, 0.0001041124639701594, 0.00010407507729378148, 0.00010404267501530105, 0.00010403176102997879, 0.00010401386150330684, 0.00010394871726885964, 0.0001038894583160781, 0.0001038684647705631, 0.00010386205520408156, 0.00010386142753916112, 0.00010383217835386921, 0.00010380181414030688, 0.00010376695289219701, 0.00010374716298647059, 0.00010373213594984623, 0.00010372221884410348, 0.0001037041716315679, 0.00010369688333419776, 0.0001036962261321046, 0.00010365728136986537, 0.00010364331028716597, 0.00010364235771334555, 0.00010364218787460239, 0.00010363052807566879, 0.00010360590145790849, 0.00010359593266211346, 0.00010359580712912937, 0.00010359001784327508, 0.00010357452559618029, 0.00011631992639184757, 0.00011983001323420785, 0.00011470636972017159, 0.00011531167500084552, 0.00011389189695083846, 0.0001095036551947478, 0.00010830674988154477, 0.00011048267216904429, 0.00010579728645533007, 0.00010823994418113175, 0.00011035702103626789, 0.00011035588385511794, 0.00010823974480521584, 0.00010910806384042847, 0.00010643178184695049, 0.00010826469633187613, 0.000107163314235269, 0.00010717741823524566, 0.00010830991035902647, 0.00010878376045248334, 0.000106145138354231, 0.00010659954560374099, 0.00010652563621328735, 0.00010522829712852274, 0.0001067145412014565, 0.00010592180040695652, 0.0001058219426102631, 0.00010677319464219715, 0.00010573584913605999, 0.00010514530505745587, 0.00010758263132358049, 0.0001057535271339365, 0.00010618719928819283, 0.00010602888004238147, 0.0001060010043356213, 0.0001059195334289498], \"Total\": [10.0, 9.0, 5.0, 6.0, 4.0, 8.0, 7.0, 3.0, 8.0, 3.0, 4.0, 4.0, 4.0, 2.0, 2.0, 2.0, 2.0, 2.0, 2.0, 3.0, 3.0, 3.0, 3.0, 3.0, 3.0, 3.0, 3.0, 3.0, 3.0, 3.0, 6.016822877435753, 3.682033868307691, 2.1257372602420443, 2.1259434004079236, 2.1254534234368347, 2.125421012429413, 2.1260098768944498, 2.125560480347829, 2.124953794869808, 2.1257565721148346, 2.1252400663528825, 2.1258003752500243, 2.125643042614149, 2.125369857898373, 2.125600541661147, 2.125335634859994, 2.125141009968263, 2.125275245436256, 2.126112909555865, 2.125104068504235, 4.418188655362673, 3.5390984511047097, 3.538605461756431, 1.3471776118845382, 1.3472548119108931, 1.3467077382693655, 1.3468156429681848, 1.347033585183688, 1.3469465409047743, 1.346964016401373, 3.593251275542285, 4.955292215432026, 15.31918265454994, 4.2738587053640895, 2.76100128867532, 2.760704635719906, 7.692422620834484, 6.3352489745655705, 7.076110044006831, 8.401819033171686, 2.8138982960857737, 7.760818779576154, 3.3963368247518853, 3.450927929426033, 3.548712403696663, 10.122762089807232, 9.388533777515518, 5.711870026847907, 3.50737077273563, 2.772961991046297, 2.7739083404060305, 2.773035506786338, 2.038554354198681, 2.0385677421546013, 2.0391895403642057, 2.038500816399266, 2.037908795809794, 2.0380858501457646, 2.0378876286067955, 2.0387373634917734, 2.039030059051911, 4.1960162004356745, 1.3033978276923859, 1.3033379322845924, 1.3032284824097926, 1.3035722001342063, 1.3035273312509361, 1.3031887005252163, 1.3036246076720566, 1.3036311105935565, 1.3031047160416032, 1.303606393016279, 1.3031835911932783, 1.3035189657007449, 1.3032951900271912, 1.3036889560268923, 3.5528984683751363, 1.3037719535262495, 7.760818779576154, 2.816623305907343, 2.817359297285542, 5.018705077975848, 3.4152445117573476, 4.088776737219141, 15.31918265454994, 6.3352489745655705, 7.076110044006831, 8.401819033171686, 4.1851199983592275, 4.418188655362673, 4.702246669206631, 2.6339616891560023, 1.9455476779166727, 1.9453894243244492, 1.945930013827207, 1.9458593235463222, 1.9458097144675823, 1.944616589138662, 8.225640390132071, 3.2711782551172712, 1.257364185013218, 1.2572767181208968, 1.2573114760332766, 1.2571958380758397, 1.257325441898513, 1.257270645516629, 1.2573186692192984, 1.2572705848468475, 1.2571677700117274, 1.2567247344130057, 1.2566404704715, 1.257330172988569, 1.2569740297353438, 1.2573697182807098, 1.2566856580952461, 1.2570516512113952, 1.2572091869407171, 1.2569366865493403, 1.256975966485222, 1.2567370751064553, 3.3677480488137825, 1.2572505977488224, 8.401819033171686, 2.680749650295336, 2.6803440478887413, 2.7250918291337567, 3.4152445117573476, 3.4570323434176067, 3.503529633031423, 7.076110044006831, 3.9512993564059715, 15.31918265454994, 4.234769923269808, 7.692422620834484, 6.3352489745655705, 7.760818779576154, 5.018705077975848, 3.450927929426033, 3.8986297695533723, 3.548712403696663, 4.1851199983592275, 2.4753488639442622, 2.4757570227311816, 1.8400041526490059, 1.8399248819348055, 1.20411344111701, 1.204193898387227, 1.204181503861203, 1.2041969540040183, 1.2041309546551842, 1.2041878913404187, 1.2042090128900087, 1.2040911444634268, 1.2041604896795408, 1.2042093889759102, 1.2042383886223624, 1.2040272327772292, 1.2041275498252983, 1.2041067740573024, 1.2042093887388399, 1.2041986962117783, 1.204120074734742, 1.204296213097255, 1.2041543723982446, 1.2041120850401736, 1.2042694255187973, 1.2040997864441072, 1.2042707452389811, 1.2042777766800228, 1.2041146223943664, 1.2041641775867367, 1.204315051009922, 3.8986297695533723, 2.527812655758419, 2.6176557221140455, 7.692422620834484, 3.3963368247518853, 3.9512993564059715, 4.088776737219141, 4.955292215432026, 6.3352489745655705, 7.760818779576154, 15.31918265454994, 8.401819033171686, 8.225640390132071, 7.076110044006831, 4.2738587053640895, 4.1851199983592275, 3.5390984511047097, 2.6265137846976745, 3.4059110051253016, 3.538605461756431, 2.76100128867532, 3.450927929426033, 2.626615896059753, 2.670571969662671, 2.760704635719906, 1.9390769203633893, 1.2040272327772292, 1.204079194071514, 1.2041258965166433, 1.2040997864441072, 1.2041457937490359, 1.2041146223943664, 1.2041288090518072, 1.2041120850401736, 1.2040911444634268, 1.2041732633695323, 1.2041067740573024, 1.204120074734742, 1.204164153323694, 1.204218681602492, 1.2041275498252983, 1.2041543723982446, 1.2041834251076085, 1.2041641775867367, 1.2041309546551842, 1.2041604896795408, 1.2042611714827853, 1.2041986962117783, 1.20411344111701, 1.2042512250968633, 1.2042093887388399, 1.2041878913404187, 1.2042093889759102, 1.2042905654484568, 1.204181503861203, 1.2042426522918825, 1.2566019639924801, 1.2566404704715, 1.2566856580952461, 1.2567370751064553, 1.2567247344130057, 1.2567883513368614, 1.2568839693999294, 1.2569366865493403, 1.2569740297353438, 1.256975966485222, 1.2569697146647802, 1.2570268576057848, 1.2570516512113952, 1.2571140954159603, 1.2571355459494031, 1.257159825379191, 1.2571677700117274, 1.2572101633286523, 1.2572091869407171, 1.2571958380758397, 1.2572505977488224, 1.257270645516629, 1.2572705848468475, 1.2572911446774506, 1.2572767181208968, 1.257325441898513, 1.2573186692192984, 1.2573114760332766, 1.257330172988569, 1.2573697182807098, 8.401819033171686, 15.31918265454994, 8.225640390132071, 10.122762089807232, 9.388533777515518, 4.234769923269808, 3.3677480488137825, 5.711870026847907, 1.944616589138662, 3.4570323434176067, 7.076110044006831, 7.760818779576154, 4.1960162004356745, 6.016822877435753, 2.6339616891560023, 4.702246669206631, 3.4152445117573476, 3.50737077273563, 5.018705077975848, 7.692422620834484, 2.6803440478887413, 3.548712403696663, 3.5487098396138883, 1.9453894243244492, 3.9512993564059715, 2.769836191739582, 2.680749650295336, 4.2738587053640895, 2.6265137846976745, 1.991476295177611, 6.3352489745655705, 2.772961991046297, 4.418188655362673, 4.1851199983592275, 3.682033868307691, 3.4059110051253016], \"Category\": [\"Default\", \"Default\", \"Default\", \"Default\", \"Default\", \"Default\", \"Default\", \"Default\", \"Default\", \"Default\", \"Default\", \"Default\", \"Default\", \"Default\", \"Default\", \"Default\", \"Default\", \"Default\", \"Default\", \"Default\", \"Default\", \"Default\", \"Default\", \"Default\", \"Default\", \"Default\", \"Default\", \"Default\", \"Default\", \"Default\", \"Topic1\", \"Topic1\", \"Topic1\", \"Topic1\", \"Topic1\", \"Topic1\", \"Topic1\", \"Topic1\", \"Topic1\", \"Topic1\", \"Topic1\", \"Topic1\", \"Topic1\", \"Topic1\", \"Topic1\", \"Topic1\", \"Topic1\", \"Topic1\", \"Topic1\", \"Topic1\", \"Topic1\", \"Topic1\", \"Topic1\", \"Topic1\", \"Topic1\", \"Topic1\", \"Topic1\", \"Topic1\", \"Topic1\", \"Topic1\", \"Topic1\", \"Topic1\", \"Topic1\", \"Topic1\", \"Topic1\", \"Topic1\", \"Topic1\", \"Topic1\", \"Topic1\", \"Topic1\", \"Topic1\", \"Topic1\", \"Topic1\", \"Topic1\", \"Topic1\", \"Topic2\", \"Topic2\", \"Topic2\", \"Topic2\", \"Topic2\", \"Topic2\", \"Topic2\", \"Topic2\", \"Topic2\", \"Topic2\", \"Topic2\", \"Topic2\", \"Topic2\", \"Topic2\", \"Topic2\", \"Topic2\", \"Topic2\", \"Topic2\", \"Topic2\", \"Topic2\", \"Topic2\", \"Topic2\", \"Topic2\", \"Topic2\", \"Topic2\", \"Topic2\", \"Topic2\", \"Topic2\", \"Topic2\", \"Topic2\", \"Topic2\", \"Topic2\", \"Topic2\", \"Topic2\", \"Topic2\", \"Topic2\", \"Topic2\", \"Topic2\", \"Topic2\", \"Topic2\", \"Topic2\", \"Topic2\", \"Topic2\", \"Topic2\", \"Topic2\", \"Topic3\", \"Topic3\", \"Topic3\", \"Topic3\", \"Topic3\", \"Topic3\", \"Topic3\", \"Topic3\", \"Topic3\", \"Topic3\", \"Topic3\", \"Topic3\", \"Topic3\", \"Topic3\", \"Topic3\", \"Topic3\", \"Topic3\", \"Topic3\", \"Topic3\", \"Topic3\", \"Topic3\", \"Topic3\", \"Topic3\", \"Topic3\", \"Topic3\", \"Topic3\", \"Topic3\", \"Topic3\", \"Topic3\", \"Topic3\", \"Topic3\", \"Topic3\", \"Topic3\", \"Topic3\", \"Topic3\", \"Topic3\", \"Topic3\", \"Topic3\", \"Topic3\", \"Topic3\", \"Topic3\", \"Topic3\", \"Topic3\", \"Topic3\", \"Topic3\", \"Topic3\", \"Topic3\", \"Topic3\", \"Topic3\", \"Topic3\", \"Topic3\", \"Topic4\", \"Topic4\", \"Topic4\", \"Topic4\", \"Topic4\", \"Topic4\", \"Topic4\", \"Topic4\", \"Topic4\", \"Topic4\", \"Topic4\", \"Topic4\", \"Topic4\", \"Topic4\", \"Topic4\", \"Topic4\", \"Topic4\", \"Topic4\", \"Topic4\", \"Topic4\", \"Topic4\", \"Topic4\", \"Topic4\", \"Topic4\", \"Topic4\", \"Topic4\", \"Topic4\", \"Topic4\", \"Topic4\", \"Topic4\", \"Topic4\", \"Topic4\", \"Topic4\", \"Topic4\", \"Topic4\", \"Topic4\", \"Topic4\", \"Topic4\", \"Topic4\", \"Topic4\", \"Topic4\", \"Topic4\", \"Topic4\", \"Topic4\", \"Topic4\", \"Topic4\", \"Topic4\", \"Topic4\", \"Topic4\", \"Topic4\", \"Topic4\", \"Topic4\", \"Topic4\", \"Topic4\", \"Topic4\", \"Topic4\", \"Topic4\", \"Topic5\", \"Topic5\", \"Topic5\", \"Topic5\", \"Topic5\", \"Topic5\", \"Topic5\", \"Topic5\", \"Topic5\", \"Topic5\", \"Topic5\", \"Topic5\", \"Topic5\", \"Topic5\", \"Topic5\", \"Topic5\", \"Topic5\", \"Topic5\", \"Topic5\", \"Topic5\", \"Topic5\", \"Topic5\", \"Topic5\", \"Topic5\", \"Topic5\", \"Topic5\", \"Topic5\", \"Topic5\", \"Topic5\", \"Topic5\", \"Topic5\", \"Topic5\", \"Topic5\", \"Topic5\", \"Topic5\", \"Topic5\", \"Topic5\", \"Topic5\", \"Topic5\", \"Topic5\", \"Topic5\", \"Topic5\", \"Topic5\", \"Topic5\", \"Topic5\", \"Topic5\", \"Topic5\", \"Topic5\", \"Topic5\", \"Topic5\", \"Topic5\", \"Topic5\", \"Topic5\", \"Topic5\", \"Topic5\", \"Topic5\", \"Topic5\", \"Topic5\", \"Topic5\", \"Topic5\", \"Topic5\", \"Topic5\", \"Topic5\", \"Topic5\", \"Topic5\", \"Topic5\", \"Topic5\", \"Topic5\", \"Topic5\", \"Topic5\", \"Topic5\", \"Topic5\", \"Topic5\", \"Topic5\", \"Topic5\", \"Topic5\", \"Topic5\", \"Topic5\", \"Topic5\", \"Topic5\", \"Topic5\", \"Topic5\", \"Topic5\", \"Topic5\", \"Topic5\", \"Topic5\", \"Topic5\", \"Topic5\", \"Topic5\", \"Topic5\", \"Topic5\", \"Topic5\", \"Topic5\", \"Topic5\", \"Topic5\", \"Topic5\"], \"logprob\": [30.0, 29.0, 28.0, 27.0, 26.0, 25.0, 24.0, 23.0, 22.0, 21.0, 20.0, 19.0, 18.0, 17.0, 16.0, 15.0, 14.0, 13.0, 12.0, 11.0, 10.0, 9.0, 8.0, 7.0, 6.0, 5.0, 4.0, 3.0, 2.0, 1.0, -3.6263, -4.1656, -4.8096, -4.8102, -4.8105, -4.8105, -4.8105, -4.8108, -4.8113, -4.8113, -4.8116, -4.8114, -4.8117, -4.812, -4.8119, -4.8125, -4.8129, -4.813, -4.8127, -4.8137, -4.1647, -4.4371, -4.4374, -5.4153, -5.4152, -5.4156, -5.4157, -5.4156, -5.4158, -5.4158, -4.4373, -4.1642, -3.2777, -4.4359, -4.8104, -4.8108, -3.9511, -4.4376, -4.4358, -4.4387, -4.81, -4.8088, -4.8098, -4.8111, -4.8115, -2.8835, -2.962, -3.4895, -4.0288, -4.3007, -4.3004, -4.3009, -4.6748, -4.675, -4.6747, -4.6751, -4.6755, -4.6754, -4.6756, -4.6753, -4.6752, -4.0285, -5.2805, -5.2806, -5.2807, -5.2805, -5.2806, -5.2808, -5.2805, -5.2805, -5.281, -5.2806, -5.2809, -5.2806, -5.2808, -5.2805, -4.2959, -5.2805, -3.8106, -4.6707, -4.6722, -4.2948, -4.6744, -4.6695, -4.0087, -4.6585, -4.662, -5.2508, -5.2579, -5.2592, -3.4554, -4.1172, -4.4914, -4.4916, -4.4914, -4.4918, -4.4919, -4.4927, -3.1757, -4.1157, -5.0966, -5.097, -5.097, -5.0971, -5.0971, -5.0972, -5.0971, -5.0972, -5.0973, -5.0977, -5.0977, -5.0972, -5.0975, -5.0972, -5.0978, -5.0975, -5.0974, -5.0977, -5.0977, -5.0979, -4.1175, -5.0975, -3.4555, -4.4912, -4.4914, -4.4907, -4.4904, -4.4915, -4.4905, -4.1155, -4.4903, -3.8426, -4.4918, -5.0916, -5.0924, -5.0926, -5.0938, -5.0944, -5.0946, -5.095, -5.0954, -3.9575, -3.9575, -4.3324, -4.3329, -4.9374, -4.9374, -4.9375, -4.9375, -4.9377, -4.9377, -4.9377, -4.9378, -4.9377, -4.9377, -4.9377, -4.9379, -4.9379, -4.938, -4.9379, -4.9379, -4.938, -4.9379, -4.938, -4.9381, -4.938, -4.9381, -4.938, -4.938, -4.9382, -4.9381, -4.938, -3.9576, -4.3317, -4.3316, -3.685, -4.3316, -4.33, -4.3297, -4.3319, -4.3307, -4.3288, -4.3254, -4.9321, -4.9329, -4.9336, -4.9347, -4.9349, -4.9354, -4.9355, -4.9357, -4.9358, -4.936, -4.936, -4.9361, -4.9365, -4.9367, -4.9368, -5.7306, -5.7308, -5.7311, -5.7311, -5.7311, -5.7312, -5.7312, -5.7312, -5.7313, -5.7312, -5.7313, -5.7313, -5.7313, -5.7314, -5.7315, -5.7315, -5.7315, -5.7316, -5.7317, -5.7318, -5.7318, -5.7319, -5.7319, -5.7319, -5.732, -5.732, -5.7321, -5.7321, -5.7322, -5.7322, -5.7188, -5.7191, -5.7194, -5.7198, -5.7199, -5.72, -5.7207, -5.7212, -5.7214, -5.7215, -5.7215, -5.7218, -5.7221, -5.7224, -5.7226, -5.7227, -5.7228, -5.723, -5.7231, -5.7231, -5.7235, -5.7236, -5.7236, -5.7236, -5.7237, -5.724, -5.7241, -5.7241, -5.7241, -5.7243, -5.6082, -5.5785, -5.6222, -5.6169, -5.6293, -5.6686, -5.6796, -5.6597, -5.703, -5.6802, -5.6608, -5.6608, -5.6802, -5.6722, -5.6971, -5.68, -5.6902, -5.6901, -5.6796, -5.6752, -5.6997, -5.6955, -5.6962, -5.7084, -5.6944, -5.7019, -5.7028, -5.6938, -5.7036, -5.7092, -5.6863, -5.7034, -5.6994, -5.7008, -5.7011, -5.7019], \"loglift\": [30.0, 29.0, 28.0, 27.0, 26.0, 25.0, 24.0, 23.0, 22.0, 21.0, 20.0, 19.0, 18.0, 17.0, 16.0, 15.0, 14.0, 13.0, 12.0, 11.0, 10.0, 9.0, 8.0, 7.0, 6.0, 5.0, 4.0, 3.0, 2.0, 1.0, 1.0137, 0.9655, 0.8708, 0.8701, 0.8701, 0.87, 0.8698, 0.8698, 0.8695, 0.8691, 0.8691, 0.869, 0.8688, 0.8686, 0.8686, 0.8681, 0.8678, 0.8676, 0.8675, 0.867, 0.7841, 0.7335, 0.7334, 0.7213, 0.7213, 0.7212, 0.7211, 0.7211, 0.7209, 0.7209, 0.7182, 0.6699, 0.4277, 0.5461, 0.6085, 0.6083, 0.4432, 0.1508, 0.042, -0.1326, 0.5899, -0.4233, 0.4021, 0.3848, 0.3565, 1.2363, 1.2331, 1.2025, 1.1509, 1.1139, 1.1139, 1.1137, 1.0475, 1.0473, 1.0473, 1.0472, 1.0472, 1.0471, 1.047, 1.0469, 1.0469, 0.9719, 0.8891, 0.889, 0.889, 0.889, 0.8889, 0.8889, 0.8889, 0.8888, 0.8888, 0.8888, 0.8888, 0.8888, 0.8888, 0.8888, 0.8709, 0.8888, 0.5749, 0.7283, 0.7265, 0.5265, 0.5319, 0.3568, -0.3032, -0.0701, -0.1841, -0.9447, -0.2549, -0.3103, 1.4311, 1.3488, 1.2776, 1.2775, 1.2774, 1.277, 1.2769, 1.2768, 1.1516, 1.1337, 1.1089, 1.1086, 1.1085, 1.1085, 1.1085, 1.1084, 1.1084, 1.1084, 1.1084, 1.1084, 1.1084, 1.1084, 1.1083, 1.1083, 1.1083, 1.1082, 1.1082, 1.1082, 1.1081, 1.1081, 1.1028, 1.1081, 0.8506, 0.9573, 0.9572, 0.9413, 0.7159, 0.7027, 0.6903, 0.3623, 0.5703, -0.1372, 0.4994, -0.6973, -0.504, -0.7072, -0.2724, 0.1015, -0.0207, 0.073, -0.0924, 1.5706, 1.5705, 1.4924, 1.492, 1.3114, 1.3113, 1.3112, 1.3112, 1.3111, 1.3111, 1.311, 1.311, 1.311, 1.311, 1.311, 1.311, 1.3109, 1.3108, 1.3108, 1.3108, 1.3108, 1.3108, 1.3107, 1.3107, 1.3107, 1.3107, 1.3107, 1.3107, 1.3107, 1.3106, 1.3106, 1.1163, 1.1755, 1.1407, 0.7093, 0.8803, 0.7305, 0.6966, 0.5022, 0.2578, 0.0567, -0.6199, -0.626, -0.6056, -0.4558, 0.0474, 0.0681, 0.2353, 0.5334, 0.2734, 0.235, 0.483, 0.2599, 0.5328, 0.5157, 0.4823, 0.8356, 0.5183, 0.518, 0.5177, 0.5177, 0.5177, 0.5176, 0.5176, 0.5176, 0.5175, 0.5175, 0.5175, 0.5175, 0.5174, 0.5173, 0.5173, 0.5173, 0.5173, 0.5172, 0.5171, 0.5169, 0.5169, 0.5169, 0.5169, 0.5168, 0.5167, 0.5167, 0.5166, 0.5166, 0.5166, 0.5165, 0.4873, 0.487, 0.4866, 0.4863, 0.4862, 0.486, 0.4853, 0.4846, 0.4844, 0.4843, 0.4843, 0.484, 0.4837, 0.4833, 0.4831, 0.4829, 0.4828, 0.4826, 0.4826, 0.4826, 0.4822, 0.482, 0.482, 0.482, 0.4819, 0.4816, 0.4815, 0.4815, 0.4814, 0.4813, -1.3021, -1.873, -1.2949, -1.4972, -1.4342, -0.6774, -0.4593, -0.9677, 0.0665, -0.4861, -1.183, -1.2754, -0.6798, -1.0322, -0.231, -0.7935, -0.4839, -0.5104, -0.8582, -1.2809, -0.2511, -0.5275, -0.5282, 0.0607, -0.6339, -0.2861, -0.2543, -0.7118, -0.2347, 0.0365, -1.0979, -0.2888, -0.7505, -0.6978, -0.57, -0.4928]}, \"token.table\": {\"Topic\": [4, 4, 1, 2, 3, 4, 1, 4, 1, 4, 3, 3, 4, 2, 2, 3, 4, 3, 1, 2, 3, 1, 1, 2, 3, 4, 2, 2, 1, 4, 3, 1, 1, 2, 3, 1, 3, 2, 2, 4, 2, 3, 3, 4, 1, 4, 3, 4, 2, 1, 2, 1, 2, 1, 3, 2, 4, 1, 3, 3, 1, 2, 4, 3, 1, 2, 1, 2, 3, 4, 4, 4, 1, 2, 3, 4, 2, 3, 4, 1, 2, 3, 4, 3, 3, 4, 4, 4, 3, 4, 3, 1, 3, 1, 3, 4, 2, 1, 1, 3, 4, 2, 4, 2, 4, 1, 2, 3, 4, 1, 4, 4, 2, 1, 1, 4, 1, 2, 3, 4, 2, 1, 1, 1, 2, 4, 3, 4, 3, 1, 2, 3, 4, 4, 1, 2, 3, 4, 1, 4, 2, 3, 4, 2, 3, 3, 2, 3, 2, 1, 1, 2, 3, 2, 2, 2, 4, 3, 2, 4, 4, 1, 4, 1, 3, 4, 3, 1, 2, 3, 1, 1, 3, 3, 4, 4, 1, 4, 2, 3, 4, 1, 2, 4, 3, 4, 3, 2, 2, 3, 1, 3, 3, 3, 2, 2, 2, 4, 4, 2, 3, 4, 1, 3, 2, 1, 2, 1, 3, 2, 3, 4, 1, 3, 4, 2, 3, 4, 3, 4, 4, 3, 4, 4, 1, 4, 4, 3, 3, 3, 4, 1, 1, 2, 3, 1, 2, 4, 1, 2, 1, 2, 3, 1, 1, 3, 1, 3, 4, 3, 1, 2, 3, 2, 1, 4, 3, 4, 2, 2, 3, 1, 2, 3, 4], \"Freq\": [0.8304382697433639, 0.8303604953038604, 0.31569398582904895, 0.31569398582904895, 0.15784699291452448, 0.15784699291452448, 0.38202120758355107, 0.38202120758355107, 0.7244527263520395, 0.36222636317601975, 0.7956183898800357, 0.8506572031183735, 0.8304911337974176, 0.9810874043562915, 0.7673485809054176, 0.7954387822006219, 0.8303643893677913, 0.7955613849957984, 0.9411140204902771, 0.9807818059143211, 1.0280717963163157, 0.742371987602399, 0.9409105618861996, 0.37308643298522887, 0.7461728659704577, 0.8303475067935203, 0.9809993360667961, 0.7671492388581874, 0.6054133378163341, 0.20180444593877805, 0.7955850208695023, 0.9410126866001844, 0.940975689208951, 0.9813981882370107, 0.795421023291421, 0.7424199622119209, 0.7957191997713665, 0.7670053012686366, 0.9813129313747796, 0.830487470746244, 0.2969343268871401, 0.5938686537742802, 1.0279881715063575, 0.8304452776187604, 0.7422500859964563, 0.8304959532906775, 1.0278235306111474, 0.8304139565990358, 0.7671027124116846, 0.3550350513335192, 0.7100701026670384, 0.9407588177635596, 0.7670919942097033, 0.36696011096179343, 0.7339202219235869, 0.7673251570982438, 0.8303780557266259, 0.9410278391778574, 0.7955279506952342, 0.7953145253532791, 0.9410545783633119, 0.7672254616002087, 0.8304819602150492, 0.7954727447941906, 0.28146033693367395, 0.5629206738673479, 0.12157108171172361, 0.12157108171172361, 0.7294264902703416, 0.12157108171172361, 0.8305101565774642, 0.8304203648896087, 0.29360720186028777, 0.29360720186028777, 0.29360720186028777, 0.29360720186028777, 0.7149638744694333, 0.2383212914898111, 0.8303915156237981, 0.36103218052471, 0.36103218052471, 0.36103218052471, 0.8305019139108651, 0.7953390321045588, 0.7956789215433828, 0.8304206240742852, 0.8305459982772843, 0.8304540869515878, 0.7954591716240023, 0.8303789657112665, 0.7957969417959498, 0.5565989814330936, 0.2782994907165468, 0.519992230947664, 0.129998057736916, 0.38999417321074803, 0.7671541621662717, 0.9411969355891507, 0.3744516198626594, 0.3744516198626594, 0.3744516198626594, 0.9586161389283157, 0.8304310471422391, 0.7671228336236745, 0.8303732073814566, 0.2826411669069387, 0.2826411669069387, 0.2826411669069387, 0.14132058345346935, 0.9408221125959542, 0.830476804674958, 0.8304744563986072, 0.8553415633500595, 0.814767084524086, 0.5651156721496999, 0.28255783607484997, 0.2380436893610407, 0.11902184468052035, 0.4760873787220814, 0.11902184468052035, 0.767260719748348, 0.9972040264806794, 0.9408500464315485, 0.6790112949021958, 0.22633709830073193, 0.8304395946902557, 0.7954119598845353, 0.830451560312465, 0.7957439424555034, 0.5222210727818384, 0.1958329022931894, 0.1958329022931894, 0.0652776340977298, 0.830384657149344, 0.47788354952405143, 0.23894177476202572, 0.23894177476202572, 0.23894177476202572, 0.5888697450218611, 0.29443487251093053, 0.2530813056162825, 0.506162611232565, 0.2530813056162825, 0.5021400467690801, 0.5021400467690801, 0.7953698542152137, 0.9810809612272986, 0.7955122600064367, 0.7672858824708289, 0.9408414990857942, 0.563585102865893, 0.2817925514329465, 0.2817925514329465, 0.9808585170784296, 0.7670541315679997, 0.7212312987358008, 0.5434770343101271, 0.7593124866751034, 0.7670881677138633, 0.8304003671100294, 0.8304515435794629, 0.742551610555892, 0.5435004492946649, 0.9411303802207248, 0.795347866508723, 0.8304583057804772, 0.7955601591939879, 0.4722806755120554, 0.2361403377560277, 0.4722806755120554, 0.7424103300633508, 0.7107577423043564, 0.3553788711521782, 1.0284803756024057, 0.8304779449498187, 0.8304865354483031, 0.5651944026015477, 0.28259720130077387, 0.3807180187632775, 0.3807180187632775, 0.3807180187632775, 0.46796118867706465, 0.23398059433853233, 0.23398059433853233, 0.795336039397737, 0.8304759361977655, 0.7957725566683311, 0.9814083818582787, 0.7212504197525469, 0.7953863786508083, 0.9406838136445871, 0.7953607278897546, 1.027849735320725, 0.7953737342242947, 0.981113170968814, 0.7673980361591093, 0.5157092993570347, 0.5157092993570347, 0.8304289399462002, 0.256500375544652, 0.256500375544652, 0.513000751089304, 0.9410701556329085, 0.795311025437586, 0.9878726686730253, 0.7422926206449655, 0.7210043572338264, 0.5708528853713457, 0.5708528853713457, 0.38073281999359665, 0.38073281999359665, 0.38073281999359665, 0.5795542650850564, 0.2897771325425282, 0.2897771325425282, 0.3730299843142126, 0.7460599686284252, 0.8078337177828782, 1.0277861926115468, 0.8304203647261255, 0.8303974270441481, 0.3955989371767625, 0.3955989371767625, 0.8079669209992351, 0.7424921185175324, 0.8304642221823986, 0.8304277385001697, 0.7953433162818825, 0.7953736958434172, 0.7954438089829787, 0.8304351897168383, 0.9409282956148666, 0.3985091709765586, 0.3985091709765586, 0.1992545854882793, 0.24457192560729546, 0.4891438512145909, 0.24457192560729546, 0.3549423039381154, 0.7098846078762308, 0.5635846956537299, 0.28179234782686496, 0.28179234782686496, 0.9407294019355557, 0.940990038351953, 0.79571138610301, 0.940891748945942, 0.795564116090648, 0.8304857207127947, 0.7954125776263153, 0.2892654452319658, 0.2892654452319658, 0.5785308904639316, 0.7673515894136881, 0.7243748882709016, 0.3621874441354508, 0.6114004936512701, 0.30570024682563507, 0.87537005857944, 0.5856096080719212, 0.5856096080719212, 0.2577047676030424, 0.5154095352060848, 0.1288523838015212, 0.1288523838015212], \"Term\": [\"afternoon\", \"another\", \"away\", \"away\", \"away\", \"away\", \"baby\", \"baby\", \"back\", \"back\", \"beautiful\", \"bird\", \"black\", \"blamin\", \"born\", \"brain\", \"breaking\", \"breaks\", \"bring\", \"broadway\", \"broken\", \"call\", \"came\", \"cant\", \"cant\", \"chained\", \"child\", \"cold\", \"come\", \"come\", \"comes\", \"could\", \"country\", \"crazy\", \"crushed\", \"day\", \"desert\", \"die\", \"disguise\", \"distant\", \"dont\", \"dont\", \"door\", \"easier\", \"edge\", \"ell\", \"ever\", \"except\", \"eye\", \"eyes\", \"eyes\", \"face\", \"fancy\", \"far\", \"far\", \"feel\", \"feelings\", \"feet\", \"finds\", \"fly\", \"friend\", \"full\", \"gave\", \"get\", \"gets\", \"gets\", \"go\", \"go\", \"go\", \"go\", \"going\", \"gone\", \"gonna\", \"gonna\", \"gonna\", \"gonna\", \"good\", \"good\", \"goodbye\", \"got\", \"got\", \"got\", \"guy\", \"heard\", \"hell\", \"hide\", \"holding\", \"home\", \"hope\", \"hungry\", \"hurt\", \"ill\", \"ill\", \"im\", \"im\", \"im\", \"isnt\", \"itll\", \"ive\", \"ive\", \"ive\", \"jive\", \"journey\", \"joy\", \"kept\", \"know\", \"know\", \"know\", \"know\", \"lanes\", \"last\", \"let\", \"lies\", \"life\", \"light\", \"light\", \"like\", \"like\", \"like\", \"like\", \"line\", \"live\", \"living\", \"long\", \"long\", \"longest\", \"looking\", \"looks\", \"lose\", \"love\", \"love\", \"love\", \"love\", \"lovely\", \"make\", \"make\", \"make\", \"make\", \"making\", \"making\", \"man\", \"man\", \"man\", \"many\", \"many\", \"mine\", \"misunderstood\", \"moon\", \"much\", \"need\", \"never\", \"never\", \"never\", \"nights\", \"nobody\", \"oh\", \"one\", \"open\", \"others\", \"pain\", \"past\", \"pieces\", \"praying\", \"pretend\", \"pride\", \"proof\", \"rain\", \"really\", \"really\", \"really\", \"red\", \"right\", \"right\", \"rise\", \"sad\", \"said\", \"saw\", \"saw\", \"say\", \"say\", \"say\", \"see\", \"see\", \"see\", \"seems\", \"shadow\", \"share\", \"shine\", \"singin\", \"sky\", \"someone\", \"sometimes\", \"song\", \"songbird\", \"songs\", \"sounds\", \"stay\", \"stay\", \"staying\", \"still\", \"still\", \"still\", \"storm\", \"sure\", \"talkin\", \"tall\", \"telling\", \"tender\", \"tender\", \"theres\", \"theres\", \"theres\", \"think\", \"think\", \"think\", \"though\", \"though\", \"thought\", \"time\", \"tired\", \"together\", \"try\", \"try\", \"turn\", \"universe\", \"upon\", \"used\", \"ut\", \"voice\", \"waiting\", \"walk\", \"walking\", \"want\", \"want\", \"want\", \"way\", \"way\", \"way\", \"wear\", \"wear\", \"well\", \"well\", \"well\", \"whenever\", \"whole\", \"wind\", \"wine\", \"wings\", \"without\", \"wonder\", \"wont\", \"wont\", \"wont\", \"world\", \"would\", \"would\", \"wrong\", \"wrong\", \"yeah\", \"youll\", \"youll\", \"youre\", \"youre\", \"youre\", \"youre\"]}, \"R\": 30, \"lambda.step\": 0.01, \"plot.opts\": {\"xlab\": \"PC1\", \"ylab\": \"PC2\"}, \"topic.order\": [2, 5, 1, 4, 3]};\n",
       "\n",
       "function LDAvis_load_lib(url, callback){\n",
       "  var s = document.createElement('script');\n",
       "  s.src = url;\n",
       "  s.async = true;\n",
       "  s.onreadystatechange = s.onload = callback;\n",
       "  s.onerror = function(){console.warn(\"failed to load library \" + url);};\n",
       "  document.getElementsByTagName(\"head\")[0].appendChild(s);\n",
       "}\n",
       "\n",
       "if(typeof(LDAvis) !== \"undefined\"){\n",
       "   // already loaded: just create the visualization\n",
       "   !function(LDAvis){\n",
       "       new LDAvis(\"#\" + \"ldavis_el18436134205539365035624349\", ldavis_el18436134205539365035624349_data);\n",
       "   }(LDAvis);\n",
       "}else if(typeof define === \"function\" && define.amd){\n",
       "   // require.js is available: use it to load d3/LDAvis\n",
       "   require.config({paths: {d3: \"https://d3js.org/d3.v5\"}});\n",
       "   require([\"d3\"], function(d3){\n",
       "      window.d3 = d3;\n",
       "      LDAvis_load_lib(\"https://cdn.jsdelivr.net/gh/bmabey/pyLDAvis@3.4.0/pyLDAvis/js/ldavis.v3.0.0.js\", function(){\n",
       "        new LDAvis(\"#\" + \"ldavis_el18436134205539365035624349\", ldavis_el18436134205539365035624349_data);\n",
       "      });\n",
       "    });\n",
       "}else{\n",
       "    // require.js not available: dynamically load d3 & LDAvis\n",
       "    LDAvis_load_lib(\"https://d3js.org/d3.v5.js\", function(){\n",
       "         LDAvis_load_lib(\"https://cdn.jsdelivr.net/gh/bmabey/pyLDAvis@3.4.0/pyLDAvis/js/ldavis.v3.0.0.js\", function(){\n",
       "                 new LDAvis(\"#\" + \"ldavis_el18436134205539365035624349\", ldavis_el18436134205539365035624349_data);\n",
       "            })\n",
       "         });\n",
       "}\n",
       "</script>"
      ],
      "text/plain": [
       "PreparedData(topic_coordinates=              x         y  topics  cluster       Freq\n",
       "topic                                                \n",
       "1     -0.104440  0.024174       1        1  33.546644\n",
       "4      0.160107  0.033166       2        1  27.767488\n",
       "0     -0.006113 -0.134809       3        1  21.668039\n",
       "3     -0.052772  0.068921       4        1  17.012738\n",
       "2      0.003218  0.008548       5        1   0.005091, topic_info=       Term       Freq      Total Category  logprob  loglift\n",
       "87   talkin  10.000000  10.000000  Default  30.0000  30.0000\n",
       "37     jive   9.000000   9.000000  Default  29.0000  29.0000\n",
       "102    yeah   5.000000   5.000000  Default  28.0000  28.0000\n",
       "210    live   6.000000   6.000000  Default  27.0000  27.0000\n",
       "108    bird   4.000000   4.000000  Default  26.0000  26.0000\n",
       "..      ...        ...        ...      ...      ...      ...\n",
       "71   singin   0.000106   2.772962   Topic5  -5.7034  -0.2888\n",
       "46     long   0.000106   4.418189   Topic5  -5.6994  -0.7505\n",
       "51     make   0.000106   4.185120   Topic5  -5.7008  -0.6978\n",
       "207    life   0.000106   3.682034   Topic5  -5.7011  -0.5700\n",
       "32    gonna   0.000106   3.405911   Topic5  -5.7019  -0.4928\n",
       "\n",
       "[324 rows x 6 columns], token_table=      Topic      Freq       Term\n",
       "term                            \n",
       "258       4  0.830438  afternoon\n",
       "259       4  0.830360    another\n",
       "1         1  0.315694       away\n",
       "1         2  0.315694       away\n",
       "1         3  0.157847       away\n",
       "...     ...       ...        ...\n",
       "104       3  0.585610      youll\n",
       "105       1  0.257705      youre\n",
       "105       2  0.515410      youre\n",
       "105       3  0.128852      youre\n",
       "105       4  0.128852      youre\n",
       "\n",
       "[265 rows x 3 columns], R=30, lambda_step=0.01, plot_opts={'xlab': 'PC1', 'ylab': 'PC2'}, topic_order=[2, 5, 1, 4, 3])"
      ]
     },
     "execution_count": 198,
     "metadata": {},
     "output_type": "execute_result"
    }
   ],
   "source": [
    "pyLDAvis.enable_notebook()\n",
    "vis = pyLDAvis.gensim_models.prepare(lda_model, corpus, id2word)\n",
    "vis"
   ]
  },
  {
   "cell_type": "code",
   "execution_count": 163,
   "metadata": {},
   "outputs": [],
   "source": [
    "#attempt 3 without splitting text in files into sentences\n",
    "# Load the .txt file\n",
    "with open('/Users/maika/My_Notebooks/DSMA/Final Project/lyrics copies/bee_gees_1st copy.txt', 'r') as file:\n",
    "    text = file.read()\n",
    "\n",
    "# Preprocessing steps\n",
    "def preprocess_text(text):\n",
    "    # remove non-ASCII characters\n",
    "    text = re.sub(r'[^\\x00-\\x7F]+', ' ', text)\n",
    "    # replace multiple spaces with a single space\n",
    "    text = re.sub(r'\\s+', ' ', text)\n",
    "    # replace capital letters with lowercase\n",
    "    text = text.lower()\n",
    "    # remove special characters (keep letters, numbers, basic punctuation)\n",
    "    text = re.sub(r'[^a-zA-Z0-9\\s]', '', text)\n",
    "    # strip leading/trailing whitespace\n",
    "    text = text.strip()\n",
    "    # Tokenize into words\n",
    "    tokens = simple_preprocess(str(text), deacc=False)  # deacc=True removes punctuations\n",
    "    # Remove stop words (optional)\n",
    "    from nltk.corpus import stopwords\n",
    "    stop_words = stopwords.words('english')\n",
    "    tokens = [token for token in tokens if token not in stop_words]\n",
    "    return tokens\n",
    "\n",
    "# Apply preprocessing to the entire text\n",
    "processed_text = preprocess_text(text)\n",
    "\n",
    "# Create bigrams and trigrams if needed (optional)\n",
    "from gensim.models import Phrases\n",
    "bigram = Phrases([processed_text], min_count=5, threshold=100) # higher threshold fewer phrases.\n",
    "trigram = Phrases(bigram[[processed_text]], threshold=100)\n",
    "bigram_mod = gensim.models.phrases.Phraser(bigram)\n",
    "trigram_mod = gensim.models.phrases.Phraser(trigram)\n",
    "\n",
    "def make_bigrams(texts):\n",
    "    return [bigram_mod[doc] for doc in texts]\n",
    "\n",
    "def make_trigrams(texts):\n",
    "    return [trigram_mod[bigram_mod[doc]] for doc in texts]\n",
    "\n",
    "data_words_bigrams = make_bigrams([processed_text])\n",
    "data_lemmatized = data_words_bigrams\n",
    "\n",
    "# Create Dictionary and Corpus\n",
    "id2word = corpora.Dictionary(data_lemmatized)\n",
    "corpus = [id2word.doc2bow(text) for text in data_lemmatized]"
   ]
  },
  {
   "cell_type": "code",
   "execution_count": 1,
   "metadata": {},
   "outputs": [
    {
     "ename": "NameError",
     "evalue": "name 'LdaModel' is not defined",
     "output_type": "error",
     "traceback": [
      "\u001b[0;31m---------------------------------------------------------------------------\u001b[0m",
      "\u001b[0;31mNameError\u001b[0m                                 Traceback (most recent call last)",
      "Cell \u001b[0;32mIn[1], line 2\u001b[0m\n\u001b[1;32m      1\u001b[0m \u001b[38;5;66;03m# Build LDA model\u001b[39;00m\n\u001b[0;32m----> 2\u001b[0m lda_model \u001b[38;5;241m=\u001b[39m \u001b[43mLdaModel\u001b[49m(corpus\u001b[38;5;241m=\u001b[39mcorpus,\n\u001b[1;32m      3\u001b[0m                    id2word\u001b[38;5;241m=\u001b[39mid2word,\n\u001b[1;32m      4\u001b[0m                    num_topics\u001b[38;5;241m=\u001b[39m\u001b[38;5;241m5\u001b[39m,  \u001b[38;5;66;03m# Adjust the number of topics as needed\u001b[39;00m\n\u001b[1;32m      5\u001b[0m                    random_state\u001b[38;5;241m=\u001b[39m\u001b[38;5;241m100\u001b[39m,\n\u001b[1;32m      6\u001b[0m                    update_every\u001b[38;5;241m=\u001b[39m\u001b[38;5;241m1\u001b[39m,\n\u001b[1;32m      7\u001b[0m                    chunksize\u001b[38;5;241m=\u001b[39m\u001b[38;5;241m100\u001b[39m,\n\u001b[1;32m      8\u001b[0m                    passes\u001b[38;5;241m=\u001b[39m\u001b[38;5;241m10\u001b[39m,\n\u001b[1;32m      9\u001b[0m                    alpha\u001b[38;5;241m=\u001b[39m\u001b[38;5;124m'\u001b[39m\u001b[38;5;124mauto\u001b[39m\u001b[38;5;124m'\u001b[39m,\n\u001b[1;32m     10\u001b[0m                    per_word_topics\u001b[38;5;241m=\u001b[39m\u001b[38;5;28;01mTrue\u001b[39;00m)\n\u001b[1;32m     12\u001b[0m \u001b[38;5;66;03m# Visualize the topics using pyLDAvis\u001b[39;00m\n\u001b[1;32m     13\u001b[0m pyLDAvis\u001b[38;5;241m.\u001b[39menable_notebook()\n",
      "\u001b[0;31mNameError\u001b[0m: name 'LdaModel' is not defined"
     ]
    }
   ],
   "source": [
    "# Build LDA model\n",
    "lda_model = LdaModel(corpus=corpus,\n",
    "                   id2word=id2word,\n",
    "                   num_topics=5,  # Adjust the number of topics as needed\n",
    "                   random_state=100,\n",
    "                   update_every=1,\n",
    "                   chunksize=100,\n",
    "                   passes=10,\n",
    "                   alpha='auto',\n",
    "                   per_word_topics=True)\n",
    "\n",
    "# Visualize the topics using pyLDAvis\n",
    "pyLDAvis.enable_notebook()\n",
    "vis = pyLDAvis.gensim_models.prepare(lda_model, corpus, id2word) # Update for compatibility\n",
    "display(vis)"
   ]
  },
  {
   "cell_type": "code",
   "execution_count": 165,
   "metadata": {},
   "outputs": [],
   "source": [
    "# ... (rest of your code) ...\n",
    "\n",
    "# Join the preprocessed tokens back into a single string\n",
    "cleaned_text_str = ' '.join(data_lemmatized[0])  # Access the first (and only) document\n",
    "\n",
    "# Save the cleaned text to a new file\n",
    "with open('CLEANED_first.txt', 'w') as outfile:\n",
    "    outfile.write(cleaned_text_str)"
   ]
  }
 ],
 "metadata": {
  "kernelspec": {
   "display_name": "Python 3",
   "language": "python",
   "name": "python3"
  },
  "language_info": {
   "codemirror_mode": {
    "name": "ipython",
    "version": 3
   },
   "file_extension": ".py",
   "mimetype": "text/x-python",
   "name": "python",
   "nbconvert_exporter": "python",
   "pygments_lexer": "ipython3",
   "version": "3.9.6"
  }
 },
 "nbformat": 4,
 "nbformat_minor": 2
}
